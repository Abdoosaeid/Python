{
 "cells": [
  {
   "cell_type": "code",
   "execution_count": 1,
   "id": "26e5d56b-5c4e-44cc-b762-042d02d22ddd",
   "metadata": {},
   "outputs": [],
   "source": [
    "import pandas as pd "
   ]
  },
  {
   "cell_type": "code",
   "execution_count": 2,
   "id": "a394737e-84fe-4528-bcae-7666c9ff0bf8",
   "metadata": {},
   "outputs": [],
   "source": [
    "dogs = pd.read_csv(\"dogs_data.csv\")"
   ]
  },
  {
   "cell_type": "code",
   "execution_count": 5,
   "id": "fdb8de2d-74d8-47fd-9e35-db94c3eec1b9",
   "metadata": {},
   "outputs": [
    {
     "name": "stdout",
     "output_type": "stream",
     "text": [
      "      name      breed  color  height_cm  weight_kg date_of_birth\n",
      "0    Bella   Labrador  Brown         56         24    2013-07-01\n",
      "1  Charlie     Poodle  Black         43         24    2016-09-16\n",
      "2     Lucy  Chow Chow  Brown         46         24    2014-08-25\n",
      "3   Cooper  Schnauzer   Gray         49         17    2011-12-11\n",
      "4      Max   Labrador  Black         59         29    2017-01-20\n"
     ]
    }
   ],
   "source": [
    "print(dogs.head())"
   ]
  },
  {
   "cell_type": "code",
   "execution_count": 6,
   "id": "b0abc4dd-390a-4df4-a26e-2d40336eca8d",
   "metadata": {},
   "outputs": [
    {
     "name": "stdout",
     "output_type": "stream",
     "text": [
      "<class 'pandas.core.frame.DataFrame'>\n",
      "RangeIndex: 7 entries, 0 to 6\n",
      "Data columns (total 6 columns):\n",
      " #   Column         Non-Null Count  Dtype \n",
      "---  ------         --------------  ----- \n",
      " 0   name           7 non-null      object\n",
      " 1   breed          7 non-null      object\n",
      " 2   color          7 non-null      object\n",
      " 3   height_cm      7 non-null      int64 \n",
      " 4   weight_kg      7 non-null      int64 \n",
      " 5   date_of_birth  7 non-null      object\n",
      "dtypes: int64(2), object(4)\n",
      "memory usage: 468.0+ bytes\n",
      "None\n"
     ]
    }
   ],
   "source": [
    "print(dogs.info())"
   ]
  },
  {
   "cell_type": "code",
   "execution_count": 8,
   "id": "9455580c-1f24-4517-83c4-425cc3d7ce37",
   "metadata": {},
   "outputs": [
    {
     "name": "stdout",
     "output_type": "stream",
     "text": [
      "(7, 6)\n"
     ]
    }
   ],
   "source": [
    "print(dogs.shape) # Since this is an attribute instead of a method, you write it without parentheses."
   ]
  },
  {
   "cell_type": "code",
   "execution_count": 10,
   "id": "ffd821e9-dfcd-416b-868c-ff4bd293cae6",
   "metadata": {},
   "outputs": [
    {
     "name": "stdout",
     "output_type": "stream",
     "text": [
      "       height_cm  weight_kg\n",
      "count   7.000000   7.000000\n",
      "mean   49.714286  27.714286\n",
      "std    17.960274  22.216468\n",
      "min    18.000000   2.000000\n",
      "25%    44.500000  20.500000\n",
      "50%    49.000000  24.000000\n",
      "75%    57.500000  26.500000\n",
      "max    77.000000  74.000000\n"
     ]
    }
   ],
   "source": [
    "print(dogs.describe())"
   ]
  },
  {
   "cell_type": "code",
   "execution_count": 11,
   "id": "64f78d11-4c25-4687-9c5c-b4eb93418b15",
   "metadata": {},
   "outputs": [
    {
     "name": "stdout",
     "output_type": "stream",
     "text": [
      "[['Bella' 'Labrador' 'Brown' 56 24 '2013-07-01']\n",
      " ['Charlie' 'Poodle' 'Black' 43 24 '2016-09-16']\n",
      " ['Lucy' 'Chow Chow' 'Brown' 46 24 '2014-08-25']\n",
      " ['Cooper' 'Schnauzer' 'Gray' 49 17 '2011-12-11']\n",
      " ['Max' 'Labrador' 'Black' 59 29 '2017-01-20']\n",
      " ['Stella' 'Chihuahua' 'Tan' 18 2 '2015-04-20']\n",
      " ['Bernie' 'St. Bernard' 'White' 77 74 '2018-02-27']]\n"
     ]
    }
   ],
   "source": [
    "print(dogs.values) #contains the data values in a 2-dimensional NumPy array."
   ]
  },
  {
   "cell_type": "code",
   "execution_count": 12,
   "id": "cef2d5b7-c564-4efb-a037-c165706a41f0",
   "metadata": {},
   "outputs": [
    {
     "name": "stdout",
     "output_type": "stream",
     "text": [
      "Index(['name', 'breed', 'color', 'height_cm', 'weight_kg', 'date_of_birth'], dtype='object')\n"
     ]
    }
   ],
   "source": [
    "print(dogs.columns)"
   ]
  },
  {
   "cell_type": "code",
   "execution_count": 14,
   "id": "6eac781d-0154-456b-b087-35d6f200359a",
   "metadata": {},
   "outputs": [
    {
     "name": "stdout",
     "output_type": "stream",
     "text": [
      "RangeIndex(start=0, stop=7, step=1)\n"
     ]
    }
   ],
   "source": [
    "print(dogs.index)"
   ]
  }
 ],
 "metadata": {
  "kernelspec": {
   "display_name": "Python 3 (ipykernel)",
   "language": "python",
   "name": "python3"
  },
  "language_info": {
   "codemirror_mode": {
    "name": "ipython",
    "version": 3
   },
   "file_extension": ".py",
   "mimetype": "text/x-python",
   "name": "python",
   "nbconvert_exporter": "python",
   "pygments_lexer": "ipython3",
   "version": "3.12.6"
  }
 },
 "nbformat": 4,
 "nbformat_minor": 5
}
