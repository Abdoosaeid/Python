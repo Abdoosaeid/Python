{
 "cells": [
  {
   "cell_type": "code",
   "execution_count": 1,
   "id": "3d415d44-7a87-4e39-bd5d-06ad72b3b222",
   "metadata": {},
   "outputs": [],
   "source": [
    "import pandas as pd"
   ]
  },
  {
   "cell_type": "code",
   "execution_count": 2,
   "id": "55343325-fd2b-43d5-92fc-1766dc0ea443",
   "metadata": {},
   "outputs": [],
   "source": [
    "dogs = pd.read_csv(\"dogs_data.csv\")"
   ]
  },
  {
   "cell_type": "markdown",
   "id": "2eb7484a-eded-4938-9601-08094bc67e17",
   "metadata": {},
   "source": [
    "# New columns"
   ]
  },
  {
   "cell_type": "code",
   "execution_count": 3,
   "id": "7dd57ab7-e3f9-4722-b4c8-9fd5a8514f4a",
   "metadata": {},
   "outputs": [],
   "source": [
    "dogs[\"height_m\"] = dogs[\"height_cm\"] / 100"
   ]
  },
  {
   "cell_type": "code",
   "execution_count": 4,
   "id": "aa352ae4-4d49-4714-8603-b2bc156e766d",
   "metadata": {},
   "outputs": [
    {
     "name": "stdout",
     "output_type": "stream",
     "text": [
      "      name        breed  color  height_cm  weight_kg date_of_birth  height_m\n",
      "0    Bella     Labrador  Brown         56         24    2013-07-01      0.56\n",
      "1  Charlie       Poodle  Black         43         24    2016-09-16      0.43\n",
      "2     Lucy    Chow Chow  Brown         46         24    2014-08-25      0.46\n",
      "3   Cooper    Schnauzer   Gray         49         17    2011-12-11      0.49\n",
      "4      Max     Labrador  Black         59         29    2017-01-20      0.59\n",
      "5   Stella    Chihuahua    Tan         18          2    2015-04-20      0.18\n",
      "6   Bernie  St. Bernard  White         77         74    2018-02-27      0.77\n"
     ]
    }
   ],
   "source": [
    "print(dogs)"
   ]
  },
  {
   "cell_type": "code",
   "execution_count": 6,
   "id": "35a1a899-b5a5-4f48-99d6-b9a7932698c3",
   "metadata": {},
   "outputs": [
    {
     "name": "stdout",
     "output_type": "stream",
     "text": [
      "      name      breed  color  height_cm  weight_kg date_of_birth  height_m  \\\n",
      "0    Bella   Labrador  Brown         56         24    2013-07-01      0.56   \n",
      "1  Charlie     Poodle  Black         43         24    2016-09-16      0.43   \n",
      "2     Lucy  Chow Chow  Brown         46         24    2014-08-25      0.46   \n",
      "3   Cooper  Schnauzer   Gray         49         17    2011-12-11      0.49   \n",
      "4      Max   Labrador  Black         59         29    2017-01-20      0.59   \n",
      "\n",
      "          bmi  \n",
      "0   76.530612  \n",
      "1  129.799892  \n",
      "2  113.421550  \n",
      "3   70.803832  \n",
      "4   83.309394  \n"
     ]
    }
   ],
   "source": [
    "dogs [\"bmi\"] = dogs[\"weight_kg\"] / dogs[\"height_m\"] ** 2\n",
    "print(dogs.head())"
   ]
  },
  {
   "cell_type": "markdown",
   "id": "fbbf8f4b-5a9a-4db1-9884-712a24111cb5",
   "metadata": {},
   "source": [
    "## Multiple manipulations"
   ]
  },
  {
   "cell_type": "code",
   "execution_count": 7,
   "id": "8936c911-d216-44b9-933d-7f9d3db89d47",
   "metadata": {},
   "outputs": [
    {
     "data": {
      "text/html": [
       "<div>\n",
       "<style scoped>\n",
       "    .dataframe tbody tr th:only-of-type {\n",
       "        vertical-align: middle;\n",
       "    }\n",
       "\n",
       "    .dataframe tbody tr th {\n",
       "        vertical-align: top;\n",
       "    }\n",
       "\n",
       "    .dataframe thead th {\n",
       "        text-align: right;\n",
       "    }\n",
       "</style>\n",
       "<table border=\"1\" class=\"dataframe\">\n",
       "  <thead>\n",
       "    <tr style=\"text-align: right;\">\n",
       "      <th></th>\n",
       "      <th>name</th>\n",
       "      <th>height_cm</th>\n",
       "      <th>bmi</th>\n",
       "    </tr>\n",
       "  </thead>\n",
       "  <tbody>\n",
       "    <tr>\n",
       "      <th>4</th>\n",
       "      <td>Max</td>\n",
       "      <td>59</td>\n",
       "      <td>83.309394</td>\n",
       "    </tr>\n",
       "    <tr>\n",
       "      <th>0</th>\n",
       "      <td>Bella</td>\n",
       "      <td>56</td>\n",
       "      <td>76.530612</td>\n",
       "    </tr>\n",
       "    <tr>\n",
       "      <th>3</th>\n",
       "      <td>Cooper</td>\n",
       "      <td>49</td>\n",
       "      <td>70.803832</td>\n",
       "    </tr>\n",
       "    <tr>\n",
       "      <th>5</th>\n",
       "      <td>Stella</td>\n",
       "      <td>18</td>\n",
       "      <td>61.728395</td>\n",
       "    </tr>\n",
       "  </tbody>\n",
       "</table>\n",
       "</div>"
      ],
      "text/plain": [
       "     name  height_cm        bmi\n",
       "4     Max         59  83.309394\n",
       "0   Bella         56  76.530612\n",
       "3  Cooper         49  70.803832\n",
       "5  Stella         18  61.728395"
      ]
     },
     "execution_count": 7,
     "metadata": {},
     "output_type": "execute_result"
    }
   ],
   "source": [
    "bmi_lt_100 = dogs[dogs[\"bmi\"] < 100]\n",
    "bmi_lt_100_height = bmi_lt_100.sort_values(\"height_cm\",ascending=False)\n",
    "bmi_lt_100_height[[\"name\",\"height_cm\",\"bmi\"]]"
   ]
  }
 ],
 "metadata": {
  "kernelspec": {
   "display_name": "Python 3 (ipykernel)",
   "language": "python",
   "name": "python3"
  },
  "language_info": {
   "codemirror_mode": {
    "name": "ipython",
    "version": 3
   },
   "file_extension": ".py",
   "mimetype": "text/x-python",
   "name": "python",
   "nbconvert_exporter": "python",
   "pygments_lexer": "ipython3",
   "version": "3.12.6"
  }
 },
 "nbformat": 4,
 "nbformat_minor": 5
}
