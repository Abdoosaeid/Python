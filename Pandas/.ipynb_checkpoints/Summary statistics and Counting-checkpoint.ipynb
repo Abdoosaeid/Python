{
 "cells": [
  {
   "cell_type": "markdown",
   "id": "03fab072-c54a-438b-b1e3-33f53854c42f",
   "metadata": {},
   "source": [
    "# Statistics"
   ]
  },
  {
   "cell_type": "code",
   "execution_count": 1,
   "id": "53bb3aad-bde8-4960-ac9a-af06c12fa7b4",
   "metadata": {},
   "outputs": [],
   "source": [
    "import pandas as pd "
   ]
  },
  {
   "cell_type": "code",
   "execution_count": 2,
   "id": "c3e75f80-15d9-4f26-964a-97ea09d2ed1f",
   "metadata": {},
   "outputs": [],
   "source": [
    "dogs = pd.read_csv(\"dogs_data.csv\")"
   ]
  },
  {
   "cell_type": "code",
   "execution_count": 3,
   "id": "008a53d2-b6f2-475f-84f6-b260399dfa28",
   "metadata": {},
   "outputs": [
    {
     "data": {
      "text/plain": [
       "np.float64(49.714285714285715)"
      ]
     },
     "execution_count": 3,
     "metadata": {},
     "output_type": "execute_result"
    }
   ],
   "source": [
    "dogs[\"height_cm\"].mean()"
   ]
  },
  {
   "cell_type": "markdown",
   "id": "7fb4f2b7-3621-4138-9dfe-773061cdf577",
   "metadata": {},
   "source": [
    "## Summarizing dates "
   ]
  },
  {
   "cell_type": "code",
   "execution_count": 5,
   "id": "0ebb8c09-39fd-473c-88b5-813593e3b609",
   "metadata": {},
   "outputs": [
    {
     "data": {
      "text/plain": [
       "'2011-12-11'"
      ]
     },
     "execution_count": 5,
     "metadata": {},
     "output_type": "execute_result"
    }
   ],
   "source": [
    "dogs[\"date_of_birth\"].min()"
   ]
  },
  {
   "cell_type": "code",
   "execution_count": 6,
   "id": "c8aad0bc-72e1-47dc-b2e5-266a5cd821c0",
   "metadata": {},
   "outputs": [
    {
     "data": {
      "text/plain": [
       "'2018-02-27'"
      ]
     },
     "execution_count": 6,
     "metadata": {},
     "output_type": "execute_result"
    }
   ],
   "source": [
    "dogs[\"date_of_birth\"].max()"
   ]
  },
  {
   "cell_type": "markdown",
   "id": "8a1ba088-3eb0-438b-9f99-b273bcfbd134",
   "metadata": {},
   "source": [
    "## The .agg() method"
   ]
  },
  {
   "cell_type": "code",
   "execution_count": 7,
   "id": "d2d1b6f3-e415-45f1-91a2-b754c9ccbb0e",
   "metadata": {},
   "outputs": [],
   "source": [
    "def pct30(column):\n",
    "    return column.quantile(0.3)"
   ]
  },
  {
   "cell_type": "code",
   "execution_count": 8,
   "id": "f4cb8986-1418-4bf9-bee7-8e48acc872b9",
   "metadata": {},
   "outputs": [
    {
     "data": {
      "text/plain": [
       "np.float64(22.599999999999998)"
      ]
     },
     "execution_count": 8,
     "metadata": {},
     "output_type": "execute_result"
    }
   ],
   "source": [
    "dogs[\"weight_kg\"].agg(pct30)"
   ]
  },
  {
   "cell_type": "code",
   "execution_count": 9,
   "id": "3b4b5786-e9fe-4ff4-a10c-9cb3aa33ba24",
   "metadata": {},
   "outputs": [
    {
     "data": {
      "text/plain": [
       "weight_kg    22.6\n",
       "height_cm    45.4\n",
       "dtype: float64"
      ]
     },
     "execution_count": 9,
     "metadata": {},
     "output_type": "execute_result"
    }
   ],
   "source": [
    "dogs[[\"weight_kg\",\"height_cm\"]].agg(pct30)"
   ]
  },
  {
   "cell_type": "code",
   "execution_count": 10,
   "id": "512b7405-371f-4617-8550-e0a925870b5b",
   "metadata": {},
   "outputs": [],
   "source": [
    "def pct40(column):\n",
    "    return column.quantile(0.4)"
   ]
  },
  {
   "cell_type": "code",
   "execution_count": 11,
   "id": "bd90f89d-d508-4ac3-986f-1c6599f00863",
   "metadata": {},
   "outputs": [
    {
     "data": {
      "text/plain": [
       "pct30    22.6\n",
       "pct40    24.0\n",
       "Name: weight_kg, dtype: float64"
      ]
     },
     "execution_count": 11,
     "metadata": {},
     "output_type": "execute_result"
    }
   ],
   "source": [
    "dogs[\"weight_kg\"].agg([pct30,pct40])"
   ]
  },
  {
   "cell_type": "markdown",
   "id": "6e427076-8266-4c96-9e67-56ba6e107df9",
   "metadata": {},
   "source": [
    "## Cumulative sum"
   ]
  },
  {
   "cell_type": "code",
   "execution_count": 12,
   "id": "a6d19aca-c24d-40a7-a5b3-54726671ddc7",
   "metadata": {},
   "outputs": [
    {
     "data": {
      "text/plain": [
       "0    24\n",
       "1    24\n",
       "2    24\n",
       "3    17\n",
       "4    29\n",
       "5     2\n",
       "6    74\n",
       "Name: weight_kg, dtype: int64"
      ]
     },
     "execution_count": 12,
     "metadata": {},
     "output_type": "execute_result"
    }
   ],
   "source": [
    "dogs[\"weight_kg\"]"
   ]
  },
  {
   "cell_type": "code",
   "execution_count": 13,
   "id": "2756aab7-79d3-4c3b-a6f8-1a547da49309",
   "metadata": {},
   "outputs": [
    {
     "data": {
      "text/plain": [
       "0     24\n",
       "1     48\n",
       "2     72\n",
       "3     89\n",
       "4    118\n",
       "5    120\n",
       "6    194\n",
       "Name: weight_kg, dtype: int64"
      ]
     },
     "execution_count": 13,
     "metadata": {},
     "output_type": "execute_result"
    }
   ],
   "source": [
    "dogs[\"weight_kg\"].cumsum()"
   ]
  },
  {
   "cell_type": "code",
   "execution_count": 14,
   "id": "ca8a2bce-865d-4ba7-b901-1fe13eac4a55",
   "metadata": {},
   "outputs": [
    {
     "data": {
      "text/plain": [
       "0    24\n",
       "1    24\n",
       "2    24\n",
       "3    24\n",
       "4    29\n",
       "5    29\n",
       "6    74\n",
       "Name: weight_kg, dtype: int64"
      ]
     },
     "execution_count": 14,
     "metadata": {},
     "output_type": "execute_result"
    }
   ],
   "source": [
    "dogs[\"weight_kg\"].cummax()"
   ]
  },
  {
   "cell_type": "code",
   "execution_count": 15,
   "id": "e9f01adb-49fc-4cc0-8a8f-9669fac24b4e",
   "metadata": {},
   "outputs": [
    {
     "data": {
      "text/plain": [
       "0            24\n",
       "1           576\n",
       "2         13824\n",
       "3        235008\n",
       "4       6815232\n",
       "5      13630464\n",
       "6    1008654336\n",
       "Name: weight_kg, dtype: int64"
      ]
     },
     "execution_count": 15,
     "metadata": {},
     "output_type": "execute_result"
    }
   ],
   "source": [
    "dogs[\"weight_kg\"].cumprod()"
   ]
  },
  {
   "cell_type": "markdown",
   "id": "f54c3af5-60ff-4b60-a451-8ca60810084d",
   "metadata": {},
   "source": [
    "# Counting "
   ]
  },
  {
   "cell_type": "markdown",
   "id": "6381f536-e14d-4dc8-9ac4-9ba18519b722",
   "metadata": {},
   "source": [
    "### how to summarize categorical data using counting."
   ]
  },
  {
   "cell_type": "code",
   "execution_count": 17,
   "id": "12955c2b-baac-4abe-9b93-6ef386a27e3d",
   "metadata": {},
   "outputs": [],
   "source": [
    "vet_visits = pd.read_csv(\"Vet_visit.csv\")"
   ]
  },
  {
   "cell_type": "code",
   "execution_count": 20,
   "id": "bfa231fd-3be8-4836-914f-ce494e69b8fe",
   "metadata": {},
   "outputs": [
    {
     "name": "stdout",
     "output_type": "stream",
     "text": [
      "         date    name      breed  weight_kg\n",
      "0  2018-09-02   Bella   Labrador      24.87\n",
      "1  2019-06-07     Max   Labrador      28.35\n",
      "2  2018-01-17  Stella  Chihuahua       1.51\n",
      "3  2019-10-19    Lucy  Chow Chow      24.07\n",
      "4  2018-01-20  Stella  Chihuahua       2.83\n"
     ]
    }
   ],
   "source": [
    "print(vet_visits.head())"
   ]
  },
  {
   "cell_type": "markdown",
   "id": "f0293c1c-ed90-41dd-84b2-341fb93d883f",
   "metadata": {},
   "source": [
    "## Dropping duplicate names"
   ]
  },
  {
   "cell_type": "markdown",
   "id": "3362bc79-4403-4145-81f2-0ab9b2cd1df1",
   "metadata": {},
   "source": [
    "vet_visits.drop_duplicates(subset=\"name\")"
   ]
  },
  {
   "cell_type": "code",
   "execution_count": 26,
   "id": "8a565f6d-ce96-4b27-b3ed-0f12fd111c78",
   "metadata": {},
   "outputs": [
    {
     "name": "stdout",
     "output_type": "stream",
     "text": [
      "         date    name      breed  weight_kg\n",
      "0  2018-09-02   Bella   Labrador      24.87\n",
      "1  2019-06-07     Max   Labrador      28.35\n",
      "2  2018-01-17  Stella  Chihuahua       1.51\n",
      "3  2019-10-19    Lucy  Chow Chow      24.07\n",
      "5  2019-06-07     Max  Chow Chow      24.01\n"
     ]
    }
   ],
   "source": [
    "unique_dogs = vet_visits.drop_duplicates(subset=[\"name\",\"breed\"])\n",
    "print(unique_dogs.head())"
   ]
  },
  {
   "cell_type": "markdown",
   "id": "f8b3c9eb-7fd7-401d-97ee-398d7eae914a",
   "metadata": {},
   "source": [
    "## count values "
   ]
  },
  {
   "cell_type": "code",
   "execution_count": 27,
   "id": "3c00c1d0-4ab7-4e9e-87d8-ed306615ed76",
   "metadata": {},
   "outputs": [
    {
     "data": {
      "text/plain": [
       "breed\n",
       "Chow Chow    7\n",
       "Labrador     6\n",
       "Poodle       6\n",
       "Beagle       6\n",
       "Chihuahua    5\n",
       "Bulldog      3\n",
       "Name: count, dtype: int64"
      ]
     },
     "execution_count": 27,
     "metadata": {},
     "output_type": "execute_result"
    }
   ],
   "source": [
    "unique_dogs[\"breed\"].value_counts()"
   ]
  },
  {
   "cell_type": "code",
   "execution_count": 28,
   "id": "993e23b2-0102-4d27-82dd-1821d642ea68",
   "metadata": {
    "scrolled": true
   },
   "outputs": [
    {
     "data": {
      "text/plain": [
       "breed\n",
       "Chow Chow    7\n",
       "Labrador     6\n",
       "Poodle       6\n",
       "Beagle       6\n",
       "Chihuahua    5\n",
       "Bulldog      3\n",
       "Name: count, dtype: int64"
      ]
     },
     "execution_count": 28,
     "metadata": {},
     "output_type": "execute_result"
    }
   ],
   "source": [
    "unique_dogs[\"breed\"].value_counts(sort=True)"
   ]
  },
  {
   "cell_type": "markdown",
   "id": "de6f9b95-7fbe-4820-b99c-6af61fcd94bc",
   "metadata": {},
   "source": [
    "## proportion"
   ]
  },
  {
   "cell_type": "markdown",
   "id": "df4bd05e-4c24-4997-82f8-dba17b6efe6f",
   "metadata": {},
   "source": [
    "- The normalize argument can be used to turn the counts into proportions of the total"
   ]
  },
  {
   "cell_type": "code",
   "execution_count": 30,
   "id": "85b9cb12-c15a-4836-8541-f909d7cb537f",
   "metadata": {
    "scrolled": true
   },
   "outputs": [
    {
     "data": {
      "text/plain": [
       "breed\n",
       "Chow Chow    0.212121\n",
       "Labrador     0.181818\n",
       "Poodle       0.181818\n",
       "Beagle       0.181818\n",
       "Chihuahua    0.151515\n",
       "Bulldog      0.090909\n",
       "Name: proportion, dtype: float64"
      ]
     },
     "execution_count": 30,
     "metadata": {},
     "output_type": "execute_result"
    }
   ],
   "source": [
    "unique_dogs[\"breed\"].value_counts(normalize=True)"
   ]
  },
  {
   "cell_type": "markdown",
   "id": "3f2125ef-5ce7-4cfd-ba0a-099149b86a04",
   "metadata": {},
   "source": [
    "# Grouped summary statistics"
   ]
  },
  {
   "cell_type": "code",
   "execution_count": 33,
   "id": "c3355355-b534-4e16-b438-0a7ba0907fdd",
   "metadata": {},
   "outputs": [
    {
     "name": "stdout",
     "output_type": "stream",
     "text": [
      "26.5\n",
      "24.0\n",
      "74.0\n",
      "17.0\n",
      "2.0\n"
     ]
    }
   ],
   "source": [
    "print(dogs [dogs [ \"color\"] == \"Black\"] [\"weight_kg\"].mean())\n",
    "print(dogs [dogs [ \"color\"] == \"Brown\"] [\"weight_kg\"].mean())\n",
    "print(dogs [dogs [ \"color\"] == \"White\"] [\"weight_kg\"].mean())\n",
    "print(dogs [dogs [ \"color\"] == \"Gray\"] [\"weight_kg\"].mean())\n",
    "print(dogs [dogs [ \"color\"] == \"Tan\"] [\"weight_kg\"].mean())"
   ]
  },
  {
   "cell_type": "code",
   "execution_count": 34,
   "id": "1195146a-23a4-4d09-9a85-ae64918f063d",
   "metadata": {},
   "outputs": [
    {
     "data": {
      "text/plain": [
       "color\n",
       "Black    26.5\n",
       "Brown    24.0\n",
       "Gray     17.0\n",
       "Tan       2.0\n",
       "White    74.0\n",
       "Name: weight_kg, dtype: float64"
      ]
     },
     "execution_count": 34,
     "metadata": {},
     "output_type": "execute_result"
    }
   ],
   "source": [
    "dogs.groupby(\"color\")[\"weight_kg\"].mean()"
   ]
  },
  {
   "cell_type": "markdown",
   "id": "09bd1255-1d5e-4840-a74a-3411cbf49cf2",
   "metadata": {},
   "source": [
    "## Multiple grouped summaries"
   ]
  },
  {
   "cell_type": "code",
   "execution_count": 41,
   "id": "84e04c2d-600a-45ff-a052-7baa16887dea",
   "metadata": {},
   "outputs": [
    {
     "name": "stdout",
     "output_type": "stream",
     "text": [
      "       min  max  sum\n",
      "color               \n",
      "Black   24   29   53\n",
      "Brown   24   24   48\n",
      "Gray    17   17   17\n",
      "Tan      2    2    2\n",
      "White   74   74   74\n"
     ]
    }
   ],
   "source": [
    "print(dogs.groupby(\"color\")[\"weight_kg\"].agg([\"min\",\"max\",\"sum\"]))"
   ]
  },
  {
   "cell_type": "code",
   "execution_count": 43,
   "id": "de82f2ff-93e0-40e7-941e-ab457215f4f1",
   "metadata": {},
   "outputs": [
    {
     "name": "stdout",
     "output_type": "stream",
     "text": [
      "color  breed      \n",
      "Black  Labrador       29.0\n",
      "       Poodle         24.0\n",
      "Brown  Chow Chow      24.0\n",
      "       Labrador       24.0\n",
      "Gray   Schnauzer      17.0\n",
      "Tan    Chihuahua       2.0\n",
      "White  St. Bernard    74.0\n",
      "Name: weight_kg, dtype: float64\n"
     ]
    }
   ],
   "source": [
    "print(dogs.groupby([\"color\",\"breed\"])[\"weight_kg\"].mean())"
   ]
  }
 ],
 "metadata": {
  "kernelspec": {
   "display_name": "Python 3 (ipykernel)",
   "language": "python",
   "name": "python3"
  },
  "language_info": {
   "codemirror_mode": {
    "name": "ipython",
    "version": 3
   },
   "file_extension": ".py",
   "mimetype": "text/x-python",
   "name": "python",
   "nbconvert_exporter": "python",
   "pygments_lexer": "ipython3",
   "version": "3.12.7"
  }
 },
 "nbformat": 4,
 "nbformat_minor": 5
}
