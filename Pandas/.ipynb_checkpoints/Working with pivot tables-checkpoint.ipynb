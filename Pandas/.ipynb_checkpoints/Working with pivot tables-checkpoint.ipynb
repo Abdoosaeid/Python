{
 "cells": [
  {
   "cell_type": "code",
   "execution_count": 1,
   "id": "6623f709-8740-4f98-bef9-352500a0549e",
   "metadata": {},
   "outputs": [],
   "source": [
    "import pandas as pd"
   ]
  },
  {
   "cell_type": "code",
   "execution_count": 8,
   "id": "182b1cba-cc18-4347-b0ae-a1a95282ff5b",
   "metadata": {},
   "outputs": [],
   "source": [
    "dog_pack = pd.read_csv(\"dogs_data.csv\").iloc[:,1:5]"
   ]
  },
  {
   "cell_type": "code",
   "execution_count": 9,
   "id": "7f33c7a7-53de-4795-aa6c-dab86fc46738",
   "metadata": {},
   "outputs": [
    {
     "name": "stdout",
     "output_type": "stream",
     "text": [
      "         breed  color  height_cm  weight_kg\n",
      "0     Labrador  Brown         56         24\n",
      "1       Poodle  Black         43         24\n",
      "2    Chow Chow  Brown         46         24\n",
      "3    Schnauzer   Gray         49         17\n",
      "4     Labrador  Black         59         29\n",
      "5    Chihuahua    Tan         18          2\n",
      "6  St. Bernard  White         77         74\n"
     ]
    }
   ],
   "source": [
    "print(dog_pack)"
   ]
  },
  {
   "cell_type": "code",
   "execution_count": 10,
   "id": "51ae6f04-af98-4888-bfd1-721f476ead94",
   "metadata": {},
   "outputs": [
    {
     "name": "stdout",
     "output_type": "stream",
     "text": [
      "color        Black  Brown  Gray   Tan  White\n",
      "breed                                       \n",
      "Chihuahua      NaN    NaN   NaN  18.0    NaN\n",
      "Chow Chow      NaN   46.0   NaN   NaN    NaN\n",
      "Labrador      59.0   56.0   NaN   NaN    NaN\n",
      "Poodle        43.0    NaN   NaN   NaN    NaN\n",
      "Schnauzer      NaN    NaN  49.0   NaN    NaN\n",
      "St. Bernard    NaN    NaN   NaN   NaN   77.0\n"
     ]
    }
   ],
   "source": [
    "dogs_height_by_breed_vs_color = dog_pack.pivot_table(\"height_cm\",index=\"breed\",columns=\"color\")\n",
    "print(dogs_height_by_breed_vs_color)"
   ]
  },
  {
   "cell_type": "markdown",
   "id": "71e06ddc-e1c7-410a-8cf0-87b9f1feb1db",
   "metadata": {},
   "source": [
    "##  .loc[] + slicing is a power combo"
   ]
  },
  {
   "cell_type": "code",
   "execution_count": 12,
   "id": "5c89f8d6-6952-4433-ac65-7add18089951",
   "metadata": {
    "scrolled": true
   },
   "outputs": [
    {
     "data": {
      "text/html": [
       "<div>\n",
       "<style scoped>\n",
       "    .dataframe tbody tr th:only-of-type {\n",
       "        vertical-align: middle;\n",
       "    }\n",
       "\n",
       "    .dataframe tbody tr th {\n",
       "        vertical-align: top;\n",
       "    }\n",
       "\n",
       "    .dataframe thead th {\n",
       "        text-align: right;\n",
       "    }\n",
       "</style>\n",
       "<table border=\"1\" class=\"dataframe\">\n",
       "  <thead>\n",
       "    <tr style=\"text-align: right;\">\n",
       "      <th>color</th>\n",
       "      <th>Black</th>\n",
       "      <th>Brown</th>\n",
       "      <th>Gray</th>\n",
       "      <th>Tan</th>\n",
       "      <th>White</th>\n",
       "    </tr>\n",
       "    <tr>\n",
       "      <th>breed</th>\n",
       "      <th></th>\n",
       "      <th></th>\n",
       "      <th></th>\n",
       "      <th></th>\n",
       "      <th></th>\n",
       "    </tr>\n",
       "  </thead>\n",
       "  <tbody>\n",
       "    <tr>\n",
       "      <th>Chow Chow</th>\n",
       "      <td>NaN</td>\n",
       "      <td>46.0</td>\n",
       "      <td>NaN</td>\n",
       "      <td>NaN</td>\n",
       "      <td>NaN</td>\n",
       "    </tr>\n",
       "    <tr>\n",
       "      <th>Labrador</th>\n",
       "      <td>59.0</td>\n",
       "      <td>56.0</td>\n",
       "      <td>NaN</td>\n",
       "      <td>NaN</td>\n",
       "      <td>NaN</td>\n",
       "    </tr>\n",
       "    <tr>\n",
       "      <th>Poodle</th>\n",
       "      <td>43.0</td>\n",
       "      <td>NaN</td>\n",
       "      <td>NaN</td>\n",
       "      <td>NaN</td>\n",
       "      <td>NaN</td>\n",
       "    </tr>\n",
       "  </tbody>\n",
       "</table>\n",
       "</div>"
      ],
      "text/plain": [
       "color      Black  Brown  Gray  Tan  White\n",
       "breed                                    \n",
       "Chow Chow    NaN   46.0   NaN  NaN    NaN\n",
       "Labrador    59.0   56.0   NaN  NaN    NaN\n",
       "Poodle      43.0    NaN   NaN  NaN    NaN"
      ]
     },
     "execution_count": 12,
     "metadata": {},
     "output_type": "execute_result"
    }
   ],
   "source": [
    "dogs_height_by_breed_vs_color.loc[\"Chow Chow\":\"Poodle\"]"
   ]
  },
  {
   "cell_type": "markdown",
   "id": "2e319a8e-7719-4a5f-b8df-9da920b07849",
   "metadata": {},
   "source": [
    "##  The axis argument"
   ]
  },
  {
   "cell_type": "code",
   "execution_count": 13,
   "id": "bf28b2f8-0714-4530-a720-5c26a0a99e38",
   "metadata": {},
   "outputs": [
    {
     "data": {
      "text/plain": [
       "color\n",
       "Black    51.0\n",
       "Brown    51.0\n",
       "Gray     49.0\n",
       "Tan      18.0\n",
       "White    77.0\n",
       "dtype: float64"
      ]
     },
     "execution_count": 13,
     "metadata": {},
     "output_type": "execute_result"
    }
   ],
   "source": [
    "dogs_height_by_breed_vs_color.mean(axis=\"index\")"
   ]
  },
  {
   "cell_type": "code",
   "execution_count": 14,
   "id": "a07654d7-c307-44d0-bd9a-7d89e966f4fd",
   "metadata": {},
   "outputs": [
    {
     "data": {
      "text/plain": [
       "breed\n",
       "Chihuahua      18.0\n",
       "Chow Chow      46.0\n",
       "Labrador       57.5\n",
       "Poodle         43.0\n",
       "Schnauzer      49.0\n",
       "St. Bernard    77.0\n",
       "dtype: float64"
      ]
     },
     "execution_count": 14,
     "metadata": {},
     "output_type": "execute_result"
    }
   ],
   "source": [
    "dogs_height_by_breed_vs_color.mean(axis=\"columns\")"
   ]
  }
 ],
 "metadata": {
  "kernelspec": {
   "display_name": "Python 3 (ipykernel)",
   "language": "python",
   "name": "python3"
  },
  "language_info": {
   "codemirror_mode": {
    "name": "ipython",
    "version": 3
   },
   "file_extension": ".py",
   "mimetype": "text/x-python",
   "name": "python",
   "nbconvert_exporter": "python",
   "pygments_lexer": "ipython3",
   "version": "3.12.7"
  }
 },
 "nbformat": 4,
 "nbformat_minor": 5
}
