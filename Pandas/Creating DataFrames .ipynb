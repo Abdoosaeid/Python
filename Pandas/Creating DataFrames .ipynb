{
 "cells": [
  {
   "cell_type": "code",
   "execution_count": 1,
   "id": "1677f52f-be7f-415d-bb74-6daf51ec7b5e",
   "metadata": {},
   "outputs": [],
   "source": [
    "import pandas as pd "
   ]
  },
  {
   "cell_type": "code",
   "execution_count": 3,
   "id": "e6db6366-d9fc-496c-9a80-30f24667f795",
   "metadata": {},
   "outputs": [
    {
     "data": {
      "text/plain": [
       "\"Charlotte's Web\""
      ]
     },
     "execution_count": 3,
     "metadata": {},
     "output_type": "execute_result"
    }
   ],
   "source": [
    "my_dict = {\n",
    "\"title\": \"Charlotte's Web\",\n",
    "\"author\": \"E.B. White\",\n",
    "\"published\": 1952}\n",
    "my_dict[\"title\"]"
   ]
  },
  {
   "cell_type": "markdown",
   "id": "518fe566-a729-43ed-aa04-0d9508eb0a04",
   "metadata": {},
   "source": [
    "# Creating DataFrames\n",
    "- From a list of dictionaries \n",
    "- From a dictionary of lists"
   ]
  },
  {
   "cell_type": "markdown",
   "id": "5c223d83-6c05-498f-8209-d97ebe25c789",
   "metadata": {},
   "source": [
    "##  List of dictionaries - by row"
   ]
  },
  {
   "cell_type": "code",
   "execution_count": 4,
   "id": "e7be041b-72d9-4977-b644-9a552ab26e7a",
   "metadata": {},
   "outputs": [],
   "source": [
    "List_of_dicts = [\n",
    "{\"name\": \"Ginger\", \"breed\": \"Dachshund\", \"height_cm\": 22,\n",
    "\"weight_kg\": 10, \"date_of_birth\": \"2019-03-14\"},\n",
    "{\"name\": \"Scout\", \"breed\": \"Dalmatian\", \"height_cm\": 59,\n",
    "\"weight_kg\": 25, \"date_of_birth\": \"2019-05-09\"}\n",
    "]"
   ]
  },
  {
   "cell_type": "code",
   "execution_count": 7,
   "id": "1f3466fa-8c5f-42b6-a833-e82d2e404eb1",
   "metadata": {},
   "outputs": [
    {
     "name": "stdout",
     "output_type": "stream",
     "text": [
      "     name      breed  height_cm  weight_kg date_of_birth\n",
      "0  Ginger  Dachshund         22         10    2019-03-14\n",
      "1   Scout  Dalmatian         59         25    2019-05-09\n"
     ]
    }
   ],
   "source": [
    "new_dogs = pd.DataFrame(List_of_dicts)\n",
    "print(new_dogs)"
   ]
  },
  {
   "cell_type": "markdown",
   "id": "8a383c08-6bf9-42d1-88dd-4b6c72e60e3a",
   "metadata": {},
   "source": [
    "## Dictionary of lists - by column"
   ]
  },
  {
   "cell_type": "markdown",
   "id": "9a80c2c9-48c7-4fd4-a88a-e68d498f48b6",
   "metadata": {},
   "source": [
    "- Key -> column name \n",
    "- Value -> list of column values"
   ]
  },
  {
   "cell_type": "code",
   "execution_count": 9,
   "id": "db9edacb-eb7e-4699-8f31-53f18f5ad5ff",
   "metadata": {},
   "outputs": [],
   "source": [
    "dict_of_lists = {\n",
    "\"name\": [\"Ginger\", \"Scout\"],\n",
    "\"breed\": [\"Dachshund\", \"Dalmatian\"],\n",
    "\"height_cm\": [22, 59],\n",
    "\"weight_kg\": [10, 25],\n",
    "\"date_of_birth\": [\"2019-03-14\",\n",
    "\"2019-05-09\"]\n",
    "}    \n",
    "new_dogs = pd. DataFrame(dict_of_lists)"
   ]
  },
  {
   "cell_type": "code",
   "execution_count": 10,
   "id": "8778e1ac-b08b-4a1d-82ee-59e3146a4133",
   "metadata": {},
   "outputs": [
    {
     "name": "stdout",
     "output_type": "stream",
     "text": [
      "     name      breed  height_cm  weight_kg date_of_birth\n",
      "0  Ginger  Dachshund         22         10    2019-03-14\n",
      "1   Scout  Dalmatian         59         25    2019-05-09\n"
     ]
    }
   ],
   "source": [
    "print(new_dogs)"
   ]
  },
  {
   "cell_type": "markdown",
   "id": "44194c95-b175-4966-a9d1-a94491ef8d4f",
   "metadata": {},
   "source": [
    "# Reading and writing CSVs"
   ]
  },
  {
   "cell_type": "markdown",
   "id": "a94725a4-5973-4881-ba1a-44937a2be474",
   "metadata": {},
   "source": [
    "## CSV to DataFrame"
   ]
  },
  {
   "cell_type": "code",
   "execution_count": 11,
   "id": "51828031-2b88-4908-9c3b-3db9799fba31",
   "metadata": {},
   "outputs": [],
   "source": [
    "dogs = pd.read_csv(\"dogs_data.csv\")"
   ]
  },
  {
   "cell_type": "code",
   "execution_count": 12,
   "id": "a1f88e54-cc8e-4d85-bd54-a1c645427808",
   "metadata": {},
   "outputs": [
    {
     "name": "stdout",
     "output_type": "stream",
     "text": [
      "      name        breed  color  height_cm  weight_kg date_of_birth\n",
      "0    Bella     Labrador  Brown         56         24    2013-07-01\n",
      "1  Charlie       Poodle  Black         43         24    2016-09-16\n",
      "2     Lucy    Chow Chow  Brown         46         24    2014-08-25\n",
      "3   Cooper    Schnauzer   Gray         49         17    2011-12-11\n",
      "4      Max     Labrador  Black         59         29    2017-01-20\n",
      "5   Stella    Chihuahua    Tan         18          2    2015-04-20\n",
      "6   Bernie  St. Bernard  White         77         74    2018-02-27\n"
     ]
    }
   ],
   "source": [
    "print(dogs)"
   ]
  },
  {
   "cell_type": "code",
   "execution_count": 14,
   "id": "e4b6339e-3922-480a-b48d-89f9d6151b44",
   "metadata": {},
   "outputs": [
    {
     "name": "stdout",
     "output_type": "stream",
     "text": [
      "      name        breed  color  height_cm  weight_kg date_of_birth         bmi\n",
      "0    Bella     Labrador  Brown         56         24    2013-07-01   76.530612\n",
      "1  Charlie       Poodle  Black         43         24    2016-09-16  129.799892\n",
      "2     Lucy    Chow Chow  Brown         46         24    2014-08-25  113.421550\n",
      "3   Cooper    Schnauzer   Gray         49         17    2011-12-11   70.803832\n",
      "4      Max     Labrador  Black         59         29    2017-01-20   83.309394\n",
      "5   Stella    Chihuahua    Tan         18          2    2015-04-20   61.728395\n",
      "6   Bernie  St. Bernard  White         77         74    2018-02-27  124.810255\n"
     ]
    }
   ],
   "source": [
    "dogs [\"bmi\"] =  dogs[\"weight_kg\"] / ( dogs[\"height_cm\"] / 100) ** 2\n",
    "print( dogs)"
   ]
  },
  {
   "cell_type": "markdown",
   "id": "ae6c4c2a-099f-4e68-bb0c-e8192e8ec654",
   "metadata": {},
   "source": [
    "## DataFrame to CSV"
   ]
  },
  {
   "cell_type": "code",
   "execution_count": 15,
   "id": "6848a8d6-4d3c-47e2-9046-ec45c8c3dfc1",
   "metadata": {},
   "outputs": [],
   "source": [
    "dogs.to_csv(\"new_dogs_with_bmi.csv\")"
   ]
  }
 ],
 "metadata": {
  "kernelspec": {
   "display_name": "Python 3 (ipykernel)",
   "language": "python",
   "name": "python3"
  },
  "language_info": {
   "codemirror_mode": {
    "name": "ipython",
    "version": 3
   },
   "file_extension": ".py",
   "mimetype": "text/x-python",
   "name": "python",
   "nbconvert_exporter": "python",
   "pygments_lexer": "ipython3",
   "version": "3.12.7"
  }
 },
 "nbformat": 4,
 "nbformat_minor": 5
}
