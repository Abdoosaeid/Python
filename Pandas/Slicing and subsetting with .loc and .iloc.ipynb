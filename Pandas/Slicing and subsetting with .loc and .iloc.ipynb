{
 "cells": [
  {
   "cell_type": "code",
   "execution_count": 1,
   "id": "9536f922-fe35-4fde-aaa4-b60131315c04",
   "metadata": {},
   "outputs": [],
   "source": [
    "import pandas as pd "
   ]
  },
  {
   "cell_type": "code",
   "execution_count": 2,
   "id": "e49842a1-7650-48eb-b234-c2271d28b41d",
   "metadata": {},
   "outputs": [],
   "source": [
    "dogs = pd.read_csv(\"dogs_data.csv\")"
   ]
  },
  {
   "cell_type": "code",
   "execution_count": 3,
   "id": "44ef5346-83d9-44da-94aa-d8620bf0fe35",
   "metadata": {},
   "outputs": [
    {
     "data": {
      "text/html": [
       "<div>\n",
       "<style scoped>\n",
       "    .dataframe tbody tr th:only-of-type {\n",
       "        vertical-align: middle;\n",
       "    }\n",
       "\n",
       "    .dataframe tbody tr th {\n",
       "        vertical-align: top;\n",
       "    }\n",
       "\n",
       "    .dataframe thead th {\n",
       "        text-align: right;\n",
       "    }\n",
       "</style>\n",
       "<table border=\"1\" class=\"dataframe\">\n",
       "  <thead>\n",
       "    <tr style=\"text-align: right;\">\n",
       "      <th></th>\n",
       "      <th>name</th>\n",
       "      <th>breed</th>\n",
       "      <th>color</th>\n",
       "      <th>height_cm</th>\n",
       "      <th>weight_kg</th>\n",
       "      <th>date_of_birth</th>\n",
       "    </tr>\n",
       "  </thead>\n",
       "  <tbody>\n",
       "    <tr>\n",
       "      <th>0</th>\n",
       "      <td>Bella</td>\n",
       "      <td>Labrador</td>\n",
       "      <td>Brown</td>\n",
       "      <td>56</td>\n",
       "      <td>24</td>\n",
       "      <td>2013-07-01</td>\n",
       "    </tr>\n",
       "    <tr>\n",
       "      <th>1</th>\n",
       "      <td>Charlie</td>\n",
       "      <td>Poodle</td>\n",
       "      <td>Black</td>\n",
       "      <td>43</td>\n",
       "      <td>24</td>\n",
       "      <td>2016-09-16</td>\n",
       "    </tr>\n",
       "    <tr>\n",
       "      <th>2</th>\n",
       "      <td>Lucy</td>\n",
       "      <td>Chow Chow</td>\n",
       "      <td>Brown</td>\n",
       "      <td>46</td>\n",
       "      <td>24</td>\n",
       "      <td>2014-08-25</td>\n",
       "    </tr>\n",
       "    <tr>\n",
       "      <th>3</th>\n",
       "      <td>Cooper</td>\n",
       "      <td>Schnauzer</td>\n",
       "      <td>Gray</td>\n",
       "      <td>49</td>\n",
       "      <td>17</td>\n",
       "      <td>2011-12-11</td>\n",
       "    </tr>\n",
       "    <tr>\n",
       "      <th>4</th>\n",
       "      <td>Max</td>\n",
       "      <td>Labrador</td>\n",
       "      <td>Black</td>\n",
       "      <td>59</td>\n",
       "      <td>29</td>\n",
       "      <td>2017-01-20</td>\n",
       "    </tr>\n",
       "    <tr>\n",
       "      <th>5</th>\n",
       "      <td>Stella</td>\n",
       "      <td>Chihuahua</td>\n",
       "      <td>Tan</td>\n",
       "      <td>18</td>\n",
       "      <td>2</td>\n",
       "      <td>2015-04-20</td>\n",
       "    </tr>\n",
       "    <tr>\n",
       "      <th>6</th>\n",
       "      <td>Bernie</td>\n",
       "      <td>St. Bernard</td>\n",
       "      <td>White</td>\n",
       "      <td>77</td>\n",
       "      <td>74</td>\n",
       "      <td>2018-02-27</td>\n",
       "    </tr>\n",
       "  </tbody>\n",
       "</table>\n",
       "</div>"
      ],
      "text/plain": [
       "      name        breed  color  height_cm  weight_kg date_of_birth\n",
       "0    Bella     Labrador  Brown         56         24    2013-07-01\n",
       "1  Charlie       Poodle  Black         43         24    2016-09-16\n",
       "2     Lucy    Chow Chow  Brown         46         24    2014-08-25\n",
       "3   Cooper    Schnauzer   Gray         49         17    2011-12-11\n",
       "4      Max     Labrador  Black         59         29    2017-01-20\n",
       "5   Stella    Chihuahua    Tan         18          2    2015-04-20\n",
       "6   Bernie  St. Bernard  White         77         74    2018-02-27"
      ]
     },
     "execution_count": 3,
     "metadata": {},
     "output_type": "execute_result"
    }
   ],
   "source": [
    "dogs"
   ]
  },
  {
   "cell_type": "markdown",
   "id": "55a83420-7848-4a19-ac7f-9be1efe20052",
   "metadata": {},
   "source": [
    "## sort the index before you slice "
   ]
  },
  {
   "cell_type": "code",
   "execution_count": 4,
   "id": "4b1684fc-0bfa-4042-bbc7-fed95ee5587a",
   "metadata": {},
   "outputs": [
    {
     "name": "stdout",
     "output_type": "stream",
     "text": [
      "                      name  height_cm  weight_kg date_of_birth\n",
      "breed       color                                             \n",
      "Chihuahua   Tan     Stella         18          2    2015-04-20\n",
      "Chow Chow   Brown     Lucy         46         24    2014-08-25\n",
      "Labrador    Black      Max         59         29    2017-01-20\n",
      "            Brown    Bella         56         24    2013-07-01\n",
      "Poodle      Black  Charlie         43         24    2016-09-16\n",
      "Schnauzer   Gray    Cooper         49         17    2011-12-11\n",
      "St. Bernard White   Bernie         77         74    2018-02-27\n"
     ]
    }
   ],
   "source": [
    "dogs_srt = dogs.set_index([\"breed\",\"color\"]).sort_index()\n",
    "print(dogs_srt)"
   ]
  },
  {
   "cell_type": "code",
   "execution_count": 13,
   "id": "cc6f6986-9f77-46ff-802f-993080b82f8e",
   "metadata": {},
   "outputs": [
    {
     "data": {
      "text/html": [
       "<div>\n",
       "<style scoped>\n",
       "    .dataframe tbody tr th:only-of-type {\n",
       "        vertical-align: middle;\n",
       "    }\n",
       "\n",
       "    .dataframe tbody tr th {\n",
       "        vertical-align: top;\n",
       "    }\n",
       "\n",
       "    .dataframe thead th {\n",
       "        text-align: right;\n",
       "    }\n",
       "</style>\n",
       "<table border=\"1\" class=\"dataframe\">\n",
       "  <thead>\n",
       "    <tr style=\"text-align: right;\">\n",
       "      <th></th>\n",
       "      <th></th>\n",
       "      <th>name</th>\n",
       "      <th>height_cm</th>\n",
       "      <th>weight_kg</th>\n",
       "      <th>date_of_birth</th>\n",
       "    </tr>\n",
       "    <tr>\n",
       "      <th>breed</th>\n",
       "      <th>color</th>\n",
       "      <th></th>\n",
       "      <th></th>\n",
       "      <th></th>\n",
       "      <th></th>\n",
       "    </tr>\n",
       "  </thead>\n",
       "  <tbody>\n",
       "    <tr>\n",
       "      <th>Chow Chow</th>\n",
       "      <th>Brown</th>\n",
       "      <td>Lucy</td>\n",
       "      <td>46</td>\n",
       "      <td>24</td>\n",
       "      <td>2014-08-25</td>\n",
       "    </tr>\n",
       "    <tr>\n",
       "      <th rowspan=\"2\" valign=\"top\">Labrador</th>\n",
       "      <th>Black</th>\n",
       "      <td>Max</td>\n",
       "      <td>59</td>\n",
       "      <td>29</td>\n",
       "      <td>2017-01-20</td>\n",
       "    </tr>\n",
       "    <tr>\n",
       "      <th>Brown</th>\n",
       "      <td>Bella</td>\n",
       "      <td>56</td>\n",
       "      <td>24</td>\n",
       "      <td>2013-07-01</td>\n",
       "    </tr>\n",
       "    <tr>\n",
       "      <th>Poodle</th>\n",
       "      <th>Black</th>\n",
       "      <td>Charlie</td>\n",
       "      <td>43</td>\n",
       "      <td>24</td>\n",
       "      <td>2016-09-16</td>\n",
       "    </tr>\n",
       "  </tbody>\n",
       "</table>\n",
       "</div>"
      ],
      "text/plain": [
       "                    name  height_cm  weight_kg date_of_birth\n",
       "breed     color                                             \n",
       "Chow Chow Brown     Lucy         46         24    2014-08-25\n",
       "Labrador  Black      Max         59         29    2017-01-20\n",
       "          Brown    Bella         56         24    2013-07-01\n",
       "Poodle    Black  Charlie         43         24    2016-09-16"
      ]
     },
     "execution_count": 13,
     "metadata": {},
     "output_type": "execute_result"
    }
   ],
   "source": [
    "dogs_srt.loc[\"Chow Chow\":\"Poodle\"] # The final value is included"
   ]
  },
  {
   "cell_type": "markdown",
   "id": "344d3e78-dcb5-487a-ad79-4f70372da098",
   "metadata": {},
   "source": [
    "## Slicing the inner index levels badly\n",
    "- The same technique doesn't work on inner index levels."
   ]
  },
  {
   "cell_type": "code",
   "execution_count": 15,
   "id": "ecbf6da2-a60a-4814-84f7-fc6c5ed750a8",
   "metadata": {},
   "outputs": [
    {
     "data": {
      "text/html": [
       "<div>\n",
       "<style scoped>\n",
       "    .dataframe tbody tr th:only-of-type {\n",
       "        vertical-align: middle;\n",
       "    }\n",
       "\n",
       "    .dataframe tbody tr th {\n",
       "        vertical-align: top;\n",
       "    }\n",
       "\n",
       "    .dataframe thead th {\n",
       "        text-align: right;\n",
       "    }\n",
       "</style>\n",
       "<table border=\"1\" class=\"dataframe\">\n",
       "  <thead>\n",
       "    <tr style=\"text-align: right;\">\n",
       "      <th></th>\n",
       "      <th></th>\n",
       "      <th>name</th>\n",
       "      <th>height_cm</th>\n",
       "      <th>weight_kg</th>\n",
       "      <th>date_of_birth</th>\n",
       "    </tr>\n",
       "    <tr>\n",
       "      <th>breed</th>\n",
       "      <th>color</th>\n",
       "      <th></th>\n",
       "      <th></th>\n",
       "      <th></th>\n",
       "      <th></th>\n",
       "    </tr>\n",
       "  </thead>\n",
       "  <tbody>\n",
       "  </tbody>\n",
       "</table>\n",
       "</div>"
      ],
      "text/plain": [
       "Empty DataFrame\n",
       "Columns: [name, height_cm, weight_kg, date_of_birth]\n",
       "Index: []"
      ]
     },
     "execution_count": 15,
     "metadata": {},
     "output_type": "execute_result"
    }
   ],
   "source": [
    "dogs_srt.loc[\"Tan\":\"Grey\"]"
   ]
  },
  {
   "cell_type": "markdown",
   "id": "edd41869-2c4c-4de9-be0e-92b179942980",
   "metadata": {},
   "source": [
    "- The correct approach"
   ]
  },
  {
   "cell_type": "code",
   "execution_count": 16,
   "id": "a0f1285b-4791-4c92-bdc2-8ff82d8e3f94",
   "metadata": {},
   "outputs": [
    {
     "data": {
      "text/html": [
       "<div>\n",
       "<style scoped>\n",
       "    .dataframe tbody tr th:only-of-type {\n",
       "        vertical-align: middle;\n",
       "    }\n",
       "\n",
       "    .dataframe tbody tr th {\n",
       "        vertical-align: top;\n",
       "    }\n",
       "\n",
       "    .dataframe thead th {\n",
       "        text-align: right;\n",
       "    }\n",
       "</style>\n",
       "<table border=\"1\" class=\"dataframe\">\n",
       "  <thead>\n",
       "    <tr style=\"text-align: right;\">\n",
       "      <th></th>\n",
       "      <th></th>\n",
       "      <th>name</th>\n",
       "      <th>height_cm</th>\n",
       "      <th>weight_kg</th>\n",
       "      <th>date_of_birth</th>\n",
       "    </tr>\n",
       "    <tr>\n",
       "      <th>breed</th>\n",
       "      <th>color</th>\n",
       "      <th></th>\n",
       "      <th></th>\n",
       "      <th></th>\n",
       "      <th></th>\n",
       "    </tr>\n",
       "  </thead>\n",
       "  <tbody>\n",
       "    <tr>\n",
       "      <th>Labrador</th>\n",
       "      <th>Brown</th>\n",
       "      <td>Bella</td>\n",
       "      <td>56</td>\n",
       "      <td>24</td>\n",
       "      <td>2013-07-01</td>\n",
       "    </tr>\n",
       "    <tr>\n",
       "      <th>Poodle</th>\n",
       "      <th>Black</th>\n",
       "      <td>Charlie</td>\n",
       "      <td>43</td>\n",
       "      <td>24</td>\n",
       "      <td>2016-09-16</td>\n",
       "    </tr>\n",
       "    <tr>\n",
       "      <th>Schnauzer</th>\n",
       "      <th>Gray</th>\n",
       "      <td>Cooper</td>\n",
       "      <td>49</td>\n",
       "      <td>17</td>\n",
       "      <td>2011-12-11</td>\n",
       "    </tr>\n",
       "  </tbody>\n",
       "</table>\n",
       "</div>"
      ],
      "text/plain": [
       "                    name  height_cm  weight_kg date_of_birth\n",
       "breed     color                                             \n",
       "Labrador  Brown    Bella         56         24    2013-07-01\n",
       "Poodle    Black  Charlie         43         24    2016-09-16\n",
       "Schnauzer Gray    Cooper         49         17    2011-12-11"
      ]
     },
     "execution_count": 16,
     "metadata": {},
     "output_type": "execute_result"
    }
   ],
   "source": [
    "dogs_srt.loc[(\"Labrador\",\"Brown\"):(\"Schnauzer\",\"Gray\")]"
   ]
  },
  {
   "cell_type": "markdown",
   "id": "129c679c-45e8-4a9f-8df3-53b77a9336bb",
   "metadata": {},
   "source": [
    "## Slicing columns"
   ]
  },
  {
   "cell_type": "code",
   "execution_count": 17,
   "id": "77dfbdc6-90eb-432b-b2a3-6dcfed39857f",
   "metadata": {},
   "outputs": [
    {
     "data": {
      "text/html": [
       "<div>\n",
       "<style scoped>\n",
       "    .dataframe tbody tr th:only-of-type {\n",
       "        vertical-align: middle;\n",
       "    }\n",
       "\n",
       "    .dataframe tbody tr th {\n",
       "        vertical-align: top;\n",
       "    }\n",
       "\n",
       "    .dataframe thead th {\n",
       "        text-align: right;\n",
       "    }\n",
       "</style>\n",
       "<table border=\"1\" class=\"dataframe\">\n",
       "  <thead>\n",
       "    <tr style=\"text-align: right;\">\n",
       "      <th></th>\n",
       "      <th></th>\n",
       "      <th>name</th>\n",
       "      <th>height_cm</th>\n",
       "    </tr>\n",
       "    <tr>\n",
       "      <th>breed</th>\n",
       "      <th>color</th>\n",
       "      <th></th>\n",
       "      <th></th>\n",
       "    </tr>\n",
       "  </thead>\n",
       "  <tbody>\n",
       "    <tr>\n",
       "      <th>Chihuahua</th>\n",
       "      <th>Tan</th>\n",
       "      <td>Stella</td>\n",
       "      <td>18</td>\n",
       "    </tr>\n",
       "    <tr>\n",
       "      <th>Chow Chow</th>\n",
       "      <th>Brown</th>\n",
       "      <td>Lucy</td>\n",
       "      <td>46</td>\n",
       "    </tr>\n",
       "    <tr>\n",
       "      <th rowspan=\"2\" valign=\"top\">Labrador</th>\n",
       "      <th>Black</th>\n",
       "      <td>Max</td>\n",
       "      <td>59</td>\n",
       "    </tr>\n",
       "    <tr>\n",
       "      <th>Brown</th>\n",
       "      <td>Bella</td>\n",
       "      <td>56</td>\n",
       "    </tr>\n",
       "    <tr>\n",
       "      <th>Poodle</th>\n",
       "      <th>Black</th>\n",
       "      <td>Charlie</td>\n",
       "      <td>43</td>\n",
       "    </tr>\n",
       "    <tr>\n",
       "      <th>Schnauzer</th>\n",
       "      <th>Gray</th>\n",
       "      <td>Cooper</td>\n",
       "      <td>49</td>\n",
       "    </tr>\n",
       "    <tr>\n",
       "      <th>St. Bernard</th>\n",
       "      <th>White</th>\n",
       "      <td>Bernie</td>\n",
       "      <td>77</td>\n",
       "    </tr>\n",
       "  </tbody>\n",
       "</table>\n",
       "</div>"
      ],
      "text/plain": [
       "                      name  height_cm\n",
       "breed       color                    \n",
       "Chihuahua   Tan     Stella         18\n",
       "Chow Chow   Brown     Lucy         46\n",
       "Labrador    Black      Max         59\n",
       "            Brown    Bella         56\n",
       "Poodle      Black  Charlie         43\n",
       "Schnauzer   Gray    Cooper         49\n",
       "St. Bernard White   Bernie         77"
      ]
     },
     "execution_count": 17,
     "metadata": {},
     "output_type": "execute_result"
    }
   ],
   "source": [
    "dogs_srt.loc[:,\"name\":\"height_cm\"]"
   ]
  },
  {
   "cell_type": "markdown",
   "id": "00163c6f-cf5e-4415-a76b-3aab71d5517b",
   "metadata": {},
   "source": [
    "## slice twice "
   ]
  },
  {
   "cell_type": "code",
   "execution_count": 18,
   "id": "021fce56-811f-470b-a941-fc8af65231ab",
   "metadata": {},
   "outputs": [
    {
     "data": {
      "text/html": [
       "<div>\n",
       "<style scoped>\n",
       "    .dataframe tbody tr th:only-of-type {\n",
       "        vertical-align: middle;\n",
       "    }\n",
       "\n",
       "    .dataframe tbody tr th {\n",
       "        vertical-align: top;\n",
       "    }\n",
       "\n",
       "    .dataframe thead th {\n",
       "        text-align: right;\n",
       "    }\n",
       "</style>\n",
       "<table border=\"1\" class=\"dataframe\">\n",
       "  <thead>\n",
       "    <tr style=\"text-align: right;\">\n",
       "      <th></th>\n",
       "      <th></th>\n",
       "      <th>name</th>\n",
       "      <th>height_cm</th>\n",
       "    </tr>\n",
       "    <tr>\n",
       "      <th>breed</th>\n",
       "      <th>color</th>\n",
       "      <th></th>\n",
       "      <th></th>\n",
       "    </tr>\n",
       "  </thead>\n",
       "  <tbody>\n",
       "    <tr>\n",
       "      <th>Labrador</th>\n",
       "      <th>Brown</th>\n",
       "      <td>Bella</td>\n",
       "      <td>56</td>\n",
       "    </tr>\n",
       "    <tr>\n",
       "      <th>Poodle</th>\n",
       "      <th>Black</th>\n",
       "      <td>Charlie</td>\n",
       "      <td>43</td>\n",
       "    </tr>\n",
       "    <tr>\n",
       "      <th>Schnauzer</th>\n",
       "      <th>Gray</th>\n",
       "      <td>Cooper</td>\n",
       "      <td>49</td>\n",
       "    </tr>\n",
       "  </tbody>\n",
       "</table>\n",
       "</div>"
      ],
      "text/plain": [
       "                    name  height_cm\n",
       "breed     color                    \n",
       "Labrador  Brown    Bella         56\n",
       "Poodle    Black  Charlie         43\n",
       "Schnauzer Gray    Cooper         49"
      ]
     },
     "execution_count": 18,
     "metadata": {},
     "output_type": "execute_result"
    }
   ],
   "source": [
    "dogs_srt.loc[(\"Labrador\",\"Brown\"):(\"Schnauzer\",\"Grey\"),\"name\":\"height_cm\"]"
   ]
  },
  {
   "cell_type": "markdown",
   "id": "d660d285-acaa-474c-a24e-1606b89889fd",
   "metadata": {},
   "source": [
    "## slicing by dates "
   ]
  },
  {
   "cell_type": "code",
   "execution_count": 21,
   "id": "33c93dff-5c48-4cc1-955f-c547ee9c7ee5",
   "metadata": {},
   "outputs": [
    {
     "name": "stdout",
     "output_type": "stream",
     "text": [
      "                  name        breed  color  height_cm  weight_kg\n",
      "date_of_birth                                                   \n",
      "2011-12-11      Cooper    Schnauzer   Gray         49         17\n",
      "2013-07-01       Bella     Labrador  Brown         56         24\n",
      "2014-08-25        Lucy    Chow Chow  Brown         46         24\n",
      "2015-04-20      Stella    Chihuahua    Tan         18          2\n",
      "2016-09-16     Charlie       Poodle  Black         43         24\n",
      "2017-01-20         Max     Labrador  Black         59         29\n",
      "2018-02-27      Bernie  St. Bernard  White         77         74\n"
     ]
    }
   ],
   "source": [
    "dogs = dogs.set_index(\"date_of_birth\").sort_index()\n",
    "print(dogs)"
   ]
  },
  {
   "cell_type": "code",
   "execution_count": 23,
   "id": "cbe9ce46-5ea1-471e-9a97-458f46b55b93",
   "metadata": {},
   "outputs": [
    {
     "data": {
      "text/html": [
       "<div>\n",
       "<style scoped>\n",
       "    .dataframe tbody tr th:only-of-type {\n",
       "        vertical-align: middle;\n",
       "    }\n",
       "\n",
       "    .dataframe tbody tr th {\n",
       "        vertical-align: top;\n",
       "    }\n",
       "\n",
       "    .dataframe thead th {\n",
       "        text-align: right;\n",
       "    }\n",
       "</style>\n",
       "<table border=\"1\" class=\"dataframe\">\n",
       "  <thead>\n",
       "    <tr style=\"text-align: right;\">\n",
       "      <th></th>\n",
       "      <th>name</th>\n",
       "      <th>breed</th>\n",
       "      <th>color</th>\n",
       "      <th>height_cm</th>\n",
       "      <th>weight_kg</th>\n",
       "    </tr>\n",
       "    <tr>\n",
       "      <th>date_of_birth</th>\n",
       "      <th></th>\n",
       "      <th></th>\n",
       "      <th></th>\n",
       "      <th></th>\n",
       "      <th></th>\n",
       "    </tr>\n",
       "  </thead>\n",
       "  <tbody>\n",
       "    <tr>\n",
       "      <th>2014-08-25</th>\n",
       "      <td>Lucy</td>\n",
       "      <td>Chow Chow</td>\n",
       "      <td>Brown</td>\n",
       "      <td>46</td>\n",
       "      <td>24</td>\n",
       "    </tr>\n",
       "    <tr>\n",
       "      <th>2015-04-20</th>\n",
       "      <td>Stella</td>\n",
       "      <td>Chihuahua</td>\n",
       "      <td>Tan</td>\n",
       "      <td>18</td>\n",
       "      <td>2</td>\n",
       "    </tr>\n",
       "    <tr>\n",
       "      <th>2016-09-16</th>\n",
       "      <td>Charlie</td>\n",
       "      <td>Poodle</td>\n",
       "      <td>Black</td>\n",
       "      <td>43</td>\n",
       "      <td>24</td>\n",
       "    </tr>\n",
       "  </tbody>\n",
       "</table>\n",
       "</div>"
      ],
      "text/plain": [
       "                  name      breed  color  height_cm  weight_kg\n",
       "date_of_birth                                                 \n",
       "2014-08-25        Lucy  Chow Chow  Brown         46         24\n",
       "2015-04-20      Stella  Chihuahua    Tan         18          2\n",
       "2016-09-16     Charlie     Poodle  Black         43         24"
      ]
     },
     "execution_count": 23,
     "metadata": {},
     "output_type": "execute_result"
    }
   ],
   "source": [
    "# Get dogs with date_of_birth between 2014-08-25 and 2016-09-16\n",
    "dogs.loc[\"2014-08-25\":\"2016-09-16\"]"
   ]
  },
  {
   "cell_type": "code",
   "execution_count": 24,
   "id": "2360ce98-7e0c-4445-9970-4de307461015",
   "metadata": {},
   "outputs": [
    {
     "data": {
      "text/html": [
       "<div>\n",
       "<style scoped>\n",
       "    .dataframe tbody tr th:only-of-type {\n",
       "        vertical-align: middle;\n",
       "    }\n",
       "\n",
       "    .dataframe tbody tr th {\n",
       "        vertical-align: top;\n",
       "    }\n",
       "\n",
       "    .dataframe thead th {\n",
       "        text-align: right;\n",
       "    }\n",
       "</style>\n",
       "<table border=\"1\" class=\"dataframe\">\n",
       "  <thead>\n",
       "    <tr style=\"text-align: right;\">\n",
       "      <th></th>\n",
       "      <th>name</th>\n",
       "      <th>breed</th>\n",
       "      <th>color</th>\n",
       "      <th>height_cm</th>\n",
       "      <th>weight_kg</th>\n",
       "    </tr>\n",
       "    <tr>\n",
       "      <th>date_of_birth</th>\n",
       "      <th></th>\n",
       "      <th></th>\n",
       "      <th></th>\n",
       "      <th></th>\n",
       "      <th></th>\n",
       "    </tr>\n",
       "  </thead>\n",
       "  <tbody>\n",
       "    <tr>\n",
       "      <th>2014-08-25</th>\n",
       "      <td>Lucy</td>\n",
       "      <td>Chow Chow</td>\n",
       "      <td>Brown</td>\n",
       "      <td>46</td>\n",
       "      <td>24</td>\n",
       "    </tr>\n",
       "    <tr>\n",
       "      <th>2015-04-20</th>\n",
       "      <td>Stella</td>\n",
       "      <td>Chihuahua</td>\n",
       "      <td>Tan</td>\n",
       "      <td>18</td>\n",
       "      <td>2</td>\n",
       "    </tr>\n",
       "  </tbody>\n",
       "</table>\n",
       "</div>"
      ],
      "text/plain": [
       "                 name      breed  color  height_cm  weight_kg\n",
       "date_of_birth                                                \n",
       "2014-08-25       Lucy  Chow Chow  Brown         46         24\n",
       "2015-04-20     Stella  Chihuahua    Tan         18          2"
      ]
     },
     "execution_count": 24,
     "metadata": {},
     "output_type": "execute_result"
    }
   ],
   "source": [
    "dogs.loc[\"2014\":\"2016\"]"
   ]
  },
  {
   "cell_type": "markdown",
   "id": "684286bc-5679-417f-b5eb-a2182f65d951",
   "metadata": {},
   "source": [
    "##  Subsetting by row/column number"
   ]
  },
  {
   "cell_type": "code",
   "execution_count": 25,
   "id": "bb9ac2db-db5c-4ac2-bbc6-6596b62c2c37",
   "metadata": {},
   "outputs": [
    {
     "name": "stdout",
     "output_type": "stream",
     "text": [
      "                   breed  color  height_cm\n",
      "date_of_birth                             \n",
      "2014-08-25     Chow Chow  Brown         46\n",
      "2015-04-20     Chihuahua    Tan         18\n",
      "2016-09-16        Poodle  Black         43\n"
     ]
    }
   ],
   "source": [
    "print(dogs.iloc[2:5,1:4])"
   ]
  }
 ],
 "metadata": {
  "kernelspec": {
   "display_name": "Python 3 (ipykernel)",
   "language": "python",
   "name": "python3"
  },
  "language_info": {
   "codemirror_mode": {
    "name": "ipython",
    "version": 3
   },
   "file_extension": ".py",
   "mimetype": "text/x-python",
   "name": "python",
   "nbconvert_exporter": "python",
   "pygments_lexer": "ipython3",
   "version": "3.12.7"
  }
 },
 "nbformat": 4,
 "nbformat_minor": 5
}
