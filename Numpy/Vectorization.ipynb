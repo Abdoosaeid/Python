{
 "cells": [
  {
   "cell_type": "markdown",
   "id": "1b8111e1-1eeb-4647-9e6e-dd82d24b754d",
   "metadata": {},
   "source": [
    "# Vectorization"
   ]
  },
  {
   "cell_type": "markdown",
   "id": "dbc2d609-2ad1-4c21-9c66-214c96e553f9",
   "metadata": {},
   "source": [
    "**NumPy** allows vectorized operations, making mathematical computations on large datasets faster and more efficient than traditional Python loops."
   ]
  },
  {
   "cell_type": "markdown",
   "id": "a4c78086-e7f5-44ae-a9ed-1c03222ca5bb",
   "metadata": {},
   "source": [
    "- **Optimized C/Fortran Code:** NumPy’s operations are implemented in low-level languages like C and Fortran, which are much faster than Python for executing arithmetic operations.\n",
    "- **Memory Efficiency:** Vectorized operations make use of optimized memory access patterns, avoiding Python’s function call overhead and the inefficiencies of looping through Python objects.\n",
    "- **Parallelization:** Vectorized operations often leverage modern CPU architectures for parallel processing, which leads to a significant performance boost."
   ]
  },
  {
   "cell_type": "code",
   "execution_count": 1,
   "id": "ba83ac97-acf1-40de-99dd-f1d901d49fcd",
   "metadata": {},
   "outputs": [],
   "source": [
    "import numpy as np"
   ]
  },
  {
   "cell_type": "code",
   "execution_count": 2,
   "id": "2d9bd16a-652e-43b5-b1f2-e407e7b04910",
   "metadata": {},
   "outputs": [],
   "source": [
    "a = np.array([[3,5,7]])"
   ]
  },
  {
   "cell_type": "code",
   "execution_count": 6,
   "id": "7bf8b7ec-4398-4a9e-a58b-2bd44de1dd86",
   "metadata": {},
   "outputs": [
    {
     "data": {
      "text/plain": [
       "(1, 3)"
      ]
     },
     "execution_count": 6,
     "metadata": {},
     "output_type": "execute_result"
    }
   ],
   "source": [
    "a.shape"
   ]
  },
  {
   "cell_type": "code",
   "execution_count": 7,
   "id": "eb14c84b-a900-46b6-9ffb-afe6deca3b7a",
   "metadata": {},
   "outputs": [],
   "source": [
    "a = np.array([[3,5,7]]).T"
   ]
  },
  {
   "cell_type": "code",
   "execution_count": 8,
   "id": "3419b7d3-01b5-475b-b274-19103d2c5a93",
   "metadata": {},
   "outputs": [
    {
     "data": {
      "text/plain": [
       "(3, 1)"
      ]
     },
     "execution_count": 8,
     "metadata": {},
     "output_type": "execute_result"
    }
   ],
   "source": [
    "a.shape"
   ]
  },
  {
   "cell_type": "code",
   "execution_count": 10,
   "id": "afd71fe5-5a08-48c8-af9a-cab54ae26a8c",
   "metadata": {},
   "outputs": [
    {
     "name": "stdout",
     "output_type": "stream",
     "text": [
      "[[3]\n",
      " [5]\n",
      " [7]]\n"
     ]
    }
   ],
   "source": [
    "print(a)"
   ]
  },
  {
   "cell_type": "code",
   "execution_count": 11,
   "id": "86920240-66d3-45ea-803d-6933528bc1c4",
   "metadata": {},
   "outputs": [],
   "source": [
    "a = a.reshape(1,3)"
   ]
  },
  {
   "cell_type": "code",
   "execution_count": 12,
   "id": "cb2fe1c7-72cf-4063-9efc-8da9f7f604e2",
   "metadata": {},
   "outputs": [
    {
     "name": "stdout",
     "output_type": "stream",
     "text": [
      "[[3 5 7]]\n"
     ]
    }
   ],
   "source": [
    "print(a)"
   ]
  },
  {
   "cell_type": "markdown",
   "id": "4a1a0c1d-0dd5-4dc4-bce3-366ff48bf5de",
   "metadata": {},
   "source": [
    "## Vectorization - Single Instruction multiple Data SIMD"
   ]
  },
  {
   "cell_type": "code",
   "execution_count": 14,
   "id": "8966eab7-d2f5-4881-99cd-fc62bef8d801",
   "metadata": {},
   "outputs": [],
   "source": [
    "import time "
   ]
  },
  {
   "cell_type": "code",
   "execution_count": 15,
   "id": "cc1c499d-dca3-4000-a6e6-c621243d2cdc",
   "metadata": {},
   "outputs": [],
   "source": [
    "a = np.random.rand(1000000)\n",
    "b = np.random.rand(1000000)"
   ]
  },
  {
   "cell_type": "code",
   "execution_count": 16,
   "id": "0cb21bcc-daab-4c2a-9f4d-3751911236d1",
   "metadata": {},
   "outputs": [
    {
     "name": "stdout",
     "output_type": "stream",
     "text": [
      "Non - Vectorized Version 361.24324798583984 ms\n",
      "250436.03302838447\n"
     ]
    }
   ],
   "source": [
    "c = 0\n",
    "tic = time.time()\n",
    "for i in range(1000000):\n",
    "    c += a[i]*b[i]\n",
    "toc = time.time()\n",
    "print(\"Non - Vectorized Version\",str(1000*(toc - tic)),\"ms\")\n",
    "print(c)"
   ]
  },
  {
   "cell_type": "markdown",
   "id": "1a170e11-b04e-4747-922c-d8a0bd006cee",
   "metadata": {},
   "source": [
    "## vectorized Version "
   ]
  },
  {
   "cell_type": "code",
   "execution_count": 17,
   "id": "6a5c61f1-1f49-4f45-9334-c15398a49c66",
   "metadata": {},
   "outputs": [
    {
     "name": "stdout",
     "output_type": "stream",
     "text": [
      "Non - Vectorized Version 1.9991397857666016 ms\n",
      "250436.03302837923\n"
     ]
    }
   ],
   "source": [
    "tic = time.time()\n",
    "c = np.dot(a,b)\n",
    "toc = time.time()\n",
    "print(\"Non - Vectorized Version\",str(1000*(toc - tic)),\"ms\")\n",
    "print(c)"
   ]
  },
  {
   "cell_type": "markdown",
   "id": "59062413-31e6-4c2a-9e59-41cd2716b85d",
   "metadata": {},
   "source": [
    "## Matrix multiplication "
   ]
  },
  {
   "cell_type": "code",
   "execution_count": 20,
   "id": "750a030b-d575-4569-bf2d-b496150ad52c",
   "metadata": {},
   "outputs": [],
   "source": [
    "a = np.random.randn(3,2)\n",
    "b = np.random.randn(2,1)\n",
    "c = np.dot(a,b)"
   ]
  },
  {
   "cell_type": "code",
   "execution_count": 22,
   "id": "34ebc39a-7585-444b-ab44-dc5236b2ab0d",
   "metadata": {},
   "outputs": [
    {
     "data": {
      "text/plain": [
       "(3, 1)"
      ]
     },
     "execution_count": 22,
     "metadata": {},
     "output_type": "execute_result"
    }
   ],
   "source": [
    "c.shape"
   ]
  },
  {
   "cell_type": "code",
   "execution_count": 25,
   "id": "c1f80890-7c8c-47b9-8e41-87cd16836118",
   "metadata": {},
   "outputs": [
    {
     "name": "stdout",
     "output_type": "stream",
     "text": [
      "[[-1.11532902  1.25617406]\n",
      " [ 0.7674574   0.1460944 ]\n",
      " [ 0.7532575   0.05565399]]\n",
      "[[-0.69106786]\n",
      " [-0.19675523]]\n",
      "[[ 0.52360923]\n",
      " [-0.55910998]\n",
      " [-0.53150226]]\n"
     ]
    }
   ],
   "source": [
    "print(a)\n",
    "print(b)\n",
    "print(c)"
   ]
  },
  {
   "cell_type": "code",
   "execution_count": 27,
   "id": "9b09bad6-351e-4d7e-9a3b-cf479d9a8494",
   "metadata": {},
   "outputs": [],
   "source": [
    "a = np.array([[3,8],[-3,7]])\n",
    "b = np.array([[1,9],[9,-6]])"
   ]
  },
  {
   "cell_type": "code",
   "execution_count": 28,
   "id": "a11d370d-6d97-464a-b8fb-517762aaead9",
   "metadata": {},
   "outputs": [
    {
     "name": "stdout",
     "output_type": "stream",
     "text": [
      "[[ 3  8]\n",
      " [-3  7]]\n",
      "[[ 1  9]\n",
      " [ 9 -6]]\n"
     ]
    }
   ],
   "source": [
    "print(a)\n",
    "print(b)"
   ]
  },
  {
   "cell_type": "code",
   "execution_count": 30,
   "id": "2e755e8f-3b2f-4d8b-b975-d7d9f3050340",
   "metadata": {},
   "outputs": [
    {
     "name": "stdout",
     "output_type": "stream",
     "text": [
      "[[  3  72]\n",
      " [-27 -42]]\n"
     ]
    }
   ],
   "source": [
    "c = np.multiply(a,b)\n",
    "print(c)"
   ]
  },
  {
   "cell_type": "markdown",
   "id": "c8b33598-6536-401c-8a21-8c3f95122d69",
   "metadata": {},
   "source": [
    "## When to Avoid Vectorization"
   ]
  },
  {
   "cell_type": "markdown",
   "id": "5947c3d7-b737-44ef-8e27-050760041437",
   "metadata": {},
   "source": [
    "While vectorization is generally beneficial, there are a few cases where it might not be suitable:\n",
    "\n",
    "- **Highly Recursive Algorithms:** If your problem involves a lot of recursion or cannot be easily expressed as element-wise operations, vectorization might not be applicable.\n",
    "- **Small Datasets:** For very small datasets, the overhead of NumPy might outweigh the benefits of vectorization. In such cases, Python loops may be acceptable."
   ]
  },
  {
   "cell_type": "markdown",
   "id": "01d40791",
   "metadata": {},
   "source": [
    "## Conclusion\n",
    "Vectorization is a key concept in NumPy that allows you to perform operations on entire arrays or matrices efficiently. By leveraging optimized, low-level C code, vectorized operations significantly speed up computations on large datasets compared to traditional Python loops. This makes NumPy ideal for tasks involving large-scale numerical computations, like data analysis, machine learning, and scientific simulations."
   ]
  }
 ],
 "metadata": {
  "kernelspec": {
   "display_name": "Python 3 (ipykernel)",
   "language": "python",
   "name": "python3"
  },
  "language_info": {
   "codemirror_mode": {
    "name": "ipython",
    "version": 3
   },
   "file_extension": ".py",
   "mimetype": "text/x-python",
   "name": "python",
   "nbconvert_exporter": "python",
   "pygments_lexer": "ipython3",
   "version": "3.12.6"
  }
 },
 "nbformat": 4,
 "nbformat_minor": 5
}
