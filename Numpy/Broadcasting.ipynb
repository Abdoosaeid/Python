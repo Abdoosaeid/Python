{
 "cells": [
  {
   "cell_type": "markdown",
   "id": "40aeac2b-b862-49d1-827d-ebd94698d211",
   "metadata": {},
   "source": [
    "# Broadcasting"
   ]
  },
  {
   "cell_type": "markdown",
   "id": "cec874fc-dea0-41ae-8d2d-6878baf958eb",
   "metadata": {},
   "source": [
    "**Broadcasting** allows NumPy to perform operations on arrays of different shapes without needing to make copies or reshape them explicitly. This feature makes element-wise arithmetic operations between arrays of different shapes possible and efficient."
   ]
  },
  {
   "cell_type": "markdown",
   "id": "82e1a875-5086-402f-b1ed-42e7a1630da6",
   "metadata": {},
   "source": [
    "**Key Concept: How Broadcasting Works**\n",
    "When performing operations on arrays of different shapes, NumPy \"broadcasts\" the smaller array to match the shape of the larger one. The smaller array is virtually expanded to the shape of the larger array without actually copying data, which makes the operation memory efficient."
   ]
  },
  {
   "cell_type": "markdown",
   "id": "e0de4e11-23f5-4d69-9c8e-5cf75ede219e",
   "metadata": {},
   "source": [
    "**Matching Dimensions:** Starting from the trailing dimensions (rightmost), two dimensions are compatible if:\n",
    "    - They are equal, or\n",
    "    - One of them is 1 (in which case it will be broadcast to match the larger dimension).\n",
    "    \n",
    "**Padding:** If one of the arrays has fewer dimensions, NumPy pads it with 1s on the left until the number of dimensions matches the other array."
   ]
  },
  {
   "cell_type": "code",
   "execution_count": 32,
   "id": "b220ddef-0855-4609-a648-d66323c2f1aa",
   "metadata": {},
   "outputs": [],
   "source": [
    "import numpy as np "
   ]
  },
  {
   "cell_type": "code",
   "execution_count": 33,
   "id": "581c4420-7323-413a-9479-dd090ab7ec7d",
   "metadata": {},
   "outputs": [
    {
     "name": "stdout",
     "output_type": "stream",
     "text": [
      "[[ 3  8]\n",
      " [-3  7]]\n"
     ]
    }
   ],
   "source": [
    "a = np.array([[3,8],[-3,7]])\n",
    "print(a)"
   ]
  },
  {
   "cell_type": "code",
   "execution_count": 34,
   "id": "4d29b5b5-e650-4f38-949b-e46090f3a34e",
   "metadata": {},
   "outputs": [
    {
     "data": {
      "text/plain": [
       "array([[10, 15],\n",
       "       [ 4, 14]])"
      ]
     },
     "execution_count": 34,
     "metadata": {},
     "output_type": "execute_result"
    }
   ],
   "source": [
    "a + 7"
   ]
  },
  {
   "cell_type": "code",
   "execution_count": 35,
   "id": "0524735a-e2cb-46de-aafa-9116e13f3b12",
   "metadata": {},
   "outputs": [
    {
     "name": "stdout",
     "output_type": "stream",
     "text": [
      "[2 1]\n"
     ]
    }
   ],
   "source": [
    "b = np.array([2,1])\n",
    "print(b)"
   ]
  },
  {
   "cell_type": "code",
   "execution_count": 36,
   "id": "66baa7e2-47ba-41fc-abfa-15693f3e2fe1",
   "metadata": {},
   "outputs": [
    {
     "name": "stdout",
     "output_type": "stream",
     "text": [
      "[[ 6  8]\n",
      " [-6  7]]\n"
     ]
    }
   ],
   "source": [
    "print(a * b)"
   ]
  },
  {
   "cell_type": "markdown",
   "id": "61c72c31-3aa6-4086-a659-2595ce4dc99c",
   "metadata": {},
   "source": [
    "**Note** Thats element wise "
   ]
  },
  {
   "cell_type": "code",
   "execution_count": 41,
   "id": "424aaf68-d885-49da-873b-b2757e671c33",
   "metadata": {},
   "outputs": [
    {
     "name": "stdout",
     "output_type": "stream",
     "text": [
      "[[2]\n",
      " [1]]\n"
     ]
    }
   ],
   "source": [
    "b = np.array([[2,1]]).T\n",
    "print(b)"
   ]
  },
  {
   "cell_type": "code",
   "execution_count": 42,
   "id": "6bceb625-b29f-4109-af4d-0640fdf7bcc0",
   "metadata": {},
   "outputs": [
    {
     "name": "stdout",
     "output_type": "stream",
     "text": [
      "[[ 6 16]\n",
      " [-3  7]]\n"
     ]
    }
   ],
   "source": [
    "print(a * b)"
   ]
  },
  {
   "cell_type": "markdown",
   "id": "b190ab21-9621-4a08-9316-99258a86df80",
   "metadata": {},
   "source": [
    "## we can't do a *Broadcasting* in this example"
   ]
  },
  {
   "cell_type": "code",
   "execution_count": 43,
   "id": "9e64a579-71e8-454d-b9a9-cdeb8c5b6bcf",
   "metadata": {},
   "outputs": [
    {
     "name": "stdout",
     "output_type": "stream",
     "text": [
      "[[ 1.50714308 -0.89592892  1.8273143 ]\n",
      " [-1.76436734  1.32700927 -0.46606151]\n",
      " [ 0.4925344  -0.31263301 -0.53731278]\n",
      " [ 0.2442252   1.26026483 -0.55465315]]\n",
      "[[ 0.29519178  1.06435241 -0.3509908  -0.12382928]\n",
      " [-0.39701555  1.14671339  0.30802092 -0.74513309]\n",
      " [ 1.17788176  1.61614399  0.13799823  1.81701066]]\n"
     ]
    }
   ],
   "source": [
    "a = np.random.randn(4,3)\n",
    "b = np.random.randn(3,4)\n",
    "print(a)\n",
    "print(b)"
   ]
  },
  {
   "cell_type": "code",
   "execution_count": 44,
   "id": "6db38136-af2c-42d1-86a8-80fb3bf11eae",
   "metadata": {},
   "outputs": [
    {
     "ename": "ValueError",
     "evalue": "operands could not be broadcast together with shapes (4,3) (3,4) ",
     "output_type": "error",
     "traceback": [
      "\u001b[1;31m---------------------------------------------------------------------------\u001b[0m",
      "\u001b[1;31mValueError\u001b[0m                                Traceback (most recent call last)",
      "Cell \u001b[1;32mIn[44], line 1\u001b[0m\n\u001b[1;32m----> 1\u001b[0m c \u001b[38;5;241m=\u001b[39m \u001b[43ma\u001b[49m\u001b[43m \u001b[49m\u001b[38;5;241;43m*\u001b[39;49m\u001b[43m \u001b[49m\u001b[43mb\u001b[49m\n",
      "\u001b[1;31mValueError\u001b[0m: operands could not be broadcast together with shapes (4,3) (3,4) "
     ]
    }
   ],
   "source": [
    "c = a * b"
   ]
  },
  {
   "cell_type": "code",
   "execution_count": 45,
   "id": "82325255-fdb2-4042-897e-93fb79c36645",
   "metadata": {},
   "outputs": [
    {
     "data": {
      "text/plain": [
       "(3,)"
      ]
     },
     "execution_count": 45,
     "metadata": {},
     "output_type": "execute_result"
    }
   ],
   "source": [
    "a = np.array([3,5,6])\n",
    "b = np.array([1,-2,4])\n",
    "a.shape"
   ]
  },
  {
   "cell_type": "code",
   "execution_count": 47,
   "id": "0e4dc6a2-bf91-4e24-a047-7c62d84b83df",
   "metadata": {},
   "outputs": [
    {
     "name": "stdout",
     "output_type": "stream",
     "text": [
      "17\n"
     ]
    }
   ],
   "source": [
    "print(np.dot(a,b)) # matrix multiplicatuion "
   ]
  },
  {
   "cell_type": "code",
   "execution_count": 49,
   "id": "5fbb5878-4baa-443d-8b25-8ebf2964e5f0",
   "metadata": {},
   "outputs": [
    {
     "data": {
      "text/plain": [
       "(3,)"
      ]
     },
     "execution_count": 49,
     "metadata": {},
     "output_type": "execute_result"
    }
   ],
   "source": [
    "a = np.array([[3,5,6],[1,2,3]])\n",
    "b = np.array([1,-2,4])\n",
    "b.shape"
   ]
  },
  {
   "cell_type": "code",
   "execution_count": 50,
   "id": "3437d17b-5031-4abd-b30a-1bff87a069d3",
   "metadata": {},
   "outputs": [
    {
     "data": {
      "text/plain": [
       "array([17,  9])"
      ]
     },
     "execution_count": 50,
     "metadata": {},
     "output_type": "execute_result"
    }
   ],
   "source": [
    "np.dot(a,b)"
   ]
  },
  {
   "cell_type": "code",
   "execution_count": 51,
   "id": "5cc9fb75-8882-411e-a51b-f05d9c238a7a",
   "metadata": {},
   "outputs": [
    {
     "name": "stdout",
     "output_type": "stream",
     "text": [
      "[[2. 3. 4.]\n",
      " [2. 3. 4.]\n",
      " [2. 3. 4.]\n",
      " [2. 3. 4.]]\n"
     ]
    }
   ],
   "source": [
    "a = np.ones((4, 3))  # Shape (4, 3)\n",
    "b = np.array([1, 2, 3])  # Shape (3,)\n",
    "\n",
    "# Broadcasting a smaller array\n",
    "result = a + b\n",
    "print(result)\n"
   ]
  },
  {
   "cell_type": "code",
   "execution_count": 52,
   "id": "a79fbb20-cec9-4844-950a-fcffb7f853db",
   "metadata": {},
   "outputs": [
    {
     "name": "stdout",
     "output_type": "stream",
     "text": [
      "[[11 21 31]\n",
      " [12 22 32]\n",
      " [13 23 33]]\n"
     ]
    }
   ],
   "source": [
    "arr_2d_col = np.array([[1], [2], [3]])  # Shape: (3, 1)\n",
    "arr_1d_row = np.array([10, 20, 30])     # Shape: (3,)\n",
    "\n",
    "# Broadcasting across dimensions\n",
    "result = arr_2d_col + arr_1d_row\n",
    "print(result)\n"
   ]
  },
  {
   "cell_type": "markdown",
   "id": "f32f8764-4c91-44a0-9ec2-9a1cfa250e95",
   "metadata": {},
   "source": [
    "## Application "
   ]
  },
  {
   "cell_type": "markdown",
   "id": "d0e2c465-eb01-4887-b36d-51ff49329bb4",
   "metadata": {},
   "source": [
    "- **Image Manipulation:** You might want to add a scalar value to every pixel in a 3D image matrix (height, width, RGB).\n",
    "- **Data Normalization:** You can subtract the mean of each column from every element in that column without needing to explicitly reshape the mean vector.\n",
    "- **Vectorized Mathematical Operations:** Operations like matrix multiplication, dot product, or any mathematical function (sin, cos, exp, etc.) can be broadcasted to large datasets, making the code concise and efficient."
   ]
  },
  {
   "cell_type": "markdown",
   "id": "abdf6e11-fef6-4c5d-9129-31ef4299a2a7",
   "metadata": {},
   "source": [
    "## Conclusion"
   ]
  },
  {
   "cell_type": "markdown",
   "id": "d9ddeed4-85e6-4d20-94aa-b9df13e44a95",
   "metadata": {},
   "source": [
    "Broadcasting is a powerful feature in NumPy that allows you to perform operations on arrays with different shapes without needing to reshape them manually. It optimizes memory usage and speeds up computation by avoiding the need for explicitly creating copies or loops. This makes it an essential tool for working with large datasets in Python."
   ]
  }
 ],
 "metadata": {
  "kernelspec": {
   "display_name": "Python 3 (ipykernel)",
   "language": "python",
   "name": "python3"
  },
  "language_info": {
   "codemirror_mode": {
    "name": "ipython",
    "version": 3
   },
   "file_extension": ".py",
   "mimetype": "text/x-python",
   "name": "python",
   "nbconvert_exporter": "python",
   "pygments_lexer": "ipython3",
   "version": "3.12.6"
  }
 },
 "nbformat": 4,
 "nbformat_minor": 5
}
