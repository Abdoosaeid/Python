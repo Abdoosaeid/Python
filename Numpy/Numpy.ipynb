{
 "cells": [
  {
   "cell_type": "markdown",
   "id": "e25ceaa2",
   "metadata": {},
   "source": [
    "# Numpy (Numerical python)"
   ]
  },
  {
   "cell_type": "code",
   "execution_count": 7,
   "id": "7f821561",
   "metadata": {},
   "outputs": [],
   "source": [
    "import numpy as np"
   ]
  },
  {
   "cell_type": "code",
   "execution_count": 8,
   "id": "aa8b257a",
   "metadata": {},
   "outputs": [],
   "source": [
    "x = np.random.random(10000000)"
   ]
  },
  {
   "cell_type": "code",
   "execution_count": 9,
   "id": "3895bcdc",
   "metadata": {},
   "outputs": [
    {
     "name": "stdout",
     "output_type": "stream",
     "text": [
      "610 ms ± 6.53 ms per loop (mean ± std. dev. of 7 runs, 1 loop each)\n"
     ]
    }
   ],
   "source": [
    "%timeit sum(x) / len(x)"
   ]
  },
  {
   "cell_type": "code",
   "execution_count": 10,
   "id": "e6dd3b6c",
   "metadata": {},
   "outputs": [
    {
     "name": "stdout",
     "output_type": "stream",
     "text": [
      "9.38 ms ± 71.6 µs per loop (mean ± std. dev. of 7 runs, 100 loops each)\n"
     ]
    }
   ],
   "source": [
    "%timeit np.mean(x)"
   ]
  },
  {
   "cell_type": "markdown",
   "id": "438d8296",
   "metadata": {},
   "source": [
    "# Array Creation "
   ]
  },
  {
   "cell_type": "markdown",
   "id": "7275c80c",
   "metadata": {},
   "source": [
    "## create Arrays from lists"
   ]
  },
  {
   "cell_type": "code",
   "execution_count": 11,
   "id": "ac90ea07",
   "metadata": {},
   "outputs": [
    {
     "data": {
      "text/plain": [
       "[1, 2, 3, 4]"
      ]
     },
     "execution_count": 11,
     "metadata": {},
     "output_type": "execute_result"
    }
   ],
   "source": [
    "lst = [1,2,3,4]\n",
    "lst"
   ]
  },
  {
   "cell_type": "markdown",
   "id": "f93ce6c6",
   "metadata": {},
   "source": [
    "### one Dimensional Array "
   ]
  },
  {
   "cell_type": "code",
   "execution_count": 12,
   "id": "54aae41a",
   "metadata": {},
   "outputs": [
    {
     "data": {
      "text/plain": [
       "array([1, 2, 3, 4])"
      ]
     },
     "execution_count": 12,
     "metadata": {},
     "output_type": "execute_result"
    }
   ],
   "source": [
    "x = np.array(lst) \n",
    "x"
   ]
  },
  {
   "cell_type": "code",
   "execution_count": 16,
   "id": "31eda7e9",
   "metadata": {},
   "outputs": [
    {
     "data": {
      "text/plain": [
       "array(['A', 'B', '1'], dtype='<U11')"
      ]
     },
     "execution_count": 16,
     "metadata": {},
     "output_type": "execute_result"
    }
   ],
   "source": [
    "z = np.array(['A','B',1])\n",
    "z"
   ]
  },
  {
   "cell_type": "code",
   "execution_count": 17,
   "id": "a8ea3538",
   "metadata": {},
   "outputs": [
    {
     "name": "stdout",
     "output_type": "stream",
     "text": [
      "<class 'numpy.ndarray'>\n"
     ]
    }
   ],
   "source": [
    "print(type(z))"
   ]
  },
  {
   "cell_type": "code",
   "execution_count": 19,
   "id": "d2482c83",
   "metadata": {},
   "outputs": [
    {
     "data": {
      "text/plain": [
       "dtype('int32')"
      ]
     },
     "execution_count": 19,
     "metadata": {},
     "output_type": "execute_result"
    }
   ],
   "source": [
    "x.dtype"
   ]
  },
  {
   "cell_type": "code",
   "execution_count": 20,
   "id": "b09175ef",
   "metadata": {},
   "outputs": [
    {
     "data": {
      "text/plain": [
       "(4,)"
      ]
     },
     "execution_count": 20,
     "metadata": {},
     "output_type": "execute_result"
    }
   ],
   "source": [
    "x.shape"
   ]
  },
  {
   "cell_type": "code",
   "execution_count": 25,
   "id": "7aab59ff",
   "metadata": {},
   "outputs": [
    {
     "data": {
      "text/plain": [
       "array([0.        , 1.57079633, 3.14159265])"
      ]
     },
     "execution_count": 25,
     "metadata": {},
     "output_type": "execute_result"
    }
   ],
   "source": [
    "x = np.array([0,np.pi / 2,np.pi])\n",
    "x"
   ]
  },
  {
   "cell_type": "code",
   "execution_count": 27,
   "id": "38bf2f8c",
   "metadata": {},
   "outputs": [
    {
     "data": {
      "text/plain": [
       "array([0.0000000e+00, 1.0000000e+00, 1.2246468e-16])"
      ]
     },
     "execution_count": 27,
     "metadata": {},
     "output_type": "execute_result"
    }
   ],
   "source": [
    "y = np.sin(x)\n",
    "y"
   ]
  },
  {
   "cell_type": "markdown",
   "id": "f7216ade",
   "metadata": {},
   "source": [
    "### 2 Dimentional Array"
   ]
  },
  {
   "cell_type": "code",
   "execution_count": 29,
   "id": "844d537f",
   "metadata": {},
   "outputs": [
    {
     "data": {
      "text/plain": [
       "array([[ 1,  2,  3],\n",
       "       [ 4,  5,  6],\n",
       "       [ 7,  8,  9],\n",
       "       [10, 11, 12]])"
      ]
     },
     "execution_count": 29,
     "metadata": {},
     "output_type": "execute_result"
    }
   ],
   "source": [
    "y = np.array([[1,2,3],[4,5,6],[7,8,9],[10,11,12]])\n",
    "y"
   ]
  },
  {
   "cell_type": "code",
   "execution_count": 30,
   "id": "f96d4184",
   "metadata": {},
   "outputs": [
    {
     "data": {
      "text/plain": [
       "(4, 3)"
      ]
     },
     "execution_count": 30,
     "metadata": {},
     "output_type": "execute_result"
    }
   ],
   "source": [
    "y.shape"
   ]
  },
  {
   "cell_type": "code",
   "execution_count": 32,
   "id": "bce3f06f",
   "metadata": {},
   "outputs": [
    {
     "data": {
      "text/plain": [
       "12"
      ]
     },
     "execution_count": 32,
     "metadata": {},
     "output_type": "execute_result"
    }
   ],
   "source": [
    "y.size"
   ]
  },
  {
   "cell_type": "code",
   "execution_count": 34,
   "id": "6f850b4a",
   "metadata": {},
   "outputs": [
    {
     "name": "stdout",
     "output_type": "stream",
     "text": [
      "float64\n"
     ]
    }
   ],
   "source": [
    "x = np.array([1,2.5,4])\n",
    "print(x.dtype)"
   ]
  },
  {
   "cell_type": "markdown",
   "id": "ea6a88c1",
   "metadata": {},
   "source": [
    "### Converting Elements Data Types"
   ]
  },
  {
   "cell_type": "code",
   "execution_count": 39,
   "id": "7c50f3e2",
   "metadata": {},
   "outputs": [
    {
     "name": "stdout",
     "output_type": "stream",
     "text": [
      "[1.5 2.2 3.7]\n",
      "float64\n"
     ]
    }
   ],
   "source": [
    "x = np.array([1.5,2.2,3.7])\n",
    "print(x)\n",
    "print(x.dtype)"
   ]
  },
  {
   "cell_type": "code",
   "execution_count": 40,
   "id": "667ad357",
   "metadata": {},
   "outputs": [
    {
     "name": "stdout",
     "output_type": "stream",
     "text": [
      "[1 2 3]\n"
     ]
    }
   ],
   "source": [
    "x = np.array([1.5,2.2,3.7],dtype = np.int64)\n",
    "print(x)"
   ]
  },
  {
   "cell_type": "markdown",
   "id": "3de3a418",
   "metadata": {},
   "source": [
    "### saving Array "
   ]
  },
  {
   "cell_type": "code",
   "execution_count": 41,
   "id": "e262ca71",
   "metadata": {},
   "outputs": [],
   "source": [
    "x = np.array([1,2,3,4,5])\n",
    "np.save('my_array',x)"
   ]
  },
  {
   "cell_type": "code",
   "execution_count": 44,
   "id": "ddd6f082",
   "metadata": {},
   "outputs": [
    {
     "name": "stdout",
     "output_type": "stream",
     "text": [
      "[1 2 3 4 5]\n"
     ]
    }
   ],
   "source": [
    "y = np.load('my_array.npy')\n",
    "print(y)"
   ]
  },
  {
   "cell_type": "markdown",
   "id": "bdb6820e",
   "metadata": {},
   "source": [
    "### Array Ranks "
   ]
  },
  {
   "cell_type": "markdown",
   "id": "0f416b85",
   "metadata": {},
   "source": [
    "- Rank(0)"
   ]
  },
  {
   "cell_type": "code",
   "execution_count": 45,
   "id": "8693f02e",
   "metadata": {},
   "outputs": [
    {
     "name": "stdout",
     "output_type": "stream",
     "text": [
      "5\n"
     ]
    }
   ],
   "source": [
    "a0 = 5 \n",
    "print(a0)"
   ]
  },
  {
   "cell_type": "markdown",
   "id": "3a989062",
   "metadata": {},
   "source": [
    "- Rank(1)"
   ]
  },
  {
   "cell_type": "code",
   "execution_count": 46,
   "id": "c470a034",
   "metadata": {},
   "outputs": [
    {
     "name": "stdout",
     "output_type": "stream",
     "text": [
      "[1 2 3]\n"
     ]
    }
   ],
   "source": [
    "a1 = np.array([1,2,3])\n",
    "print(a1)"
   ]
  },
  {
   "cell_type": "markdown",
   "id": "a76b48d4",
   "metadata": {},
   "source": [
    "- Rank(2)"
   ]
  },
  {
   "cell_type": "code",
   "execution_count": 47,
   "id": "e1e4799d",
   "metadata": {},
   "outputs": [
    {
     "name": "stdout",
     "output_type": "stream",
     "text": [
      "[[ 1  2  3]\n",
      " [ 4  5  6]\n",
      " [ 7  8  9]\n",
      " [10 11 12]]\n"
     ]
    }
   ],
   "source": [
    " a2 = np.array([[1,2,3],[4,5,6],[7,8,9],[10,11,12]])\n",
    "print(a2)"
   ]
  },
  {
   "cell_type": "code",
   "execution_count": 48,
   "id": "c00e0cc5",
   "metadata": {},
   "outputs": [
    {
     "data": {
      "text/plain": [
       "array([[[ 1,  2,  3],\n",
       "        [ 4,  5,  6],\n",
       "        [ 7,  8,  9]],\n",
       "\n",
       "       [[10, 11, 12],\n",
       "        [13, 14, 15],\n",
       "        [16, 17, 18]]])"
      ]
     },
     "execution_count": 48,
     "metadata": {},
     "output_type": "execute_result"
    }
   ],
   "source": [
    "a3 = np.array([[[1,2,3],[4,5,6],[7,8,9]],[[10,11,12],[13,14,15],[16,17,18]]])\n",
    "a3"
   ]
  },
  {
   "cell_type": "code",
   "execution_count": 49,
   "id": "7245bd9d",
   "metadata": {},
   "outputs": [
    {
     "data": {
      "text/plain": [
       "(int, numpy.ndarray, numpy.ndarray, numpy.ndarray)"
      ]
     },
     "execution_count": 49,
     "metadata": {},
     "output_type": "execute_result"
    }
   ],
   "source": [
    "type(a0),type(a1),type(a2),type(a3)"
   ]
  },
  {
   "cell_type": "code",
   "execution_count": 50,
   "id": "a458f155",
   "metadata": {},
   "outputs": [
    {
     "data": {
      "text/plain": [
       "((3,), (4, 3), (2, 3, 3))"
      ]
     },
     "execution_count": 50,
     "metadata": {},
     "output_type": "execute_result"
    }
   ],
   "source": [
    "a1.shape, a2.shape, a3.shape"
   ]
  },
  {
   "cell_type": "code",
   "execution_count": 52,
   "id": "934229ac",
   "metadata": {},
   "outputs": [
    {
     "data": {
      "text/plain": [
       "(1, 2, 3)"
      ]
     },
     "execution_count": 52,
     "metadata": {},
     "output_type": "execute_result"
    }
   ],
   "source": [
    "a1.ndim, a2.ndim, a3.ndim"
   ]
  },
  {
   "cell_type": "markdown",
   "id": "899bb4a8",
   "metadata": {},
   "source": [
    "## other Ways to Create Arrays "
   ]
  },
  {
   "cell_type": "code",
   "execution_count": 53,
   "id": "08878f43",
   "metadata": {},
   "outputs": [
    {
     "name": "stdout",
     "output_type": "stream",
     "text": [
      "[[0. 0. 0. 0.]\n",
      " [0. 0. 0. 0.]\n",
      " [0. 0. 0. 0.]]\n"
     ]
    }
   ],
   "source": [
    "x = np.zeros((3,4))\n",
    "print(x)"
   ]
  },
  {
   "cell_type": "code",
   "execution_count": 54,
   "id": "a38c44f5",
   "metadata": {},
   "outputs": [
    {
     "data": {
      "text/plain": [
       "dtype('float64')"
      ]
     },
     "execution_count": 54,
     "metadata": {},
     "output_type": "execute_result"
    }
   ],
   "source": [
    "x.dtype"
   ]
  },
  {
   "cell_type": "code",
   "execution_count": 55,
   "id": "e951cdd1",
   "metadata": {},
   "outputs": [
    {
     "name": "stdout",
     "output_type": "stream",
     "text": [
      "[[0 0 0 0]\n",
      " [0 0 0 0]\n",
      " [0 0 0 0]]\n"
     ]
    }
   ],
   "source": [
    "x = np.zeros((3,4),dtype = int)\n",
    "print(x)"
   ]
  },
  {
   "cell_type": "code",
   "execution_count": 56,
   "id": "83a550e4",
   "metadata": {},
   "outputs": [
    {
     "data": {
      "text/plain": [
       "dtype('int32')"
      ]
     },
     "execution_count": 56,
     "metadata": {},
     "output_type": "execute_result"
    }
   ],
   "source": [
    "x.dtype"
   ]
  },
  {
   "cell_type": "code",
   "execution_count": 58,
   "id": "fa671ed7",
   "metadata": {},
   "outputs": [
    {
     "name": "stdout",
     "output_type": "stream",
     "text": [
      "[[1. 1. 1. 1. 1.]\n",
      " [1. 1. 1. 1. 1.]\n",
      " [1. 1. 1. 1. 1.]\n",
      " [1. 1. 1. 1. 1.]]\n"
     ]
    }
   ],
   "source": [
    "x = np.ones((4,5))\n",
    "print(x)"
   ]
  },
  {
   "cell_type": "code",
   "execution_count": 59,
   "id": "b607db6d",
   "metadata": {},
   "outputs": [
    {
     "name": "stdout",
     "output_type": "stream",
     "text": [
      "[[5 5 5]\n",
      " [5 5 5]\n",
      " [5 5 5]\n",
      " [5 5 5]]\n"
     ]
    }
   ],
   "source": [
    "x = np.full((4,3),5)\n",
    "print(x)"
   ]
  },
  {
   "cell_type": "markdown",
   "id": "8d71e8c6",
   "metadata": {},
   "source": [
    "### Identity Matrix \n",
    "- very important matrix in linear Algebra "
   ]
  },
  {
   "cell_type": "code",
   "execution_count": 62,
   "id": "7d836618",
   "metadata": {},
   "outputs": [
    {
     "name": "stdout",
     "output_type": "stream",
     "text": [
      "[[1. 0. 0. 0. 0.]\n",
      " [0. 1. 0. 0. 0.]\n",
      " [0. 0. 1. 0. 0.]\n",
      " [0. 0. 0. 1. 0.]\n",
      " [0. 0. 0. 0. 1.]]\n"
     ]
    }
   ],
   "source": [
    "x = np.eye(5)\n",
    "print(x)"
   ]
  },
  {
   "cell_type": "markdown",
   "id": "0b7324c0",
   "metadata": {},
   "source": [
    "- Diagonal Matrix Always square Matrix "
   ]
  },
  {
   "cell_type": "code",
   "execution_count": 63,
   "id": "6745d0ce",
   "metadata": {},
   "outputs": [
    {
     "name": "stdout",
     "output_type": "stream",
     "text": [
      "[[10  0  0  0]\n",
      " [ 0 20  0  0]\n",
      " [ 0  0 30  0]\n",
      " [ 0  0  0 40]]\n"
     ]
    }
   ],
   "source": [
    "x = np.diag([10,20,30,40])\n",
    "print(x)"
   ]
  },
  {
   "cell_type": "code",
   "execution_count": 67,
   "id": "4bd3d040",
   "metadata": {},
   "outputs": [
    {
     "name": "stdout",
     "output_type": "stream",
     "text": [
      "[[10  0  0  0]\n",
      " [ 0 10  0  0]\n",
      " [ 0  0 10  0]\n",
      " [ 0  0  0 10]]\n"
     ]
    }
   ],
   "source": [
    "x = np.eye(4,dtype = int)\n",
    "print(x * 10)"
   ]
  },
  {
   "cell_type": "markdown",
   "id": "a1a59898",
   "metadata": {},
   "source": [
    "### number arange "
   ]
  },
  {
   "cell_type": "code",
   "execution_count": 68,
   "id": "32fef042",
   "metadata": {},
   "outputs": [
    {
     "name": "stdout",
     "output_type": "stream",
     "text": [
      "[0 1 2 3 4 5 6 7 8 9]\n"
     ]
    }
   ],
   "source": [
    "x = np.arange(10)\n",
    "print(x)\n",
    "# Start (0) , stop (10) , Integer Numbers , and 10 is Exclusive "
   ]
  },
  {
   "cell_type": "code",
   "execution_count": 69,
   "id": "306a67fe",
   "metadata": {},
   "outputs": [
    {
     "name": "stdout",
     "output_type": "stream",
     "text": [
      "[4 5 6 7 8 9]\n"
     ]
    }
   ],
   "source": [
    "x = np.arange(4,10)\n",
    "print(x)\n",
    "# start (4),stop (10) ,Interger Number , and 10 is Exclusive "
   ]
  },
  {
   "cell_type": "code",
   "execution_count": 71,
   "id": "f6000a08",
   "metadata": {},
   "outputs": [
    {
     "name": "stdout",
     "output_type": "stream",
     "text": [
      "[ 1  4  7 10 13]\n"
     ]
    }
   ],
   "source": [
    "x = np.arange(1,14,3)\n",
    "print(x)\n",
    "# start (4),stop (10) , steps (3) Interger Number , and 10 is Exclusive "
   ]
  },
  {
   "cell_type": "code",
   "execution_count": 72,
   "id": "d5ed30b3",
   "metadata": {},
   "outputs": [
    {
     "name": "stdout",
     "output_type": "stream",
     "text": [
      "[ 0.          2.77777778  5.55555556  8.33333333 11.11111111 13.88888889\n",
      " 16.66666667 19.44444444 22.22222222 25.        ]\n"
     ]
    }
   ],
   "source": [
    "x = np.linspace(0,25,10)\n",
    "print(x)\n",
    "# start (0) ,stop(25),Length(10), Float Numbers,and 25 is inclusive "
   ]
  },
  {
   "cell_type": "code",
   "execution_count": 74,
   "id": "88ef6f03",
   "metadata": {},
   "outputs": [
    {
     "name": "stdout",
     "output_type": "stream",
     "text": [
      "[ 0.          2.77777778  5.55555556  8.33333333 11.11111111 13.88888889\n",
      " 16.66666667 19.44444444 22.22222222 25.        ]\n"
     ]
    }
   ],
   "source": [
    "x = np.linspace(0,25,num = 10)\n",
    "print(x)"
   ]
  },
  {
   "cell_type": "code",
   "execution_count": 75,
   "id": "c9416b4b",
   "metadata": {},
   "outputs": [
    {
     "name": "stdout",
     "output_type": "stream",
     "text": [
      "[ 0.   2.5  5.   7.5 10.  12.5 15.  17.5 20.  22.5]\n"
     ]
    }
   ],
   "source": [
    "x = np.linspace(0,25,10,endpoint = False)\n",
    "print(x)\n",
    "# start (0) ,stop(25),Length(10), Float Numbers,and 25 is Exclusive "
   ]
  },
  {
   "cell_type": "code",
   "execution_count": 76,
   "id": "940dfdc6",
   "metadata": {},
   "outputs": [
    {
     "name": "stdout",
     "output_type": "stream",
     "text": [
      "[-2.  -1.5 -1.  -0.5  0.   0.5  1.   1.5  2. ]\n"
     ]
    }
   ],
   "source": [
    "x = np.linspace(-2,2,9)\n",
    "print(x)"
   ]
  },
  {
   "cell_type": "markdown",
   "id": "165df853",
   "metadata": {},
   "source": [
    "### Generating random floats from 0 to 1 a uniform Distribution "
   ]
  },
  {
   "cell_type": "code",
   "execution_count": 77,
   "id": "84f025be",
   "metadata": {},
   "outputs": [
    {
     "name": "stdout",
     "output_type": "stream",
     "text": [
      "[[0.25657922 0.55967185 0.75891316]\n",
      " [0.13364061 0.90177499 0.82465467]\n",
      " [0.46599731 0.61004847 0.64807765]]\n"
     ]
    }
   ],
   "source": [
    "x = np.random.rand(3,3)\n",
    "print(x)"
   ]
  },
  {
   "cell_type": "markdown",
   "id": "c3119c82",
   "metadata": {},
   "source": [
    "### Generating random floats from 0 to 5 a uniform Distribution "
   ]
  },
  {
   "cell_type": "code",
   "execution_count": 78,
   "id": "88e2b280",
   "metadata": {},
   "outputs": [
    {
     "name": "stdout",
     "output_type": "stream",
     "text": [
      "[[1.56529026 3.32814272 0.80764981]\n",
      " [1.56619708 3.80263321 4.23799143]\n",
      " [0.86481804 2.21808112 2.01183647]]\n"
     ]
    }
   ],
   "source": [
    "x = np.random.uniform(0,5,size=(3,3))\n",
    "print(x)"
   ]
  },
  {
   "cell_type": "markdown",
   "id": "3c758c6d",
   "metadata": {},
   "source": [
    "### Generating random floats from 0 to 1 a random Distribution "
   ]
  },
  {
   "cell_type": "code",
   "execution_count": 79,
   "id": "cba2f617",
   "metadata": {},
   "outputs": [
    {
     "name": "stdout",
     "output_type": "stream",
     "text": [
      "[[0.70678249 0.75633747 0.39561679]\n",
      " [0.45532085 0.45195809 0.65723397]\n",
      " [0.67576744 0.30040822 0.94009213]]\n"
     ]
    }
   ],
   "source": [
    "x = np.random.random((3,3))\n",
    "print(x)"
   ]
  },
  {
   "cell_type": "markdown",
   "id": "7ae61d45",
   "metadata": {},
   "source": [
    "### Generating random integers wihin a range "
   ]
  },
  {
   "cell_type": "code",
   "execution_count": 81,
   "id": "d72562e5",
   "metadata": {},
   "outputs": [
    {
     "name": "stdout",
     "output_type": "stream",
     "text": [
      "[ 6  6  9 12 14 10  7 14 12 13]\n"
     ]
    }
   ],
   "source": [
    "x = np.random.randint(4,15,10)\n",
    "print(x)\n",
    "# Generating random Integer Start (4) is inclusive , stop (15) is Exclusive , size is (10) numbers "
   ]
  },
  {
   "cell_type": "code",
   "execution_count": 82,
   "id": "9f49a649",
   "metadata": {},
   "outputs": [
    {
     "name": "stdout",
     "output_type": "stream",
     "text": [
      "[[ 5 13]\n",
      " [14 10]\n",
      " [14 12]]\n"
     ]
    }
   ],
   "source": [
    "x = np.random.randint(4,15,(3,2))\n",
    "print(x)\n",
    "# Generating random Integer Start (4) is inclusive , stop (15) is Exclusive , shape (3,2)"
   ]
  },
  {
   "cell_type": "markdown",
   "id": "0286842b",
   "metadata": {},
   "source": [
    "### Normal Distribution "
   ]
  },
  {
   "cell_type": "code",
   "execution_count": 84,
   "id": "d92702f9",
   "metadata": {},
   "outputs": [
    {
     "name": "stdout",
     "output_type": "stream",
     "text": [
      "[[  9.47862156  14.25775103  -4.23625637  14.77201356  -8.93220081]\n",
      " [ -7.9080588   15.78943572   5.58602907 -21.28246132  10.522889  ]\n",
      " [ 10.1136549   12.55241854 -41.9211664   22.74358012 -11.57741791]\n",
      " [ 10.49935029   0.81876911   7.49364073 -15.25511388  -0.67485931]\n",
      " [-12.96834333 -26.03800724  15.19153283  -4.31684322  28.28643117]]\n"
     ]
    }
   ],
   "source": [
    "x = np.random.normal(4,15,size=(5,5))\n",
    "print(x)\n",
    "# mean(4),standard deviation(15) "
   ]
  },
  {
   "cell_type": "markdown",
   "id": "eba0d731",
   "metadata": {},
   "source": [
    "### Standard Normal Distribution "
   ]
  },
  {
   "cell_type": "code",
   "execution_count": 86,
   "id": "a086a94b",
   "metadata": {},
   "outputs": [
    {
     "name": "stdout",
     "output_type": "stream",
     "text": [
      "[[ 1.0891699   0.52224447 -1.63708381 -1.45662178  1.11800853]\n",
      " [ 0.16783882 -1.21117171  0.7936199   0.01096926  0.86065437]\n",
      " [-1.40027053  0.68602181 -1.84242959 -0.56904954 -0.42625208]\n",
      " [ 0.23907712  0.91721753  0.34981468 -0.84657583  1.86736971]\n",
      " [ 0.66511409 -0.25240528  0.39184069 -0.34497922  0.31812262]]\n"
     ]
    }
   ],
   "source": [
    "x = np.random.randn(5,5)\n",
    "print(x)"
   ]
  },
  {
   "cell_type": "markdown",
   "id": "2e5f4892",
   "metadata": {},
   "source": [
    "### Randomly Selecting Values from an array "
   ]
  },
  {
   "cell_type": "code",
   "execution_count": 87,
   "id": "cc24e951",
   "metadata": {},
   "outputs": [
    {
     "data": {
      "text/plain": [
       "array(['C', 'B', 'A'], dtype='<U1')"
      ]
     },
     "execution_count": 87,
     "metadata": {},
     "output_type": "execute_result"
    }
   ],
   "source": [
    "arr_1 = np.array(['A','B','C','D','E'])\n",
    "random_choices = np.random.choice(arr_1,size = 3)\n",
    "random_choices"
   ]
  },
  {
   "cell_type": "markdown",
   "id": "3cbc3c31",
   "metadata": {},
   "source": [
    "### Creating a Random Permutation of an array "
   ]
  },
  {
   "cell_type": "code",
   "execution_count": 88,
   "id": "62a3593f",
   "metadata": {},
   "outputs": [
    {
     "name": "stdout",
     "output_type": "stream",
     "text": [
      "[0 1 2 3 4]\n"
     ]
    },
    {
     "data": {
      "text/plain": [
       "array([4, 1, 0, 3, 2])"
      ]
     },
     "execution_count": 88,
     "metadata": {},
     "output_type": "execute_result"
    }
   ],
   "source": [
    "arr_1 = np.arange(5)\n",
    "print(arr_1)\n",
    "random_permutation = np.random.permutation(arr_1)\n",
    "random_permutation"
   ]
  },
  {
   "cell_type": "markdown",
   "id": "aed665ea",
   "metadata": {},
   "source": [
    "# Array Manipulation "
   ]
  },
  {
   "cell_type": "code",
   "execution_count": 89,
   "id": "3ac1cd0e",
   "metadata": {},
   "outputs": [
    {
     "name": "stdout",
     "output_type": "stream",
     "text": [
      "[ 0.    1.25  2.5   3.75  5.    6.25  7.5   8.75 10.   11.25 12.5  13.75\n",
      " 15.   16.25 17.5  18.75 20.   21.25 22.5  23.75]\n"
     ]
    }
   ],
   "source": [
    "x = np.linspace(0,25,20,endpoint=False)\n",
    "print(x)"
   ]
  },
  {
   "cell_type": "code",
   "execution_count": 92,
   "id": "7a845a76",
   "metadata": {},
   "outputs": [
    {
     "name": "stdout",
     "output_type": "stream",
     "text": [
      "[[ 0.    1.25  2.5   3.75  5.  ]\n",
      " [ 6.25  7.5   8.75 10.   11.25]\n",
      " [12.5  13.75 15.   16.25 17.5 ]\n",
      " [18.75 20.   21.25 22.5  23.75]]\n"
     ]
    }
   ],
   "source": [
    "x = np.reshape(x,(4,5))\n",
    "print(x)"
   ]
  },
  {
   "cell_type": "code",
   "execution_count": 93,
   "id": "f7a2baf4",
   "metadata": {},
   "outputs": [
    {
     "name": "stdout",
     "output_type": "stream",
     "text": [
      "[[ 0.    1.25]\n",
      " [ 2.5   3.75]\n",
      " [ 5.    6.25]\n",
      " [ 7.5   8.75]\n",
      " [10.   11.25]\n",
      " [12.5  13.75]\n",
      " [15.   16.25]\n",
      " [17.5  18.75]\n",
      " [20.   21.25]\n",
      " [22.5  23.75]]\n"
     ]
    }
   ],
   "source": [
    "x = np.reshape(x,(10,2))\n",
    "print(x)"
   ]
  },
  {
   "cell_type": "code",
   "execution_count": 95,
   "id": "b52cbeaa",
   "metadata": {},
   "outputs": [
    {
     "name": "stdout",
     "output_type": "stream",
     "text": [
      "[[ 0  1]\n",
      " [ 2  3]\n",
      " [ 4  5]\n",
      " [ 6  7]\n",
      " [ 8  9]\n",
      " [10 11]\n",
      " [12 13]\n",
      " [14 15]\n",
      " [16 17]\n",
      " [18 19]]\n"
     ]
    }
   ],
   "source": [
    "y = np.arange(20).reshape(10,2)\n",
    "print(y)"
   ]
  },
  {
   "cell_type": "code",
   "execution_count": 96,
   "id": "d196e11d",
   "metadata": {},
   "outputs": [
    {
     "name": "stdout",
     "output_type": "stream",
     "text": [
      "[[ 0.  5.]\n",
      " [10. 15.]\n",
      " [20. 25.]\n",
      " [30. 35.]\n",
      " [40. 45.]]\n"
     ]
    }
   ],
   "source": [
    "x = np.linspace(0,50,10,endpoint=False).reshape(5,2)\n",
    "print(x)"
   ]
  },
  {
   "cell_type": "code",
   "execution_count": 97,
   "id": "7b9f24f9",
   "metadata": {},
   "outputs": [
    {
     "name": "stdout",
     "output_type": "stream",
     "text": [
      "[[1 2 3]\n",
      " [4 5 6]\n",
      " [7 8 9]]\n"
     ]
    }
   ],
   "source": [
    "x = np.arange(1,10).reshape(3,3)\n",
    "print(x)"
   ]
  },
  {
   "cell_type": "markdown",
   "id": "45b5ceb6",
   "metadata": {},
   "source": [
    "## Transposed "
   ]
  },
  {
   "cell_type": "code",
   "execution_count": 99,
   "id": "ebd01968",
   "metadata": {},
   "outputs": [
    {
     "name": "stdout",
     "output_type": "stream",
     "text": [
      "[[1 4 7]\n",
      " [2 5 8]\n",
      " [3 6 9]]\n"
     ]
    }
   ],
   "source": [
    "Transposed_x = x.T\n",
    "print(Transposed_x)"
   ]
  },
  {
   "cell_type": "markdown",
   "id": "9064f5fb",
   "metadata": {},
   "source": [
    "## Delete "
   ]
  },
  {
   "cell_type": "code",
   "execution_count": 100,
   "id": "4fd0ee7e",
   "metadata": {},
   "outputs": [
    {
     "name": "stdout",
     "output_type": "stream",
     "text": [
      "[1 2 3 4 5]\n"
     ]
    }
   ],
   "source": [
    "x = np.array([1,2,3,4,5])\n",
    "print(x)"
   ]
  },
  {
   "cell_type": "code",
   "execution_count": 101,
   "id": "f1ae5513",
   "metadata": {},
   "outputs": [
    {
     "name": "stdout",
     "output_type": "stream",
     "text": [
      "[2 3 4]\n"
     ]
    }
   ],
   "source": [
    "x = np.delete(x,[0,4])\n",
    "print(x)"
   ]
  },
  {
   "cell_type": "code",
   "execution_count": 102,
   "id": "cea7e7c7",
   "metadata": {},
   "outputs": [
    {
     "name": "stdout",
     "output_type": "stream",
     "text": [
      "[[1 2 3]\n",
      " [4 5 6]\n",
      " [7 8 9]]\n"
     ]
    }
   ],
   "source": [
    "y = np.arange(1,10).reshape(3,3)\n",
    "print(y)"
   ]
  },
  {
   "cell_type": "markdown",
   "id": "c2bb24b9",
   "metadata": {},
   "source": [
    "- axis = 0 --> row  &&  axis = 1 --> column"
   ]
  },
  {
   "cell_type": "code",
   "execution_count": 103,
   "id": "da5707b6",
   "metadata": {},
   "outputs": [
    {
     "name": "stdout",
     "output_type": "stream",
     "text": [
      "[[4 5 6]\n",
      " [7 8 9]]\n"
     ]
    }
   ],
   "source": [
    "w = np.delete(y,0,axis=0)\n",
    "print(w)"
   ]
  },
  {
   "cell_type": "code",
   "execution_count": 104,
   "id": "19be740a",
   "metadata": {},
   "outputs": [
    {
     "name": "stdout",
     "output_type": "stream",
     "text": [
      "[[2]\n",
      " [5]\n",
      " [8]]\n"
     ]
    }
   ],
   "source": [
    "w = np.delete(y,[0,2],axis=1)\n",
    "print(w)"
   ]
  },
  {
   "cell_type": "markdown",
   "id": "1afaffd2",
   "metadata": {},
   "source": [
    "## Append in Numpy "
   ]
  },
  {
   "cell_type": "code",
   "execution_count": 106,
   "id": "87699143",
   "metadata": {},
   "outputs": [
    {
     "name": "stdout",
     "output_type": "stream",
     "text": [
      "[1 2 3 4 5]\n"
     ]
    }
   ],
   "source": [
    "x = np.array([1,2,3,4,5])\n",
    "print(x)"
   ]
  },
  {
   "cell_type": "code",
   "execution_count": 107,
   "id": "8c611534",
   "metadata": {},
   "outputs": [
    {
     "name": "stdout",
     "output_type": "stream",
     "text": [
      "[1 2 3 4 5 6]\n"
     ]
    }
   ],
   "source": [
    "x = np.append(x,6)\n",
    "print(x)"
   ]
  },
  {
   "cell_type": "code",
   "execution_count": 108,
   "id": "47b67bf9",
   "metadata": {},
   "outputs": [
    {
     "name": "stdout",
     "output_type": "stream",
     "text": [
      "[[1 2 3]\n",
      " [4 5 6]\n",
      " [7 8 9]]\n"
     ]
    }
   ],
   "source": [
    "y = np.arange(1,10).reshape(3,3)\n",
    "print(y)"
   ]
  },
  {
   "cell_type": "code",
   "execution_count": 109,
   "id": "916e2d8b",
   "metadata": {},
   "outputs": [
    {
     "name": "stdout",
     "output_type": "stream",
     "text": [
      "[[ 1  2  3]\n",
      " [ 4  5  6]\n",
      " [ 7  8  9]\n",
      " [10 11 12]]\n"
     ]
    }
   ],
   "source": [
    "w = np.append(y,[[10,11,12]],axis=0)\n",
    "print(w)"
   ]
  },
  {
   "cell_type": "code",
   "execution_count": 111,
   "id": "2842a269",
   "metadata": {},
   "outputs": [
    {
     "name": "stdout",
     "output_type": "stream",
     "text": [
      "[[ 1  2  3 10]\n",
      " [ 4  5  6 11]\n",
      " [ 7  8  9 12]]\n"
     ]
    }
   ],
   "source": [
    "v = np.append(y,[[10],[11],[12]],axis=1)\n",
    "print(v)"
   ]
  },
  {
   "cell_type": "code",
   "execution_count": 118,
   "id": "aabe5532",
   "metadata": {},
   "outputs": [
    {
     "name": "stdout",
     "output_type": "stream",
     "text": [
      "[1 2 5 6 7]\n"
     ]
    }
   ],
   "source": [
    "x = np.array([1,2,5,6,7])\n",
    "print(x)"
   ]
  },
  {
   "cell_type": "code",
   "execution_count": 119,
   "id": "d601bf08",
   "metadata": {},
   "outputs": [
    {
     "name": "stdout",
     "output_type": "stream",
     "text": [
      "[1 2 3 4 5 6 7]\n"
     ]
    }
   ],
   "source": [
    "x = np.insert(x,2,[3,4])\n",
    "print(x)"
   ]
  },
  {
   "cell_type": "code",
   "execution_count": 124,
   "id": "9e1e7c2e",
   "metadata": {},
   "outputs": [
    {
     "name": "stdout",
     "output_type": "stream",
     "text": [
      "[[1 2 3]\n",
      " [4 5 6]\n",
      " [7 8 9]]\n"
     ]
    }
   ],
   "source": [
    "print(y)"
   ]
  },
  {
   "cell_type": "code",
   "execution_count": 125,
   "id": "002756d0",
   "metadata": {},
   "outputs": [
    {
     "name": "stdout",
     "output_type": "stream",
     "text": [
      "[[1 2 3]\n",
      " [4 5 6]\n",
      " [4 5 6]\n",
      " [7 8 9]]\n"
     ]
    }
   ],
   "source": [
    "w = np.insert(y,1,[4,5,6],axis=0)\n",
    "print(w)"
   ]
  },
  {
   "cell_type": "code",
   "execution_count": 126,
   "id": "6b88853e",
   "metadata": {},
   "outputs": [
    {
     "name": "stdout",
     "output_type": "stream",
     "text": [
      "[[1 5 2 3]\n",
      " [4 5 5 6]\n",
      " [7 5 8 9]]\n"
     ]
    }
   ],
   "source": [
    "w = np.insert(y,1,5,axis=1)\n",
    "print(w)"
   ]
  },
  {
   "cell_type": "code",
   "execution_count": 127,
   "id": "1b7f4aa6",
   "metadata": {},
   "outputs": [
    {
     "name": "stdout",
     "output_type": "stream",
     "text": [
      "x: [1 2]\n",
      "y: [[3 4]\n",
      " [5 6]]\n"
     ]
    }
   ],
   "source": [
    "x = np.array([1,2])\n",
    "y = np.array([[3,4],[5,6]])\n",
    "print('x:',x)\n",
    "print('y:',y)"
   ]
  },
  {
   "cell_type": "code",
   "execution_count": 128,
   "id": "e79a73cf",
   "metadata": {},
   "outputs": [
    {
     "name": "stdout",
     "output_type": "stream",
     "text": [
      "[[1 2]\n",
      " [3 4]\n",
      " [5 6]]\n"
     ]
    }
   ],
   "source": [
    "z = np.vstack((x,y))\n",
    "print(z)"
   ]
  },
  {
   "cell_type": "code",
   "execution_count": 129,
   "id": "0b30fe95",
   "metadata": {},
   "outputs": [
    {
     "name": "stdout",
     "output_type": "stream",
     "text": [
      "[[1]\n",
      " [2]]\n"
     ]
    }
   ],
   "source": [
    "x = x.reshape(2,1)\n",
    "print(x)"
   ]
  },
  {
   "cell_type": "code",
   "execution_count": 130,
   "id": "26926b04",
   "metadata": {},
   "outputs": [
    {
     "name": "stdout",
     "output_type": "stream",
     "text": [
      "[[1 3 4]\n",
      " [2 5 6]]\n"
     ]
    }
   ],
   "source": [
    "w = np.hstack((x,y))\n",
    "print(w)"
   ]
  },
  {
   "cell_type": "code",
   "execution_count": 138,
   "id": "20b04ce1",
   "metadata": {},
   "outputs": [
    {
     "name": "stdout",
     "output_type": "stream",
     "text": [
      "[[1 2 3]\n",
      " [4 5 6]\n",
      " [7 8 9]]\n",
      "[array([[1, 2, 3]]), array([[4, 5, 6]]), array([[7, 8, 9]])]\n"
     ]
    }
   ],
   "source": [
    "y = np.arange(1,10).reshape(3,3)\n",
    "print(y)\n",
    "splite_arrays = np.split(y,3) # split into 3 equal parts \n",
    "print(splite_arrays)"
   ]
  },
  {
   "cell_type": "markdown",
   "id": "7d353257",
   "metadata": {},
   "source": [
    "## checking for NaN (Not a NUmber) values "
   ]
  },
  {
   "cell_type": "code",
   "execution_count": 139,
   "id": "990ce246",
   "metadata": {},
   "outputs": [
    {
     "name": "stdout",
     "output_type": "stream",
     "text": [
      "arr_1:  [ 1.  2. nan  4.  5.]\n",
      "nan arr:  [False False  True False False]\n"
     ]
    }
   ],
   "source": [
    "arr_1 = np.array([1,2,np.nan,4,5])\n",
    "print(\"arr_1: \",arr_1)\n",
    "nan_arr = np.isnan(arr_1)\n",
    "print(\"nan arr: \",nan_arr)"
   ]
  },
  {
   "cell_type": "markdown",
   "id": "17e8f270",
   "metadata": {},
   "source": [
    "## checking for positive or negative infinity "
   ]
  },
  {
   "cell_type": "code",
   "execution_count": 140,
   "id": "b0e5475c",
   "metadata": {},
   "outputs": [
    {
     "name": "stdout",
     "output_type": "stream",
     "text": [
      "arr_1:  [  1.   2.  inf   4. -inf]\n",
      "inf arr:  [False False  True False  True]\n"
     ]
    }
   ],
   "source": [
    "arr_1 = np.array([1,2,np.inf,4,-np.inf])\n",
    "print(\"arr_1: \",arr_1)\n",
    "inf_arr = np.isinf(arr_1)\n",
    "print(\"inf arr: \",inf_arr)"
   ]
  }
 ],
 "metadata": {
  "kernelspec": {
   "display_name": "Python 3 (ipykernel)",
   "language": "python",
   "name": "python3"
  },
  "language_info": {
   "codemirror_mode": {
    "name": "ipython",
    "version": 3
   },
   "file_extension": ".py",
   "mimetype": "text/x-python",
   "name": "python",
   "nbconvert_exporter": "python",
   "pygments_lexer": "ipython3",
   "version": "3.11.5"
  }
 },
 "nbformat": 4,
 "nbformat_minor": 5
}
