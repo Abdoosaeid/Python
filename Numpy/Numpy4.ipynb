{
 "cells": [
  {
   "cell_type": "markdown",
   "id": "b6c5cd35-1abd-4b76-aa37-8be6886164b9",
   "metadata": {},
   "source": [
    "# Flattening an array "
   ]
  },
  {
   "cell_type": "markdown",
   "id": "ea17dbc1-50c7-4932-bf4f-341db29c67a7",
   "metadata": {},
   "source": [
    "Flattening an array refers to converting a multi-dimensional array (e.g., 2D, 3D) into a one-dimensional array. This can be done by iterating over each element in the multi-dimensional array and placing it into a flat structure."
   ]
  },
  {
   "cell_type": "code",
   "execution_count": 6,
   "id": "7023efda-abd3-4520-858d-3adc6aa87c20",
   "metadata": {},
   "outputs": [],
   "source": [
    " import numpy as np"
   ]
  },
  {
   "cell_type": "code",
   "execution_count": 7,
   "id": "7128a2cb-e2bb-4b93-a754-103d2583be86",
   "metadata": {},
   "outputs": [
    {
     "name": "stdout",
     "output_type": "stream",
     "text": [
      "[[1 2]\n",
      " [5 7]\n",
      " [6 6]]\n"
     ]
    }
   ],
   "source": [
    "array = np.array([[1,2],[5,7],[6,6]])\n",
    "print(array)"
   ]
  },
  {
   "cell_type": "code",
   "execution_count": 10,
   "id": "13b1363a-ece1-468c-bb4e-1b736b7416ee",
   "metadata": {},
   "outputs": [
    {
     "name": "stdout",
     "output_type": "stream",
     "text": [
      "[1 2 5 7 6 6]\n"
     ]
    }
   ],
   "source": [
    "print(array.flatten())"
   ]
  },
  {
   "cell_type": "markdown",
   "id": "f663badd-a017-4eff-b5c7-7d88e4016e90",
   "metadata": {},
   "source": [
    "# Reshaping an array "
   ]
  },
  {
   "cell_type": "code",
   "execution_count": 12,
   "id": "5a5c660f-3ed2-4f6a-9313-b1b3c2b8b086",
   "metadata": {},
   "outputs": [
    {
     "name": "stdout",
     "output_type": "stream",
     "text": [
      "[[1 2]\n",
      " [5 7]\n",
      " [6 6]]\n"
     ]
    }
   ],
   "source": [
    "array = np.array([[1,2],[5,7],[6,6]])\n",
    "print(array)"
   ]
  },
  {
   "cell_type": "code",
   "execution_count": 13,
   "id": "32ed4596-2fb4-4591-962b-957b8c5b779c",
   "metadata": {},
   "outputs": [
    {
     "name": "stdout",
     "output_type": "stream",
     "text": [
      "[[1 2 5]\n",
      " [7 6 6]]\n"
     ]
    }
   ],
   "source": [
    "print(array.reshape((2,3)))"
   ]
  },
  {
   "cell_type": "markdown",
   "id": "b38223f1-0598-4810-b37a-ca63d1c565fb",
   "metadata": {},
   "source": [
    "# Numpy Data Types "
   ]
  },
  {
   "cell_type": "markdown",
   "id": "f8ab77a4-22d9-44ec-a517-016ff73c8f99",
   "metadata": {},
   "source": [
    "## Integer Types:"
   ]
  },
  {
   "cell_type": "markdown",
   "id": "b503f490-1541-4a28-b858-c104445000ad",
   "metadata": {},
   "source": [
    "- **np.int8:** 8-bit signed integer (-128 to 127)\n",
    "- **np.uint8:** 8-bit unsigned integer (0 to 255)\n",
    "- **np.int16:** 16-bit signed integer (-32,768 to 32,767)\n",
    "- **np.uint16:** 16-bit unsigned integer (0 to 65,535)\n",
    "- **np.int32:** 32-bit signed integer (-2,147,483,648 to 2,147,483,647)\n",
    "- **np.uint32:** 32-bit unsigned integer (0 to 4,294,967,295)\n",
    "- **np.int64:** 64-bit signed integer (-9,223,372,036,854,775,808 to 9,223,372,036,854,775,807)\n",
    "- **np.uint64:** 64-bit unsigned integer (0 to 18,446,744,073,709,551,615)"
   ]
  },
  {
   "cell_type": "code",
   "execution_count": 14,
   "id": "349eb444-e91c-400b-b856-32842ca801ac",
   "metadata": {},
   "outputs": [
    {
     "name": "stdout",
     "output_type": "stream",
     "text": [
      "int32\n"
     ]
    }
   ],
   "source": [
    "arr_int = np.array([1, 2, 3], dtype=np.int32)\n",
    "print(arr_int.dtype)"
   ]
  },
  {
   "cell_type": "markdown",
   "id": "2b481be3-13e9-41b0-93ee-14a484dcabb9",
   "metadata": {},
   "source": [
    "## Floating-Point Types:"
   ]
  },
  {
   "cell_type": "markdown",
   "id": "52996a12-c100-4cf5-88d0-27ca18f5afc7",
   "metadata": {},
   "source": [
    "- **np.float16:** Half precision floating-point number (16 bits)\n",
    "- **np.float32:** Single precision floating-point number (32 bits)\n",
    "- **np.float64:** Double precision floating-point number (64 bits, default for float)\n",
    "- **np.float128:** Extended precision floating-point number (128 bits, may not be available on all platforms)"
   ]
  },
  {
   "cell_type": "code",
   "execution_count": 15,
   "id": "6c28be03-4b9e-4727-a8d8-5303f715eb12",
   "metadata": {},
   "outputs": [
    {
     "name": "stdout",
     "output_type": "stream",
     "text": [
      "float64\n"
     ]
    }
   ],
   "source": [
    "arr_float = np.array([1.1, 2.2, 3.3], dtype=np.float64)\n",
    "print(arr_float.dtype)"
   ]
  },
  {
   "cell_type": "markdown",
   "id": "45f9a205-6771-4284-869f-7926c1f12fc2",
   "metadata": {},
   "source": [
    "## Complex Number Types:"
   ]
  },
  {
   "cell_type": "markdown",
   "id": "a54c2304-74de-4a7c-91dc-781e0f5df9d3",
   "metadata": {},
   "source": [
    "- **np.complex64:** Complex number represented by two 32-bit floats (real and imaginary parts)\n",
    "- **np.complex128:** Complex number represented by two 64-bit floats (real and imaginary parts, default for complex)\n",
    "- **np.complex256:** Complex number represented by two 128-bit floats (on some platforms)"
   ]
  },
  {
   "cell_type": "code",
   "execution_count": 16,
   "id": "2c335ef5-cc06-4e8d-b288-20dd201a09af",
   "metadata": {},
   "outputs": [
    {
     "name": "stdout",
     "output_type": "stream",
     "text": [
      "complex128\n"
     ]
    }
   ],
   "source": [
    "arr_complex = np.array([1+2j, 3+4j], dtype=np.complex128)\n",
    "print(arr_complex.dtype)"
   ]
  },
  {
   "cell_type": "markdown",
   "id": "054ff794-60ca-4e26-8f57-5e1f8bf2ee1e",
   "metadata": {},
   "source": [
    "## Boolean Type:"
   ]
  },
  {
   "cell_type": "markdown",
   "id": "0b8ea4c2-1e52-4685-9bcb-dac6c1a2af1a",
   "metadata": {},
   "source": [
    "- **np.bool_:** Boolean (True or False), stored as 1 byte."
   ]
  },
  {
   "cell_type": "code",
   "execution_count": 18,
   "id": "74c1b89a-0205-4bd7-b64b-9efb4e04b7e8",
   "metadata": {},
   "outputs": [
    {
     "name": "stdout",
     "output_type": "stream",
     "text": [
      "bool\n"
     ]
    }
   ],
   "source": [
    "arr_bool = np.array([True, False, True], dtype=np.bool_)\n",
    "print(arr_bool.dtype)"
   ]
  },
  {
   "cell_type": "markdown",
   "id": "b67dd845-a286-40af-8e67-6f59beb54d60",
   "metadata": {},
   "source": [
    "## String and Unicode Types:"
   ]
  },
  {
   "cell_type": "markdown",
   "id": "3c24baee-cb85-4c2b-94a6-a8a3fa3f37dd",
   "metadata": {},
   "source": [
    "- **np.string_:** Fixed-length ASCII string.\n",
    "- **np.unicode_:** Fixed-length Unicode string."
   ]
  },
  {
   "cell_type": "code",
   "execution_count": 21,
   "id": "a685b557-efe5-4c5d-a608-67ec3e8997a5",
   "metadata": {},
   "outputs": [
    {
     "data": {
      "text/plain": [
       "dtype('<U12')"
      ]
     },
     "execution_count": 21,
     "metadata": {},
     "output_type": "execute_result"
    }
   ],
   "source": [
    "np.array([\"Introduction\",\"to\",\"Numpy\"]).dtype # U12 indicates that the data type is a Unicode string with maximum length 12."
   ]
  },
  {
   "cell_type": "markdown",
   "id": "6d53699d-70de-4731-a9e1-4132877bd91e",
   "metadata": {},
   "source": []
  },
  {
   "cell_type": "markdown",
   "id": "d60d4060-f63d-426c-a398-bb169e3f1883",
   "metadata": {},
   "source": [
    "## Why Use NumPy Data Types?"
   ]
  },
  {
   "cell_type": "markdown",
   "id": "09bf31a6-0b0e-4c1d-af27-4348876656b9",
   "metadata": {},
   "source": [
    "**Memory Efficiency:** Specifying a smaller data type (e.g., np.int8 instead of Python's int) can save memory when working with large datasets.\n",
    "\n",
    "**Performance:** NumPy arrays with fixed data types can perform operations more quickly than Python lists or arrays, especially for mathematical operations.\n",
    "\n",
    "**Precision Control:** With NumPy, you can control the precision of your numbers, whether they are integers or floating-point numbers.\n",
    "\n",
    "**Platform-Independent:** NumPy's data types are consistent across platforms, unlike Python's built-in types, which can vary depending on the system."
   ]
  },
  {
   "cell_type": "markdown",
   "id": "ae3cfa32-1045-4b94-b279-26de6ad35791",
   "metadata": {},
   "source": [
    "# Type conversion"
   ]
  },
  {
   "cell_type": "code",
   "execution_count": 22,
   "id": "fd00fecb-b1b1-4be3-9acb-6802ba2d0421",
   "metadata": {},
   "outputs": [
    {
     "data": {
      "text/plain": [
       "array([[1, 0],\n",
       "       [0, 0]], dtype=int32)"
      ]
     },
     "execution_count": 22,
     "metadata": {},
     "output_type": "execute_result"
    }
   ],
   "source": [
    "boolean_array = np.array([[True, False], [False, False]], dtype=np.bool_)\n",
    "boolean_array.astype(np.int32)"
   ]
  },
  {
   "cell_type": "markdown",
   "id": "5e529e15-3477-435d-929c-7c0a33c049a8",
   "metadata": {},
   "source": [
    "# Type coercion "
   ]
  },
  {
   "cell_type": "markdown",
   "id": "39018b8f-ce5f-45d1-85c2-8f7166f7dfad",
   "metadata": {},
   "source": [
    "- What happens if we try to make an array out of a Python list with several data types? All the data changes to one data type: in this case, a string! Since NumPy did this without us telling it to, this is called type coercion. NumPy did this because while numbers are easily cast into strings, strings are not easily cast into numbers while still preserving the original data."
   ]
  },
  {
   "cell_type": "code",
   "execution_count": 24,
   "id": "5592a843-9e10-4f58-9b2a-5b8a53692dff",
   "metadata": {},
   "outputs": [
    {
     "data": {
      "text/plain": [
       "array(['True', 'Boop', '42', '42.42'], dtype='<U32')"
      ]
     },
     "execution_count": 24,
     "metadata": {},
     "output_type": "execute_result"
    }
   ],
   "source": [
    "np.array([True,\"Boop\",42,42.42])"
   ]
  },
  {
   "cell_type": "markdown",
   "id": "c89e1f17-63f9-4ae3-b40a-3559d5d21639",
   "metadata": {},
   "source": [
    "-  **Type coercion hierarchy:**\n",
    "We just saw that adding a single string to an array means that NumPy will cast all elements into strings. Similarly, adding a single float to an array of integers will change all integers into floats, and adding a single integer to an array of Booleans will change all Booleans into integers. As we know, using one data type is one reason that NumPy has a lower memory consumption, but pay attention to the data type of the elements in your array as they can change without notice."
   ]
  }
 ],
 "metadata": {
  "kernelspec": {
   "display_name": "Python 3 (ipykernel)",
   "language": "python",
   "name": "python3"
  },
  "language_info": {
   "codemirror_mode": {
    "name": "ipython",
    "version": 3
   },
   "file_extension": ".py",
   "mimetype": "text/x-python",
   "name": "python",
   "nbconvert_exporter": "python",
   "pygments_lexer": "ipython3",
   "version": "3.12.6"
  }
 },
 "nbformat": 4,
 "nbformat_minor": 5
}
