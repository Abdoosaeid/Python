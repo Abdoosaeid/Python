{
 "cells": [
  {
   "cell_type": "code",
   "execution_count": 3,
   "id": "83ada364",
   "metadata": {},
   "outputs": [],
   "source": [
    "import numpy as np"
   ]
  },
  {
   "cell_type": "markdown",
   "id": "6412b099",
   "metadata": {},
   "source": [
    "# sorting and Searching "
   ]
  },
  {
   "cell_type": "code",
   "execution_count": 4,
   "id": "90d00555",
   "metadata": {},
   "outputs": [
    {
     "name": "stdout",
     "output_type": "stream",
     "text": [
      "[4 2 8 5 1 7 6 3]\n"
     ]
    }
   ],
   "source": [
    "x = np.array([4,2,8,5,1,7,6,3])\n",
    "print(x)"
   ]
  },
  {
   "cell_type": "markdown",
   "id": "410d921b",
   "metadata": {},
   "source": [
    "## sorting Ascending "
   ]
  },
  {
   "cell_type": "code",
   "execution_count": 5,
   "id": "e429ad05",
   "metadata": {},
   "outputs": [
    {
     "name": "stdout",
     "output_type": "stream",
     "text": [
      "[1 2 3 4 5 6 7 8]\n"
     ]
    }
   ],
   "source": [
    "print(np.sort(x))"
   ]
  },
  {
   "cell_type": "code",
   "execution_count": 6,
   "id": "219af3b3",
   "metadata": {},
   "outputs": [
    {
     "name": "stdout",
     "output_type": "stream",
     "text": [
      "[4 2 8 5 1 7 6 3]\n"
     ]
    }
   ],
   "source": [
    "print(x)"
   ]
  },
  {
   "cell_type": "code",
   "execution_count": 7,
   "id": "887c6e7d",
   "metadata": {},
   "outputs": [],
   "source": [
    "x.sort()"
   ]
  },
  {
   "cell_type": "code",
   "execution_count": 8,
   "id": "d2220322",
   "metadata": {},
   "outputs": [
    {
     "name": "stdout",
     "output_type": "stream",
     "text": [
      "[1 2 3 4 5 6 7 8]\n"
     ]
    }
   ],
   "source": [
    "print(x)"
   ]
  },
  {
   "cell_type": "markdown",
   "id": "38ab4cb5",
   "metadata": {},
   "source": [
    "## sorting Descending "
   ]
  },
  {
   "cell_type": "code",
   "execution_count": 10,
   "id": "e8ba40e1",
   "metadata": {},
   "outputs": [
    {
     "name": "stdout",
     "output_type": "stream",
     "text": [
      "[4 2 8 5 1 7 6 3]\n"
     ]
    }
   ],
   "source": [
    "x = np.array([4,2,8,5,1,7,6,3])\n",
    "print(x)"
   ]
  },
  {
   "cell_type": "code",
   "execution_count": 12,
   "id": "6facc618",
   "metadata": {},
   "outputs": [
    {
     "name": "stdout",
     "output_type": "stream",
     "text": [
      "[8 7 6 5 4 3 2 1]\n"
     ]
    }
   ],
   "source": [
    "print(np.sort(x)[::-1])"
   ]
  },
  {
   "cell_type": "markdown",
   "id": "1380a7bb",
   "metadata": {},
   "source": [
    "## indices of sorted elements "
   ]
  },
  {
   "cell_type": "code",
   "execution_count": 13,
   "id": "4b181c1f",
   "metadata": {},
   "outputs": [
    {
     "name": "stdout",
     "output_type": "stream",
     "text": [
      "[4 2 8 5 1 7 6 3]\n",
      "[0 1 2 3 4 5 6 7]\n"
     ]
    },
    {
     "data": {
      "text/plain": [
       "array([4, 1, 7, 0, 3, 6, 5, 2], dtype=int64)"
      ]
     },
     "execution_count": 13,
     "metadata": {},
     "output_type": "execute_result"
    }
   ],
   "source": [
    "print(x)\n",
    "print(np.array([0,1,2,3,4,5,6,7]))\n",
    "indices_of_sorted = np.argsort(x)\n",
    "indices_of_sorted"
   ]
  },
  {
   "cell_type": "markdown",
   "id": "8cdadd2a",
   "metadata": {},
   "source": [
    "## sorting by a specific column "
   ]
  },
  {
   "cell_type": "code",
   "execution_count": 15,
   "id": "84a6bb2b",
   "metadata": {},
   "outputs": [
    {
     "name": "stdout",
     "output_type": "stream",
     "text": [
      "[[ 4  3  2  3  6]\n",
      " [ 6  4  2  3  8]\n",
      " [ 9  8  4  4  4]\n",
      " [ 9  3  3 10  6]\n",
      " [ 8  5  1  1  9]]\n"
     ]
    }
   ],
   "source": [
    "x = np.random.randint(1,11,size=(5,5))\n",
    "print(x)"
   ]
  },
  {
   "cell_type": "code",
   "execution_count": 18,
   "id": "296f4edc",
   "metadata": {},
   "outputs": [
    {
     "name": "stdout",
     "output_type": "stream",
     "text": [
      "[[ 4  3  2  3  6]\n",
      " [ 6  4  2  3  8]\n",
      " [ 8  5  1  1  9]\n",
      " [ 9  8  4  4  4]\n",
      " [ 9  3  3 10  6]]\n"
     ]
    }
   ],
   "source": [
    "sorted_x = x[x[:,0].argsort()] # sort column 0\n",
    "print(sorted_x) "
   ]
  },
  {
   "cell_type": "code",
   "execution_count": 19,
   "id": "dbd89eb2",
   "metadata": {
    "scrolled": true
   },
   "outputs": [
    {
     "name": "stdout",
     "output_type": "stream",
     "text": [
      "[[ 4  3  1  1  4]\n",
      " [ 6  3  2  3  6]\n",
      " [ 8  4  2  3  6]\n",
      " [ 9  5  3  4  8]\n",
      " [ 9  8  4 10  9]]\n"
     ]
    }
   ],
   "source": [
    "print(np.sort(x,axis=0)) # sort the rows "
   ]
  },
  {
   "cell_type": "code",
   "execution_count": 20,
   "id": "70960a20",
   "metadata": {},
   "outputs": [
    {
     "name": "stdout",
     "output_type": "stream",
     "text": [
      "[[ 2  3  3  4  6]\n",
      " [ 2  3  4  6  8]\n",
      " [ 4  4  4  8  9]\n",
      " [ 3  3  6  9 10]\n",
      " [ 1  1  5  8  9]]\n"
     ]
    }
   ],
   "source": [
    "print(np.sort(x,axis=1))# sort the columns "
   ]
  },
  {
   "cell_type": "markdown",
   "id": "dc8d9dd3",
   "metadata": {},
   "source": [
    "# Searching "
   ]
  },
  {
   "cell_type": "code",
   "execution_count": 22,
   "id": "d87f9720",
   "metadata": {},
   "outputs": [
    {
     "name": "stdout",
     "output_type": "stream",
     "text": [
      "[[ 4  3  2  3  6]\n",
      " [ 6  4  2  3  8]\n",
      " [ 9  8  4  4  4]\n",
      " [ 9  3  3 10  6]\n",
      " [ 8  5  1  1  9]]\n"
     ]
    }
   ],
   "source": [
    "print(x)"
   ]
  },
  {
   "cell_type": "markdown",
   "id": "dfbef9c3",
   "metadata": {},
   "source": [
    "## finding the index of the maximum value "
   ]
  },
  {
   "cell_type": "code",
   "execution_count": 24,
   "id": "20ab2c7c",
   "metadata": {},
   "outputs": [
    {
     "name": "stdout",
     "output_type": "stream",
     "text": [
      "18\n"
     ]
    }
   ],
   "source": [
    "max_index = np.argmax(x)\n",
    "print(max_index)"
   ]
  },
  {
   "cell_type": "code",
   "execution_count": 25,
   "id": "6aa4e39e",
   "metadata": {},
   "outputs": [
    {
     "name": "stdout",
     "output_type": "stream",
     "text": [
      "22\n"
     ]
    }
   ],
   "source": [
    "max_index = np.argmin(x)\n",
    "print(max_index)"
   ]
  },
  {
   "cell_type": "markdown",
   "id": "64229ec9",
   "metadata": {},
   "source": [
    "# Mathematical Operations "
   ]
  },
  {
   "cell_type": "code",
   "execution_count": 26,
   "id": "d4de87f3",
   "metadata": {},
   "outputs": [
    {
     "name": "stdout",
     "output_type": "stream",
     "text": [
      "[1 2 3 4]\n",
      "[5 6 7 8]\n"
     ]
    }
   ],
   "source": [
    "x = np.array([1,2,3,4])\n",
    "y = np.array([5,6,7,8])\n",
    "print(x)\n",
    "print(y)"
   ]
  },
  {
   "cell_type": "code",
   "execution_count": 27,
   "id": "cf0b58fd",
   "metadata": {},
   "outputs": [
    {
     "name": "stdout",
     "output_type": "stream",
     "text": [
      "[ 6  8 10 12]\n",
      "[ 6  8 10 12]\n"
     ]
    }
   ],
   "source": [
    "print(x+y)\n",
    "print(np.add(x,y))"
   ]
  },
  {
   "cell_type": "code",
   "execution_count": 28,
   "id": "958b9fb6",
   "metadata": {},
   "outputs": [
    {
     "name": "stdout",
     "output_type": "stream",
     "text": [
      "[-4 -4 -4 -4]\n",
      "[-4 -4 -4 -4]\n"
     ]
    }
   ],
   "source": [
    "print(x-y)\n",
    "print(np.subtract(x,y))"
   ]
  },
  {
   "cell_type": "code",
   "execution_count": 29,
   "id": "ad5fa7e9",
   "metadata": {},
   "outputs": [
    {
     "name": "stdout",
     "output_type": "stream",
     "text": [
      "[ 5 12 21 32]\n",
      "[ 5 12 21 32]\n"
     ]
    }
   ],
   "source": [
    "print(x*y)\n",
    "print(np.multiply(x,y))"
   ]
  },
  {
   "cell_type": "code",
   "execution_count": 30,
   "id": "a2641372",
   "metadata": {},
   "outputs": [
    {
     "name": "stdout",
     "output_type": "stream",
     "text": [
      "[0.2        0.33333333 0.42857143 0.5       ]\n",
      "[0.2        0.33333333 0.42857143 0.5       ]\n"
     ]
    }
   ],
   "source": [
    "print(x/y)\n",
    "print(np.divide(x,y))"
   ]
  },
  {
   "cell_type": "code",
   "execution_count": 31,
   "id": "45eef6cb",
   "metadata": {},
   "outputs": [
    {
     "name": "stdout",
     "output_type": "stream",
     "text": [
      "[1 2 3 4]\n"
     ]
    }
   ],
   "source": [
    "x = np.array([1,2,3,4])\n",
    "print(x)"
   ]
  },
  {
   "cell_type": "code",
   "execution_count": 32,
   "id": "5bd0a1f3",
   "metadata": {},
   "outputs": [
    {
     "name": "stdout",
     "output_type": "stream",
     "text": [
      "[1.         1.41421356 1.73205081 2.        ]\n"
     ]
    }
   ],
   "source": [
    "print(np.sqrt(x))"
   ]
  },
  {
   "cell_type": "code",
   "execution_count": 33,
   "id": "53d35b63",
   "metadata": {},
   "outputs": [
    {
     "name": "stdout",
     "output_type": "stream",
     "text": [
      "[ 2.71828183  7.3890561  20.08553692 54.59815003]\n"
     ]
    }
   ],
   "source": [
    "print(np.exp(x))"
   ]
  },
  {
   "cell_type": "code",
   "execution_count": 35,
   "id": "68bdd153",
   "metadata": {},
   "outputs": [
    {
     "name": "stdout",
     "output_type": "stream",
     "text": [
      "[ 1  4  9 16]\n"
     ]
    }
   ],
   "source": [
    "print(np.power(x,2))"
   ]
  },
  {
   "cell_type": "markdown",
   "id": "7a2b2aa6",
   "metadata": {},
   "source": [
    "# Mean and Sum "
   ]
  },
  {
   "cell_type": "code",
   "execution_count": 37,
   "id": "fa7e0224",
   "metadata": {},
   "outputs": [
    {
     "name": "stdout",
     "output_type": "stream",
     "text": [
      "[[0 1]\n",
      " [2 3]]\n"
     ]
    }
   ],
   "source": [
    "x = np.arange(4).reshape(2,2)\n",
    "print(x)"
   ]
  },
  {
   "cell_type": "code",
   "execution_count": 38,
   "id": "3017a129",
   "metadata": {},
   "outputs": [
    {
     "name": "stdout",
     "output_type": "stream",
     "text": [
      "average of all:  1.5\n",
      "average of columns:  [1. 2.]\n",
      "average of rows:  [0.5 2.5]\n"
     ]
    }
   ],
   "source": [
    "print(\"average of all: \",x.mean())\n",
    "print(\"average of columns: \",x.mean(axis = 0))\n",
    "print(\"average of rows: \",x.mean(axis = 1))"
   ]
  },
  {
   "cell_type": "code",
   "execution_count": 39,
   "id": "8745c503",
   "metadata": {},
   "outputs": [
    {
     "name": "stdout",
     "output_type": "stream",
     "text": [
      "sum of all:  6\n",
      "sum of columns:  [2 4]\n",
      "average of rows:  [1 5]\n"
     ]
    }
   ],
   "source": [
    "print(\"sum of all: \",x.sum())\n",
    "print(\"sum of columns: \",x.sum(axis = 0))\n",
    "print(\"average of rows: \",x.sum(axis = 1))"
   ]
  },
  {
   "cell_type": "code",
   "execution_count": 40,
   "id": "a0fe4429",
   "metadata": {},
   "outputs": [
    {
     "name": "stdout",
     "output_type": "stream",
     "text": [
      "[[3 4]\n",
      " [5 6]]\n"
     ]
    }
   ],
   "source": [
    "print(3 + x)"
   ]
  },
  {
   "cell_type": "code",
   "execution_count": 43,
   "id": "a596ec3d",
   "metadata": {},
   "outputs": [
    {
     "name": "stdout",
     "output_type": "stream",
     "text": [
      "x:  [0 1 2]\n",
      "y:  [[0 1 2]\n",
      " [3 4 5]\n",
      " [6 7 8]]\n"
     ]
    }
   ],
   "source": [
    "x = np.arange(3)\n",
    "y = np.arange(9).reshape(3,3)\n",
    "print(\"x: \",x)\n",
    "print(\"y: \",y)"
   ]
  },
  {
   "cell_type": "code",
   "execution_count": 45,
   "id": "b2bc4348",
   "metadata": {},
   "outputs": [
    {
     "name": "stdout",
     "output_type": "stream",
     "text": [
      "[[ 0  2  4]\n",
      " [ 3  5  7]\n",
      " [ 6  8 10]]\n"
     ]
    }
   ],
   "source": [
    "print(x + y) # add x for all rows "
   ]
  },
  {
   "cell_type": "code",
   "execution_count": 46,
   "id": "b3805813",
   "metadata": {},
   "outputs": [
    {
     "name": "stdout",
     "output_type": "stream",
     "text": [
      "[[0]\n",
      " [1]\n",
      " [2]]\n"
     ]
    }
   ],
   "source": [
    "x = np.arange(3).reshape(3,1)\n",
    "print(x)"
   ]
  },
  {
   "cell_type": "code",
   "execution_count": 48,
   "id": "a5ced3b3",
   "metadata": {},
   "outputs": [
    {
     "name": "stdout",
     "output_type": "stream",
     "text": [
      "[[ 0  1  2]\n",
      " [ 4  5  6]\n",
      " [ 8  9 10]]\n"
     ]
    }
   ],
   "source": [
    "print(x + y) # add x for all columns  "
   ]
  },
  {
   "cell_type": "markdown",
   "id": "af012209",
   "metadata": {},
   "source": [
    "# Linear Algebra "
   ]
  },
  {
   "cell_type": "code",
   "execution_count": 49,
   "id": "c3b1f26a",
   "metadata": {},
   "outputs": [
    {
     "name": "stdout",
     "output_type": "stream",
     "text": [
      "x:  [[0 1 2]\n",
      " [3 4 5]\n",
      " [6 7 8]]\n",
      "y:  [[0 1 2]\n",
      " [3 4 5]\n",
      " [6 7 8]]\n"
     ]
    }
   ],
   "source": [
    "x = np.arange(9).reshape(3,3)\n",
    "y = np.arange(9).reshape(3,3)\n",
    "print(\"x: \",x)\n",
    "print(\"y: \",y)"
   ]
  },
  {
   "cell_type": "code",
   "execution_count": 50,
   "id": "2a51659c",
   "metadata": {},
   "outputs": [
    {
     "name": "stdout",
     "output_type": "stream",
     "text": [
      "[[ 15  18  21]\n",
      " [ 42  54  66]\n",
      " [ 69  90 111]]\n"
     ]
    }
   ],
   "source": [
    "dot_prodouct_result = np.dot(x,y)\n",
    "print(dot_prodouct_result)"
   ]
  },
  {
   "cell_type": "code",
   "execution_count": 51,
   "id": "39595a5b",
   "metadata": {},
   "outputs": [
    {
     "name": "stdout",
     "output_type": "stream",
     "text": [
      "[[ 15  18  21]\n",
      " [ 42  54  66]\n",
      " [ 69  90 111]]\n"
     ]
    }
   ],
   "source": [
    "matrix_multiplication = np.matmul(x,y)\n",
    "print(matrix_multiplication)"
   ]
  },
  {
   "cell_type": "markdown",
   "id": "8b0ad295",
   "metadata": {},
   "source": [
    "## Determinant value"
   ]
  },
  {
   "cell_type": "code",
   "execution_count": 53,
   "id": "956ad37e",
   "metadata": {},
   "outputs": [
    {
     "name": "stdout",
     "output_type": "stream",
     "text": [
      "-2.0000000000000004\n"
     ]
    }
   ],
   "source": [
    "x = np.array([[1,2],[3,4]])\n",
    "Det = np.linalg.det(x)\n",
    "print(Det)"
   ]
  },
  {
   "cell_type": "markdown",
   "id": "fd334515",
   "metadata": {},
   "source": [
    "## matrix Inversion "
   ]
  },
  {
   "cell_type": "code",
   "execution_count": 54,
   "id": "b008fc4a",
   "metadata": {},
   "outputs": [
    {
     "data": {
      "text/plain": [
       "array([[-2. ,  1. ],\n",
       "       [ 1.5, -0.5]])"
      ]
     },
     "execution_count": 54,
     "metadata": {},
     "output_type": "execute_result"
    }
   ],
   "source": [
    "Inv = np.linalg.inv(x)\n",
    "Inv"
   ]
  },
  {
   "cell_type": "markdown",
   "id": "09e4e805",
   "metadata": {},
   "source": [
    "## EigenValues and EigenVectors "
   ]
  },
  {
   "cell_type": "code",
   "execution_count": 55,
   "id": "95e2ccb6",
   "metadata": {},
   "outputs": [
    {
     "name": "stdout",
     "output_type": "stream",
     "text": [
      "eigenvalues:  [-0.37228132  5.37228132]\n",
      "eigenvectors:  [[-0.82456484 -0.41597356]\n",
      " [ 0.56576746 -0.90937671]]\n"
     ]
    }
   ],
   "source": [
    "eigenvalues , eigenvectors = np.linalg.eig(x)\n",
    "print('eigenvalues: ',eigenvalues)\n",
    "print('eigenvectors: ',eigenvectors)"
   ]
  },
  {
   "cell_type": "markdown",
   "id": "ab5b2d90",
   "metadata": {},
   "source": [
    "# Statistics Operations"
   ]
  },
  {
   "cell_type": "code",
   "execution_count": 57,
   "id": "d2fb636f",
   "metadata": {},
   "outputs": [
    {
     "name": "stdout",
     "output_type": "stream",
     "text": [
      "2.5\n",
      "2.5\n"
     ]
    }
   ],
   "source": [
    "print(x.mean())\n",
    "print(np.mean(x))"
   ]
  },
  {
   "cell_type": "code",
   "execution_count": 58,
   "id": "42780c87",
   "metadata": {},
   "outputs": [
    {
     "name": "stdout",
     "output_type": "stream",
     "text": [
      "1.25\n",
      "1.25\n"
     ]
    }
   ],
   "source": [
    "print(x.var())\n",
    "print(np.var(x))"
   ]
  },
  {
   "cell_type": "code",
   "execution_count": 59,
   "id": "c1748ad9",
   "metadata": {},
   "outputs": [
    {
     "name": "stdout",
     "output_type": "stream",
     "text": [
      "1.118033988749895\n",
      "1.118033988749895\n"
     ]
    }
   ],
   "source": [
    "print(x.std())\n",
    "print(np.std(x))"
   ]
  },
  {
   "cell_type": "code",
   "execution_count": 60,
   "id": "3e76cc5c",
   "metadata": {},
   "outputs": [
    {
     "name": "stdout",
     "output_type": "stream",
     "text": [
      "2.5\n"
     ]
    }
   ],
   "source": [
    "#print(x.median())\n",
    "print(np.median(x))"
   ]
  },
  {
   "cell_type": "code",
   "execution_count": 62,
   "id": "1a013ded",
   "metadata": {},
   "outputs": [
    {
     "name": "stdout",
     "output_type": "stream",
     "text": [
      "4\n",
      "4\n"
     ]
    }
   ],
   "source": [
    "print(x.max())\n",
    "print(np.max(x))"
   ]
  },
  {
   "cell_type": "code",
   "execution_count": 63,
   "id": "f8d1c59e",
   "metadata": {},
   "outputs": [
    {
     "name": "stdout",
     "output_type": "stream",
     "text": [
      "10\n",
      "10\n"
     ]
    }
   ],
   "source": [
    "print(x.sum())\n",
    "print(np.sum(x))"
   ]
  },
  {
   "cell_type": "code",
   "execution_count": 64,
   "id": "aabd6668",
   "metadata": {},
   "outputs": [
    {
     "name": "stdout",
     "output_type": "stream",
     "text": [
      "[[ 8  2  2  3  1]\n",
      " [ 3  1  9  9  1]\n",
      " [ 1  4  8  2  9]\n",
      " [ 2  2  3  5  4]\n",
      " [ 8  6  2  3 10]]\n"
     ]
    }
   ],
   "source": [
    "x = np.random.randint(1,11,size = (5,5))\n",
    "print(x)"
   ]
  },
  {
   "cell_type": "code",
   "execution_count": 65,
   "id": "65b11cf5",
   "metadata": {},
   "outputs": [
    {
     "name": "stdout",
     "output_type": "stream",
     "text": [
      "unique Values:  [ 1  2  3  4  5  6  8  9 10]\n",
      "values Count:  [4 6 4 2 1 1 3 3 1]\n"
     ]
    }
   ],
   "source": [
    "unique_values , value_counts = np.unique(x,return_counts=True)\n",
    "print(\"unique Values: \",unique_values)\n",
    "print(\"values Count: \",value_counts)"
   ]
  },
  {
   "cell_type": "markdown",
   "id": "b74bee68",
   "metadata": {},
   "source": [
    "## correlation matrix"
   ]
  },
  {
   "cell_type": "code",
   "execution_count": 66,
   "id": "f898a5eb",
   "metadata": {},
   "outputs": [
    {
     "data": {
      "text/plain": [
       "array([[ 1.        , -0.035169  , -0.75337126, -0.42841224,  0.16690807],\n",
       "       [-0.035169  ,  1.        , -0.07530715,  0.48651277, -0.88210791],\n",
       "       [-0.75337126, -0.07530715,  1.        ,  0.17217245,  0.10061677],\n",
       "       [-0.42841224,  0.48651277,  0.17217245,  1.        , -0.21771589],\n",
       "       [ 0.16690807, -0.88210791,  0.10061677, -0.21771589,  1.        ]])"
      ]
     },
     "execution_count": 66,
     "metadata": {},
     "output_type": "execute_result"
    }
   ],
   "source": [
    "correlation = np.corrcoef(x)\n",
    "correlation"
   ]
  },
  {
   "cell_type": "markdown",
   "id": "f4fe27fb",
   "metadata": {},
   "source": [
    "## covariance matrix "
   ]
  },
  {
   "cell_type": "code",
   "execution_count": 67,
   "id": "82ddbf1c",
   "metadata": {},
   "outputs": [
    {
     "data": {
      "text/plain": [
       "array([[  7.7 ,  -0.4 ,  -7.45,  -1.55,   1.55],\n",
       "       [ -0.4 ,  16.8 ,  -1.1 ,   2.6 , -12.1 ],\n",
       "       [ -7.45,  -1.1 ,  12.7 ,   0.8 ,   1.2 ],\n",
       "       [ -1.55,   2.6 ,   0.8 ,   1.7 ,  -0.95],\n",
       "       [  1.55, -12.1 ,   1.2 ,  -0.95,  11.2 ]])"
      ]
     },
     "execution_count": 67,
     "metadata": {},
     "output_type": "execute_result"
    }
   ],
   "source": [
    "covariance_matrix = np.cov(x)\n",
    "covariance_matrix"
   ]
  }
 ],
 "metadata": {
  "kernelspec": {
   "display_name": "Python 3 (ipykernel)",
   "language": "python",
   "name": "python3"
  },
  "language_info": {
   "codemirror_mode": {
    "name": "ipython",
    "version": 3
   },
   "file_extension": ".py",
   "mimetype": "text/x-python",
   "name": "python",
   "nbconvert_exporter": "python",
   "pygments_lexer": "ipython3",
   "version": "3.11.5"
  }
 },
 "nbformat": 4,
 "nbformat_minor": 5
}
