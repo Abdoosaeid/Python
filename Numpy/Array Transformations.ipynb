{
 "cells": [
  {
   "cell_type": "markdown",
   "id": "68b88de1-9b2b-4ff1-b2f4-24e7e6943a49",
   "metadata": {},
   "source": [
    "# Saving and loading arrays"
   ]
  },
  {
   "cell_type": "code",
   "execution_count": 1,
   "id": "c6476401-8477-4c64-ba6e-8949468ea393",
   "metadata": {},
   "outputs": [],
   "source": [
    "import numpy as np "
   ]
  },
  {
   "cell_type": "markdown",
   "id": "e9d87270-6a95-4362-967b-9cfdf4f17c49",
   "metadata": {},
   "source": [
    "## RGP array "
   ]
  },
  {
   "cell_type": "code",
   "execution_count": 3,
   "id": "e149058b-69e9-47ea-886c-63a2ce379fdc",
   "metadata": {},
   "outputs": [
    {
     "data": {
      "image/png": "[encoded data removed]",
      "text/plain": [
       "<Figure size 640x480 with 1 Axes>"
      ]
     },
     "metadata": {},
     "output_type": "display_data"
    }
   ],
   "source": [
    "import matplotlib.pyplot as plt\n",
    "rgb = np.array([[[255, 0, 0], [255, 0, 0], [255, 0, 0]],\n",
    "[[0, 255, 0], [0, 255, 0], [0, 255, 0]],\n",
    "[[0, 0, 255], [0, 0, 255], [0, 0, 255]]])\n",
    "\n",
    "plt.imshow(rgb)\n",
    "plt.show()"
   ]
  },
  {
   "cell_type": "markdown",
   "id": "c7776dd9-4b67-42ba-9fc1-f43a32ed6a5f",
   "metadata": {},
   "source": [
    "## loading .npy files "
   ]
  },
  {
   "cell_type": "markdown",
   "id": "0f669c2e-a0ca-4b92-b48b-72642dff97c7",
   "metadata": {},
   "source": [
    "### save arrays inmany formats:\n",
    "- .csv\n",
    "- .txt \n",
    "- .pkl\n",
    "- .npy"
   ]
  },
  {
   "cell_type": "code",
   "execution_count": 7,
   "id": "3cafba74-05f6-486d-9706-fbfa648761dc",
   "metadata": {},
   "outputs": [
    {
     "name": "stdout",
     "output_type": "stream",
     "text": [
      "[1 2 3 4 5]\n"
     ]
    }
   ],
   "source": [
    "with open(\"my_array.npy\", \"rb\") as f:\n",
    "    arr = np. load(f)\n",
    "print(arr)"
   ]
  },
  {
   "cell_type": "markdown",
   "id": "30faeede-5de3-4dab-9453-df56a8c3300d",
   "metadata": {},
   "source": [
    "### Saving arrays as .npy files"
   ]
  },
  {
   "cell_type": "code",
   "execution_count": 8,
   "id": "6c861833-81e8-47e7-aaf3-eb65c3fbea4e",
   "metadata": {},
   "outputs": [],
   "source": [
    "with open (\"my_array.npy\",\"wb\") as f:\n",
    "    np.save(f,arr)"
   ]
  },
  {
   "cell_type": "markdown",
   "id": "da1c4a6c-d045-4e3b-82c6-dbdf8dceede2",
   "metadata": {},
   "source": [
    "## Help "
   ]
  },
  {
   "cell_type": "code",
   "execution_count": 9,
   "id": "0ad3a8e4-4f28-4dcf-86d4-de2717987dc8",
   "metadata": {},
   "outputs": [
    {
     "name": "stdout",
     "output_type": "stream",
     "text": [
      "Help on _ArrayFunctionDispatcher in module numpy:\n",
      "\n",
      "unique(ar, return_index=False, return_inverse=False, return_counts=False, axis=None, *, equal_nan=True)\n",
      "    Find the unique elements of an array.\n",
      "\n",
      "    Returns the sorted unique elements of an array. There are three optional\n",
      "    outputs in addition to the unique elements:\n",
      "\n",
      "    * the indices of the input array that give the unique values\n",
      "    * the indices of the unique array that reconstruct the input array\n",
      "    * the number of times each unique value comes up in the input array\n",
      "\n",
      "    Parameters\n",
      "    ----------\n",
      "    ar : array_like\n",
      "        Input array. Unless `axis` is specified, this will be flattened if it\n",
      "        is not already 1-D.\n",
      "    return_index : bool, optional\n",
      "        If True, also return the indices of `ar` (along the specified axis,\n",
      "        if provided, or in the flattened array) that result in the unique array.\n",
      "    return_inverse : bool, optional\n",
      "        If True, also return the indices of the unique array (for the specified\n",
      "        axis, if provided) that can be used to reconstruct `ar`.\n",
      "    return_counts : bool, optional\n",
      "        If True, also return the number of times each unique item appears\n",
      "        in `ar`.\n",
      "    axis : int or None, optional\n",
      "        The axis to operate on. If None, `ar` will be flattened. If an integer,\n",
      "        the subarrays indexed by the given axis will be flattened and treated\n",
      "        as the elements of a 1-D array with the dimension of the given axis,\n",
      "        see the notes for more details.  Object arrays or structured arrays\n",
      "        that contain objects are not supported if the `axis` kwarg is used. The\n",
      "        default is None.\n",
      "\n",
      "        .. versionadded:: 1.13.0\n",
      "\n",
      "    equal_nan : bool, optional\n",
      "        If True, collapses multiple NaN values in the return array into one.\n",
      "\n",
      "        .. versionadded:: 1.24\n",
      "\n",
      "    Returns\n",
      "    -------\n",
      "    unique : ndarray\n",
      "        The sorted unique values.\n",
      "    unique_indices : ndarray, optional\n",
      "        The indices of the first occurrences of the unique values in the\n",
      "        original array. Only provided if `return_index` is True.\n",
      "    unique_inverse : ndarray, optional\n",
      "        The indices to reconstruct the original array from the\n",
      "        unique array. Only provided if `return_inverse` is True.\n",
      "    unique_counts : ndarray, optional\n",
      "        The number of times each of the unique values comes up in the\n",
      "        original array. Only provided if `return_counts` is True.\n",
      "\n",
      "        .. versionadded:: 1.9.0\n",
      "\n",
      "    See Also\n",
      "    --------\n",
      "    repeat : Repeat elements of an array.\n",
      "\n",
      "    Notes\n",
      "    -----\n",
      "    When an axis is specified the subarrays indexed by the axis are sorted.\n",
      "    This is done by making the specified axis the first dimension of the array\n",
      "    (move the axis to the first dimension to keep the order of the other axes)\n",
      "    and then flattening the subarrays in C order. The flattened subarrays are\n",
      "    then viewed as a structured type with each element given a label, with the\n",
      "    effect that we end up with a 1-D array of structured types that can be\n",
      "    treated in the same way as any other 1-D array. The result is that the\n",
      "    flattened subarrays are sorted in lexicographic order starting with the\n",
      "    first element.\n",
      "\n",
      "    .. versionchanged: 1.21\n",
      "        If nan values are in the input array, a single nan is put\n",
      "        to the end of the sorted unique values.\n",
      "\n",
      "        Also for complex arrays all NaN values are considered equivalent\n",
      "        (no matter whether the NaN is in the real or imaginary part).\n",
      "        As the representant for the returned array the smallest one in the\n",
      "        lexicographical order is chosen - see np.sort for how the lexicographical\n",
      "        order is defined for complex arrays.\n",
      "\n",
      "    .. versionchanged: 2.0\n",
      "        For multi-dimensional inputs, ``unique_inverse`` is reshaped\n",
      "        such that the input can be reconstructed using\n",
      "        ``np.take(unique, unique_inverse)`` when ``axis = None``, and\n",
      "        ``np.take_along_axis(unique, unique_inverse, axis=axis)`` otherwise.\n",
      "\n",
      "    Examples\n",
      "    --------\n",
      "    >>> np.unique([1, 1, 2, 2, 3, 3])\n",
      "    array([1, 2, 3])\n",
      "    >>> a = np.array([[1, 1], [2, 3]])\n",
      "    >>> np.unique(a)\n",
      "    array([1, 2, 3])\n",
      "\n",
      "    Return the unique rows of a 2D array\n",
      "\n",
      "    >>> a = np.array([[1, 0, 0], [1, 0, 0], [2, 3, 4]])\n",
      "    >>> np.unique(a, axis=0)\n",
      "    array([[1, 0, 0], [2, 3, 4]])\n",
      "\n",
      "    Return the indices of the original array that give the unique values:\n",
      "\n",
      "    >>> a = np.array(['a', 'b', 'b', 'c', 'a'])\n",
      "    >>> u, indices = np.unique(a, return_index=True)\n",
      "    >>> u\n",
      "    array(['a', 'b', 'c'], dtype='<U1')\n",
      "    >>> indices\n",
      "    array([0, 1, 3])\n",
      "    >>> a[indices]\n",
      "    array(['a', 'b', 'c'], dtype='<U1')\n",
      "\n",
      "    Reconstruct the input array from the unique values and inverse:\n",
      "\n",
      "    >>> a = np.array([1, 2, 6, 4, 2, 3, 2])\n",
      "    >>> u, indices = np.unique(a, return_inverse=True)\n",
      "    >>> u\n",
      "    array([1, 2, 3, 4, 6])\n",
      "    >>> indices\n",
      "    array([0, 1, 4, 3, 1, 2, 1])\n",
      "    >>> u[indices]\n",
      "    array([1, 2, 6, 4, 2, 3, 2])\n",
      "\n",
      "    Reconstruct the input values from the unique values and counts:\n",
      "\n",
      "    >>> a = np.array([1, 2, 6, 4, 2, 3, 2])\n",
      "    >>> values, counts = np.unique(a, return_counts=True)\n",
      "    >>> values\n",
      "    array([1, 2, 3, 4, 6])\n",
      "    >>> counts\n",
      "    array([1, 3, 1, 1, 1])\n",
      "    >>> np.repeat(values, counts)\n",
      "    array([1, 2, 2, 2, 3, 4, 6])    # original order not preserved\n",
      "\n"
     ]
    }
   ],
   "source": [
    "help(np.unique)"
   ]
  },
  {
   "cell_type": "markdown",
   "id": "15af5b23-682e-4c1e-b523-6e71fae459ff",
   "metadata": {},
   "source": [
    "# Array acrobatics"
   ]
  },
  {
   "cell_type": "markdown",
   "id": "1bef2ea0-8e71-4cad-bd74-9f9cd94898ac",
   "metadata": {},
   "source": [
    "### In machine learning, data augmentation is the process of adding additional data by performing small manipulations on data that is already available. "
   ]
  },
  {
   "cell_type": "markdown",
   "id": "ab60426e-26e8-4fca-b84f-210c5c323291",
   "metadata": {},
   "source": [
    "## Transposing an array"
   ]
  },
  {
   "cell_type": "code",
   "execution_count": 10,
   "id": "ef230e92-e1a1-4c9d-bf89-aa978f1f2602",
   "metadata": {},
   "outputs": [
    {
     "data": {
      "text/plain": [
       "array([[4.3, 4.2, 4.1],\n",
       "       [3.3, 3.2, 3.1],\n",
       "       [2.3, 2.2, 2.1],\n",
       "       [1.3, 1.2, 1.1]])"
      ]
     },
     "execution_count": 10,
     "metadata": {},
     "output_type": "execute_result"
    }
   ],
   "source": [
    "array = np.array([[1.1, 1.2, 1.3],\n",
    "                    [2.1, 2.2, 2.3],\n",
    "                    [3.1, 3.2, 3.3],\n",
    "                    [4.1, 4.2, 4.3]])\n",
    "np.flip(array)"
   ]
  },
  {
   "cell_type": "code",
   "execution_count": 11,
   "id": "7a93bda4-358d-463f-8733-0c70e9b83e8f",
   "metadata": {},
   "outputs": [
    {
     "data": {
      "text/plain": [
       "array([[1.1, 2.1, 3.1, 4.1],\n",
       "       [1.2, 2.2, 3.2, 4.2],\n",
       "       [1.3, 2.3, 3.3, 4.3]])"
      ]
     },
     "execution_count": 11,
     "metadata": {},
     "output_type": "execute_result"
    }
   ],
   "source": [
    "array = np.array([[1.1, 1.2, 1.3],\n",
    "[2.1, 2.2, 2.3],\n",
    "[3.1, 3.2, 3.3],\n",
    "[4.1, 4.2, 4.3]])\n",
    "np. transpose (array)"
   ]
  },
  {
   "cell_type": "markdown",
   "id": "8b8de045-928c-498f-98c5-26d925188849",
   "metadata": {},
   "source": [
    " # Stacking and splitting"
   ]
  },
  {
   "cell_type": "code",
   "execution_count": 13,
   "id": "905e77b8-d030-4098-ae13-20f27223368e",
   "metadata": {},
   "outputs": [
    {
     "data": {
      "text/plain": [
       "array([[255, 255, 255],\n",
       "       [255,   0,   0],\n",
       "       [  0,   0,   0]])"
      ]
     },
     "execution_count": 13,
     "metadata": {},
     "output_type": "execute_result"
    }
   ],
   "source": [
    "rgb = np.array([[[255, 0, 0], [255, 255, 0], [255, 255, 255]],\n",
    "[[255, 0, 255], [0, 255, 0], [0, 255, 255]],\n",
    "[[0, 0, 0], [0, 255, 255], [0, 0, 255]]])\n",
    "red_array = rgb[ :, :, 0]\n",
    "green_array = rgb[:, :, 1]\n",
    "blue_array = rgb[:, :, 2]\n",
    "red_array"
   ]
  },
  {
   "cell_type": "code",
   "execution_count": 14,
   "id": "fc205013-32b1-4f3a-8aec-0e6b5a608d14",
   "metadata": {},
   "outputs": [
    {
     "data": {
      "text/plain": [
       "array([[[255],\n",
       "        [255],\n",
       "        [255]],\n",
       "\n",
       "       [[255],\n",
       "        [  0],\n",
       "        [  0]],\n",
       "\n",
       "       [[  0],\n",
       "        [  0],\n",
       "        [  0]]])"
      ]
     },
     "execution_count": 14,
     "metadata": {},
     "output_type": "execute_result"
    }
   ],
   "source": [
    "red_array , green_array , blue_array = np.split(rgb,3,axis=2)\n",
    "red_array"
   ]
  },
  {
   "cell_type": "code",
   "execution_count": 15,
   "id": "526a2158-3952-45d7-bb5e-5484508a9e90",
   "metadata": {},
   "outputs": [
    {
     "data": {
      "text/plain": [
       "(3, 3, 1)"
      ]
     },
     "execution_count": 15,
     "metadata": {},
     "output_type": "execute_result"
    }
   ],
   "source": [
    "red_array.shape"
   ]
  },
  {
   "cell_type": "markdown",
   "id": "ba5c6821-1d2e-48f6-936b-d4ebde3fb6b3",
   "metadata": {},
   "source": [
    "## Trailing dimensions"
   ]
  },
  {
   "cell_type": "code",
   "execution_count": 16,
   "id": "5cffa6c9-1d19-4236-b36c-cd760ac3b4d0",
   "metadata": {},
   "outputs": [
    {
     "data": {
      "text/plain": [
       "array([[255, 255, 255],\n",
       "       [255,   0,   0],\n",
       "       [  0,   0,   0]])"
      ]
     },
     "execution_count": 16,
     "metadata": {},
     "output_type": "execute_result"
    }
   ],
   "source": [
    "red_array_2d = red_array.reshape((3,3))\n",
    "red_array_2d"
   ]
  },
  {
   "cell_type": "code",
   "execution_count": 17,
   "id": "60a97c07-f43b-4933-afd7-e13718c1641a",
   "metadata": {},
   "outputs": [
    {
     "data": {
      "text/plain": [
       "(3, 3)"
      ]
     },
     "execution_count": 17,
     "metadata": {},
     "output_type": "execute_result"
    }
   ],
   "source": [
    "red_array_2d.shape"
   ]
  },
  {
   "cell_type": "markdown",
   "id": "52d19ff8-03ff-410c-9127-26385eef1fd4",
   "metadata": {},
   "source": [
    "# Stacking arrays "
   ]
  },
  {
   "cell_type": "markdown",
   "id": "e14a361a-ceae-4226-9a8a-b4b73a3e9762",
   "metadata": {},
   "source": [
    "```\n",
    "red_array = np.zeros((1001, 1001)).astype(np.int32)\n",
    "green_array = green_array.reshape((1001, 1001))\n",
    "blue_array = blue_array.reshape((1001, 1001))\n",
    "stacked_rgb = np.stack([red_array, green_array, blue_array], axis=2)\n",
    "plt.imshow(stacked_rgb)\n",
    "plt.show()\n",
    "```"
   ]
  }
 ],
 "metadata": {
  "kernelspec": {
   "display_name": "Python 3 (ipykernel)",
   "language": "python",
   "name": "python3"
  },
  "language_info": {
   "codemirror_mode": {
    "name": "ipython",
    "version": 3
   },
   "file_extension": ".py",
   "mimetype": "text/x-python",
   "name": "python",
   "nbconvert_exporter": "python",
   "pygments_lexer": "ipython3",
   "version": "3.12.6"
  }
 },
 "nbformat": 4,
 "nbformat_minor": 5
}
