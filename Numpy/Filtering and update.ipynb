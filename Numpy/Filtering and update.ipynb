{
 "cells": [
  {
   "cell_type": "markdown",
   "id": "5d4ce440-c3a3-434b-b395-9f8be8f45adb",
   "metadata": {},
   "source": [
    "# Filtering arrays"
   ]
  },
  {
   "cell_type": "markdown",
   "id": "c2f28772-977f-4001-8865-57905755f01e",
   "metadata": {},
   "source": [
    "## Two ways to filter \n",
    "- Masks and fancy indexing\n",
    "- np.where()"
   ]
  },
  {
   "cell_type": "markdown",
   "id": "1592eae5-afd9-4901-8a7a-d9d61bacf113",
   "metadata": {},
   "source": [
    "## Boolean masks "
   ]
  },
  {
   "cell_type": "code",
   "execution_count": 8,
   "id": "4d8ddb21-9b0d-4ee8-9373-dc1009d1aa0e",
   "metadata": {},
   "outputs": [
    {
     "data": {
      "text/plain": [
       "array([1, 2, 3, 4, 5])"
      ]
     },
     "execution_count": 8,
     "metadata": {},
     "output_type": "execute_result"
    }
   ],
   "source": [
    "import numpy as np \n",
    "one_to_five = np.arange(1,6)\n",
    "one_to_five"
   ]
  },
  {
   "cell_type": "code",
   "execution_count": 9,
   "id": "c53ae5e2-5b88-45ab-9251-456adaf03283",
   "metadata": {},
   "outputs": [
    {
     "data": {
      "text/plain": [
       "array([False,  True, False,  True, False])"
      ]
     },
     "execution_count": 9,
     "metadata": {},
     "output_type": "execute_result"
    }
   ],
   "source": [
    "mask = one_to_five % 2 == 0\n",
    "mask"
   ]
  },
  {
   "cell_type": "markdown",
   "id": "6baf5fad-69a9-4543-88e7-19d89a72bcbf",
   "metadata": {},
   "source": [
    "- Filtering with fancy indexing "
   ]
  },
  {
   "cell_type": "code",
   "execution_count": 10,
   "id": "cb640d27-7349-4873-87ea-a0fcdddf7712",
   "metadata": {},
   "outputs": [
    {
     "data": {
      "text/plain": [
       "array([2, 4])"
      ]
     },
     "execution_count": 10,
     "metadata": {},
     "output_type": "execute_result"
    }
   ],
   "source": [
    "one_to_five[mask]"
   ]
  },
  {
   "cell_type": "code",
   "execution_count": 6,
   "id": "947f66e0-9ee3-4e16-9dbe-5fde40c49cb1",
   "metadata": {},
   "outputs": [
    {
     "data": {
      "text/plain": [
       "array([[ 1, 22],\n",
       "       [ 2, 21],\n",
       "       [ 3, 27],\n",
       "       [ 4, 26]])"
      ]
     },
     "execution_count": 6,
     "metadata": {},
     "output_type": "execute_result"
    }
   ],
   "source": [
    "classroom_ids_and_sizes = np.array([[1, 22], [2, 21], [3, 27], [4, 26]])\n",
    "classroom_ids_and_sizes"
   ]
  },
  {
   "cell_type": "markdown",
   "id": "75119e41-d22e-4b89-a4d3-f58cfa2189a7",
   "metadata": {},
   "source": [
    "-  Let's say we are assigning partners in a school, and we want to know which class ids have an even number of students. Class ids are in the left column and class sizes are in the right"
   ]
  },
  {
   "cell_type": "code",
   "execution_count": 11,
   "id": "be1fa56c-9cb4-4232-92b4-90a15db4f887",
   "metadata": {},
   "outputs": [
    {
     "data": {
      "text/plain": [
       "array([ True, False, False,  True])"
      ]
     },
     "execution_count": 11,
     "metadata": {},
     "output_type": "execute_result"
    }
   ],
   "source": [
    "classroom_ids_and_sizes[:,1] % 2 == 0"
   ]
  },
  {
   "cell_type": "code",
   "execution_count": 12,
   "id": "a637048c-4930-4dd3-8a5e-a7535e58545d",
   "metadata": {},
   "outputs": [
    {
     "data": {
      "text/plain": [
       "array([1, 4])"
      ]
     },
     "execution_count": 12,
     "metadata": {},
     "output_type": "execute_result"
    }
   ],
   "source": [
    "classroom_ids_and_sizes[:,0][classroom_ids_and_sizes[:,1] % 2 == 0]"
   ]
  },
  {
   "cell_type": "code",
   "execution_count": 13,
   "id": "b214fc3a-5790-479d-8f7f-aa0bc5c51f1b",
   "metadata": {},
   "outputs": [
    {
     "data": {
      "text/plain": [
       "(array([0, 3]),)"
      ]
     },
     "execution_count": 13,
     "metadata": {},
     "output_type": "execute_result"
    }
   ],
   "source": [
    "np.where(classroom_ids_and_sizes[:,1] % 2 == 0)"
   ]
  },
  {
   "cell_type": "markdown",
   "id": "a72f1e94-426c-46fb-9dd7-6257afa46c29",
   "metadata": {},
   "source": [
    "- Using np.where() in the classroom example returns indices indicating"
   ]
  },
  {
   "cell_type": "markdown",
   "id": "4bf9fb33-9ace-42cf-a8e2-4f4cc80b0338",
   "metadata": {},
   "source": [
    "sudoku_game = np.array([[0, 0, 4, 3, 0, 0, 2, 0, 9],\n",
    "[0, 0, 5, 0, 0, 9, 0, 0, 1],\n",
    "[0, 7, 0, 0, 6, 0, 0, 4, 3],\n",
    "[0, 0, 6, 0, 0, 2, 0, 8, 7],\n",
    "[1, 9, 0, 0, 0, 7, 4, 0, 0],\n",
    "[0, 5, 0, 0, 8, 3, 0, 0, 0],\n",
    "[6, 0, 0, 0, 0, 0, 1, 0, 5],\n",
    "[0, 0, 3, 5, 0, 8, 6, 9, 0],\n",
    "[0, 4, 2, 9, 1, 0, 3, 0, 0]])"
   ]
  },
  {
   "cell_type": "code",
   "execution_count": 23,
   "id": "b76f9878-02e2-4c14-b64c-0d137718e3f7",
   "metadata": {},
   "outputs": [
    {
     "data": {
      "text/plain": [
       "(array([0, 0, 0, 0, 0, 1, 1, 1, 1, 1, 1, 2, 2, 2, 2, 2, 3, 3, 3, 3, 3, 4,\n",
       "        4, 4, 4, 4, 5, 5, 5, 5, 5, 5, 6, 6, 6, 6, 6, 6, 7, 7, 7, 7, 8, 8,\n",
       "        8, 8]),\n",
       " array([0, 1, 4, 5, 7, 0, 1, 3, 4, 6, 7, 0, 2, 3, 5, 6, 0, 1, 3, 4, 6, 2,\n",
       "        3, 4, 7, 8, 0, 2, 3, 6, 7, 8, 1, 2, 3, 4, 5, 7, 0, 1, 4, 8, 0, 5,\n",
       "        7, 8]))"
      ]
     },
     "execution_count": 23,
     "metadata": {},
     "output_type": "execute_result"
    }
   ],
   "source": [
    "row_ind , column_ind = np.where(sudoku_game == 0)\n",
    "row_ind , column_ind "
   ]
  },
  {
   "cell_type": "markdown",
   "id": "fbf451a6-bdfb-4535-bcd0-a2596487396b",
   "metadata": {},
   "source": [
    "## Find and replace"
   ]
  },
  {
   "cell_type": "code",
   "execution_count": 24,
   "id": "ac8a8f1a-6b16-45d9-9570-ed7e09594f4d",
   "metadata": {},
   "outputs": [
    {
     "data": {
      "text/plain": [
       "array([['', '', '4', '3', '', '', '2', '', '9'],\n",
       "       ['', '', '5', '', '', '9', '', '', '1'],\n",
       "       ['', '7', '', '', '6', '', '', '4', '3'],\n",
       "       ['', '', '6', '', '', '2', '', '8', '7'],\n",
       "       ['1', '9', '', '', '', '7', '4', '', ''],\n",
       "       ['', '5', '', '', '8', '3', '', '', ''],\n",
       "       ['6', '', '', '', '', '', '1', '', '5'],\n",
       "       ['', '', '3', '5', '', '8', '6', '9', ''],\n",
       "       ['', '4', '2', '9', '1', '', '3', '', '']], dtype='<U21')"
      ]
     },
     "execution_count": 24,
     "metadata": {},
     "output_type": "execute_result"
    }
   ],
   "source": [
    "np.where(sudoku_game==0 , \"\", sudoku_game)"
   ]
  },
  {
   "cell_type": "markdown",
   "id": "56ae1b8b-ccd7-42ab-8807-4bdfdf60b3f2",
   "metadata": {},
   "source": [
    "# Adding and removing data"
   ]
  },
  {
   "cell_type": "markdown",
   "id": "a39ad9dd-880a-46d1-a61c-94c9502fc6de",
   "metadata": {},
   "source": [
    "- Concatenating rows"
   ]
  },
  {
   "cell_type": "code",
   "execution_count": 25,
   "id": "2c36891f-7d36-497f-887f-cfac65a8cce8",
   "metadata": {},
   "outputs": [
    {
     "data": {
      "text/plain": [
       "array([[ 1, 22],\n",
       "       [ 2, 21],\n",
       "       [ 3, 27],\n",
       "       [ 4, 26],\n",
       "       [ 5, 30],\n",
       "       [ 5, 17]])"
      ]
     },
     "execution_count": 25,
     "metadata": {},
     "output_type": "execute_result"
    }
   ],
   "source": [
    "classroom_ids_and_sizes = np.array([[1, 22], [2, 21], [3, 27], [4, 26]]) \n",
    "new_classrooms = np.array([[5,30],[5,17]])\n",
    "np.concatenate((classroom_ids_and_sizes,new_classrooms))"
   ]
  },
  {
   "cell_type": "markdown",
   "id": "1c810727-c6ef-4283-96b7-814dc9b60b08",
   "metadata": {},
   "source": [
    "- Concatenating columns "
   ]
  },
  {
   "cell_type": "code",
   "execution_count": 30,
   "id": "c2bde711-63e4-40e4-b512-0a2ca4093e7c",
   "metadata": {},
   "outputs": [
    {
     "data": {
      "text/plain": [
       "array([['1', '22', '1', 'James'],\n",
       "       ['2', '21', '1', 'George'],\n",
       "       ['3', '27', '3', 'Amy'],\n",
       "       ['4', '26', '3', 'Meehir']], dtype='<U21')"
      ]
     },
     "execution_count": 30,
     "metadata": {},
     "output_type": "execute_result"
    }
   ],
   "source": [
    "classroom_ids_and_sizes = np.array([[1, 22], [2, 21], [3, 27], [4, 26]]) \n",
    "grade_levels_and_teachers = np.array([[1, \"James\"], [1, \"George\"], [3, \"Amy\"],[3, \"Meehir\"]])\n",
    "classroom_data = np.concatenate((classroom_ids_and_sizes, grade_levels_and_teachers), axis=1)\n",
    "classroom_data"
   ]
  },
  {
   "cell_type": "markdown",
   "id": "0bc2520d-a7e3-48cb-8840-f87cfd050db0",
   "metadata": {},
   "source": [
    "# Deleting with np.delete()"
   ]
  },
  {
   "cell_type": "code",
   "execution_count": 31,
   "id": "fd323026-a0bc-4156-88db-ebcc5b6e62d0",
   "metadata": {},
   "outputs": [
    {
     "data": {
      "text/plain": [
       "array([['1', '22', '1', 'James'],\n",
       "       ['2', '21', '1', 'George'],\n",
       "       ['3', '27', '3', 'Amy'],\n",
       "       ['4', '26', '3', 'Meehir']], dtype='<U21')"
      ]
     },
     "execution_count": 31,
     "metadata": {},
     "output_type": "execute_result"
    }
   ],
   "source": [
    "classroom_data"
   ]
  },
  {
   "cell_type": "markdown",
   "id": "2e5521cb-4015-47aa-8ee6-1bac398a2748",
   "metadata": {},
   "source": [
    "- if you need to delete the row in the index = 1 "
   ]
  },
  {
   "cell_type": "code",
   "execution_count": 32,
   "id": "8cfa8acf-d08c-49da-aac3-b525042a00ae",
   "metadata": {},
   "outputs": [
    {
     "data": {
      "text/plain": [
       "array([['1', '22', '1', 'James'],\n",
       "       ['3', '27', '3', 'Amy'],\n",
       "       ['4', '26', '3', 'Meehir']], dtype='<U21')"
      ]
     },
     "execution_count": 32,
     "metadata": {},
     "output_type": "execute_result"
    }
   ],
   "source": [
    "np.delete(classroom_data,1,axis=0)"
   ]
  },
  {
   "cell_type": "markdown",
   "id": "5a81561a-fe0a-4633-8005-a8c3272b3d61",
   "metadata": {},
   "source": [
    "- if you need to delete the column in the index = 1 "
   ]
  },
  {
   "cell_type": "code",
   "execution_count": 33,
   "id": "ca207c70-37a7-48d9-9233-c916a21acdbe",
   "metadata": {},
   "outputs": [
    {
     "data": {
      "text/plain": [
       "array([['1', '1', 'James'],\n",
       "       ['2', '1', 'George'],\n",
       "       ['3', '3', 'Amy'],\n",
       "       ['4', '3', 'Meehir']], dtype='<U21')"
      ]
     },
     "execution_count": 33,
     "metadata": {},
     "output_type": "execute_result"
    }
   ],
   "source": [
    "np.delete(classroom_data,1,axis=1)"
   ]
  },
  {
   "cell_type": "markdown",
   "id": "17f795df-8929-46e8-b071-209e295d7994",
   "metadata": {},
   "source": [
    "- If no axis is specified, NumPy deletes the indicated index or indices along a flattened version of the array."
   ]
  },
  {
   "cell_type": "code",
   "execution_count": 34,
   "id": "e66f8e9a-4e93-4648-937b-0c07130e5a0d",
   "metadata": {},
   "outputs": [
    {
     "data": {
      "text/plain": [
       "array(['1', '1', 'James', '2', '21', '1', 'George', '3', '27', '3', 'Amy',\n",
       "       '4', '26', '3', 'Meehir'], dtype='<U21')"
      ]
     },
     "execution_count": 34,
     "metadata": {},
     "output_type": "execute_result"
    }
   ],
   "source": [
    "np.delete(classroom_data,1)"
   ]
  }
 ],
 "metadata": {
  "kernelspec": {
   "display_name": "Python 3 (ipykernel)",
   "language": "python",
   "name": "python3"
  },
  "language_info": {
   "codemirror_mode": {
    "name": "ipython",
    "version": 3
   },
   "file_extension": ".py",
   "mimetype": "text/x-python",
   "name": "python",
   "nbconvert_exporter": "python",
   "pygments_lexer": "ipython3",
   "version": "3.12.6"
  }
 },
 "nbformat": 4,
 "nbformat_minor": 5
}
