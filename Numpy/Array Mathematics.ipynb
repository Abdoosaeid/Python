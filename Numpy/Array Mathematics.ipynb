{
 "cells": [
  {
   "cell_type": "markdown",
   "id": "6821d714-8eda-43cd-83ec-c116fd40839b",
   "metadata": {},
   "source": [
    "# Summarizing data"
   ]
  },
  {
   "cell_type": "markdown",
   "id": "26299884-3ecc-4c91-b540-80af6c0cfcf6",
   "metadata": {},
   "source": [
    "- .sum()\n",
    "- .min()\n",
    "- .max()\n",
    "- .mean()\n",
    "- .cumsum()"
   ]
  },
  {
   "cell_type": "code",
   "execution_count": 1,
   "id": "752d040d-9333-4953-82d2-5dd3d90f8876",
   "metadata": {},
   "outputs": [],
   "source": [
    "import numpy as np\n",
    "security_breaches = np.array([[0, 5, 1],\n",
    "        [0, 2, 0],\n",
    "        [1, 1, 2],\n",
    "        [2, 2, 1],\n",
    "        [0, 0, 0]])"
   ]
  },
  {
   "cell_type": "code",
   "execution_count": 3,
   "id": "b916a916-e48a-4972-98c6-4748695227b6",
   "metadata": {},
   "outputs": [
    {
     "data": {
      "text/plain": [
       "np.int64(17)"
      ]
     },
     "execution_count": 3,
     "metadata": {},
     "output_type": "execute_result"
    }
   ],
   "source": [
    " security_breaches.sum()"
   ]
  },
  {
   "cell_type": "code",
   "execution_count": 4,
   "id": "5e31eaa9-6b6b-4f91-9956-783447331afe",
   "metadata": {},
   "outputs": [
    {
     "data": {
      "text/plain": [
       "array([ 3, 10,  4])"
      ]
     },
     "execution_count": 4,
     "metadata": {},
     "output_type": "execute_result"
    }
   ],
   "source": [
    "security_breaches.sum(axis=0)"
   ]
  },
  {
   "cell_type": "code",
   "execution_count": 5,
   "id": "0a511b31-a57d-4b55-aa40-55d82eab5f29",
   "metadata": {},
   "outputs": [
    {
     "data": {
      "text/plain": [
       "array([6, 2, 4, 5, 0])"
      ]
     },
     "execution_count": 5,
     "metadata": {},
     "output_type": "execute_result"
    }
   ],
   "source": [
    "security_breaches.sum(axis=1)"
   ]
  },
  {
   "cell_type": "code",
   "execution_count": 6,
   "id": "bdaaf45b-4a18-4e4d-944f-44c3955e3b41",
   "metadata": {},
   "outputs": [
    {
     "data": {
      "text/plain": [
       "np.int64(0)"
      ]
     },
     "execution_count": 6,
     "metadata": {},
     "output_type": "execute_result"
    }
   ],
   "source": [
    "security_breaches.min()"
   ]
  },
  {
   "cell_type": "code",
   "execution_count": 7,
   "id": "bb21dc07-ebeb-4a03-a0a5-db40f4842bbe",
   "metadata": {},
   "outputs": [
    {
     "data": {
      "text/plain": [
       "np.int64(5)"
      ]
     },
     "execution_count": 7,
     "metadata": {},
     "output_type": "execute_result"
    }
   ],
   "source": [
    "security_breaches.max()"
   ]
  },
  {
   "cell_type": "code",
   "execution_count": 8,
   "id": "edcab772-60ee-4d8d-9b5f-60f99ffd5914",
   "metadata": {},
   "outputs": [
    {
     "data": {
      "text/plain": [
       "array([0, 0, 1, 1, 0])"
      ]
     },
     "execution_count": 8,
     "metadata": {},
     "output_type": "execute_result"
    }
   ],
   "source": [
    "security_breaches.min(axis=1)"
   ]
  },
  {
   "cell_type": "code",
   "execution_count": 9,
   "id": "b8fc461d-bc1e-42f3-9236-99924a21d137",
   "metadata": {},
   "outputs": [
    {
     "data": {
      "text/plain": [
       "array([0, 0, 0])"
      ]
     },
     "execution_count": 9,
     "metadata": {},
     "output_type": "execute_result"
    }
   ],
   "source": [
    "security_breaches.min(axis=0)"
   ]
  },
  {
   "cell_type": "code",
   "execution_count": 10,
   "id": "96d6e702-dc40-41a9-9597-ea77a6f836d2",
   "metadata": {},
   "outputs": [
    {
     "data": {
      "text/plain": [
       "array([5, 2, 2, 2, 0])"
      ]
     },
     "execution_count": 10,
     "metadata": {},
     "output_type": "execute_result"
    }
   ],
   "source": [
    "security_breaches.max(axis=1)"
   ]
  },
  {
   "cell_type": "code",
   "execution_count": 11,
   "id": "21b3cfdf-aeb6-4b73-9727-2a6c030668c6",
   "metadata": {},
   "outputs": [
    {
     "data": {
      "text/plain": [
       "array([2, 5, 2])"
      ]
     },
     "execution_count": 11,
     "metadata": {},
     "output_type": "execute_result"
    }
   ],
   "source": [
    "security_breaches.max(axis=0)"
   ]
  },
  {
   "cell_type": "code",
   "execution_count": 12,
   "id": "ddc2da56-b538-42cc-898d-76aed8bb9e34",
   "metadata": {},
   "outputs": [
    {
     "data": {
      "text/plain": [
       "np.float64(1.1333333333333333)"
      ]
     },
     "execution_count": 12,
     "metadata": {},
     "output_type": "execute_result"
    }
   ],
   "source": [
    "security_breaches.mean()"
   ]
  },
  {
   "cell_type": "code",
   "execution_count": 14,
   "id": "c845c0ff-7bb5-4d31-8681-5cfca3cb33da",
   "metadata": {},
   "outputs": [
    {
     "data": {
      "text/plain": [
       "array([2.        , 0.66666667, 1.33333333, 1.66666667, 0.        ])"
      ]
     },
     "execution_count": 14,
     "metadata": {},
     "output_type": "execute_result"
    }
   ],
   "source": [
    "security_breaches.mean(axis=1)"
   ]
  },
  {
   "cell_type": "markdown",
   "id": "779f4c05-ea0e-4d1a-a06a-ae61526d2115",
   "metadata": {},
   "source": [
    "security_breaches.mean(axis=0)"
   ]
  },
  {
   "cell_type": "code",
   "execution_count": 18,
   "id": "323bb634-8e78-4fde-ab85-e8c74dd6d79f",
   "metadata": {},
   "outputs": [
    {
     "data": {
      "text/plain": [
       "array([[6],\n",
       "       [2],\n",
       "       [4],\n",
       "       [5],\n",
       "       [0]])"
      ]
     },
     "execution_count": 18,
     "metadata": {},
     "output_type": "execute_result"
    }
   ],
   "source": [
    "security_breaches.sum(axis=1,keepdims=True)"
   ]
  },
  {
   "cell_type": "code",
   "execution_count": 19,
   "id": "de0dda34-1135-4d9e-8867-877bd6cb63f1",
   "metadata": {},
   "outputs": [
    {
     "data": {
      "text/plain": [
       "(5, 1)"
      ]
     },
     "execution_count": 19,
     "metadata": {},
     "output_type": "execute_result"
    }
   ],
   "source": [
    "security_breaches.sum(axis=1,keepdims=True).shape"
   ]
  },
  {
   "cell_type": "markdown",
   "id": "7659df5b-f07c-43fd-aba1-dd682a368972",
   "metadata": {},
   "source": [
    "## Cumulative sums"
   ]
  },
  {
   "cell_type": "code",
   "execution_count": 20,
   "id": "718bafba-9369-4b40-bdf0-8feb14bd46ce",
   "metadata": {},
   "outputs": [
    {
     "data": {
      "text/plain": [
       "array([[ 0,  5,  1],\n",
       "       [ 0,  7,  1],\n",
       "       [ 1,  8,  3],\n",
       "       [ 3, 10,  4],\n",
       "       [ 3, 10,  4]])"
      ]
     },
     "execution_count": 20,
     "metadata": {},
     "output_type": "execute_result"
    }
   ],
   "source": [
    "security_breaches.cumsum(axis=0)"
   ]
  },
  {
   "cell_type": "code",
   "execution_count": 21,
   "id": "baf559ed-0fac-4584-8a25-c88b4ee8ed02",
   "metadata": {},
   "outputs": [
    {
     "data": {
      "text/plain": [
       "array([[0, 5, 6],\n",
       "       [0, 2, 2],\n",
       "       [1, 2, 4],\n",
       "       [2, 4, 5],\n",
       "       [0, 0, 0]])"
      ]
     },
     "execution_count": 21,
     "metadata": {},
     "output_type": "execute_result"
    }
   ],
   "source": [
    "security_breaches.cumsum(axis=1)"
   ]
  },
  {
   "cell_type": "markdown",
   "id": "a0c9e77b-55a3-45b5-81bb-3a2b49459038",
   "metadata": {},
   "source": [
    "## Graphing summary values "
   ]
  },
  {
   "cell_type": "code",
   "execution_count": 28,
   "id": "36654e69-f349-4156-87c3-49ff5308124b",
   "metadata": {},
   "outputs": [
    {
     "data": {
      "image/png": "[encoded data removed]",
      "text/plain": [
       "<Figure size 640x480 with 1 Axes>"
      ]
     },
     "metadata": {},
     "output_type": "display_data"
    }
   ],
   "source": [
    "import matplotlib.pyplot as plt\n",
    "\n",
    "cum_sums_by_client = security_breaches.cumsum(axis=0)\n",
    "\n",
    "plt.plot(np.arange(1, 6), cum_sums_by_client[:, 0], label=\"Client 1\")\n",
    "plt.plot(np.arange(1, 6), cum_sums_by_client.mean(axis=1), label=\"Average\")\n",
    "\n",
    "plt.legend()\n",
    "plt.show()"
   ]
  },
  {
   "cell_type": "markdown",
   "id": "c6f221c6-98d1-4954-a178-d9a754d2dc64",
   "metadata": {},
   "source": [
    "# Vectorize python code "
   ]
  },
  {
   "cell_type": "code",
   "execution_count": 29,
   "id": "8d611d31-28f3-4f57-a690-aaa3d8246d5b",
   "metadata": {},
   "outputs": [
    {
     "data": {
      "text/plain": [
       "True"
      ]
     },
     "execution_count": 29,
     "metadata": {},
     "output_type": "execute_result"
    }
   ],
   "source": [
    "array = np.array([\"NumPy\",\"is\",\"awesome\"])\n",
    "len(array) > 2"
   ]
  },
  {
   "cell_type": "code",
   "execution_count": 30,
   "id": "bf4f079f-c03c-4bc5-b130-0668f50abae4",
   "metadata": {},
   "outputs": [],
   "source": [
    "vectorized_len = np.vectorize(len)"
   ]
  },
  {
   "cell_type": "code",
   "execution_count": 31,
   "id": "5d9189a9-3171-48c1-a074-f7ae04774aab",
   "metadata": {},
   "outputs": [
    {
     "data": {
      "text/plain": [
       "array([ True, False,  True])"
      ]
     },
     "execution_count": 31,
     "metadata": {},
     "output_type": "execute_result"
    }
   ],
   "source": [
    "vectorized_len(array) > 2"
   ]
  },
  {
   "cell_type": "code",
   "execution_count": null,
   "id": "71009b18-8e79-40ee-be61-c1bbf414faac",
   "metadata": {},
   "outputs": [],
   "source": []
  }
 ],
 "metadata": {
  "kernelspec": {
   "display_name": "Python 3 (ipykernel)",
   "language": "python",
   "name": "python3"
  },
  "language_info": {
   "codemirror_mode": {
    "name": "ipython",
    "version": 3
   },
   "file_extension": ".py",
   "mimetype": "text/x-python",
   "name": "python",
   "nbconvert_exporter": "python",
   "pygments_lexer": "ipython3",
   "version": "3.12.6"
  }
 },
 "nbformat": 4,
 "nbformat_minor": 5
}
